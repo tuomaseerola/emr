{
 "cells": [
  {
   "cell_type": "markdown",
   "id": "e27e8387",
   "metadata": {},
   "source": [
    "<a href=\"https://colab.research.google.com/github/tuomaseerola/emr/blob/master/Chapter1.ipynb\" target=\"_parent\"><img src=\"https://colab.research.google.com/assets/colab-badge.svg\" alt=\"Open In Colab\"/></a>"
   ]
  },
  {
   "cell_type": "markdown",
   "id": "596717f5",
   "metadata": {},
   "source": [
    "# Chapter 1 \n",
    "\n",
    "A Jupyter notebook with code examples in R for _Chapter 1_ of _Routledge_ book titled **[How to Conduct Empirical Music Research](https://github.com/tuomaseerola/emr)** by [Tuomas Eerola](https://www.durham.ac.uk/staff/tuomas-eerola/), [Music and Science Lab]() at [Durham University](https://www.durham.ac.uk) and [Music and Science Lab](https://musicscience.net) scheduled to be published in 2023.\n",
    "\n",
    "To run the code in your browser, open the file in Colab (click the icon \"Open in Colab\"). Alternatively, you can download the notebook and run it locally.\n",
    "\n",
    "This notebook demonstrates how to bring your own csv data into the colab and use them in the analysis and how to save figures or tables within the colab.  \n",
    "\n",
    "File `Ch1_examples.ipynb` | Version `11/9/2022` | [Back to Index](https://github.com/tuomaseerola/emr)\n",
    "\n",
    "---"
   ]
  },
  {
   "cell_type": "markdown",
   "id": "6ef86a10",
   "metadata": {},
   "source": [
    "## Preliminaries\n",
    "To install the `MusicScienceData` package that contains several example datasets used in this book, run the following command."
   ]
  },
  {
   "cell_type": "code",
   "execution_count": 1,
   "id": "10b69811",
   "metadata": {},
   "outputs": [
    {
     "name": "stderr",
     "output_type": "stream",
     "text": [
      "Loading required package: devtools\n",
      "\n",
      "Loading required package: usethis\n",
      "\n",
      "Skipping install of 'MusicScienceData' from a github remote, the SHA1 (9f292fbe) has not changed since last install.\n",
      "  Use `force = TRUE` to force installation\n",
      "\n"
     ]
    }
   ],
   "source": [
    "if (!require(devtools)) install.packages(\"devtools\")\n",
    "devtools::install_github(\"tuomaseerola/MusicScienceData\",quiet=TRUE)"
   ]
  },
  {
   "cell_type": "markdown",
   "id": "b58c9e87",
   "metadata": {},
   "source": [
    "## Code 1.1\n",
    "This is the first R code example."
   ]
  },
  {
   "cell_type": "code",
   "execution_count": 2,
   "id": "a8be6573",
   "metadata": {},
   "outputs": [
    {
     "data": {
      "text/plain": "\n\tPearson's product-moment correlation\n\ndata:  data$Energy and data$Tension\nt = 7.3396, df = 108, p-value = 4.222e-11\nalternative hypothesis: true correlation is not equal to 0\n95 percent confidence interval:\n 0.4368271 0.6896336\nsample estimates:\n     cor \n0.576884 \n"
     },
     "metadata": {},
     "output_type": "display_data"
    }
   ],
   "source": [
    "# Code 1.1\n",
    "library(MusicScienceData)             # loads library w data\n",
    "data <- MusicScienceData::soundtrack  # pick data\n",
    "cor.test(data$Energy,                 # calc. correlation\n",
    "         data$Tension)"
   ]
  },
  {
   "cell_type": "code",
   "execution_count": 3,
   "outputs": [],
   "source": [],
   "metadata": {
    "collapsed": false
   }
  }
 ],
 "metadata": {
  "kernelspec": {
   "display_name": "R",
   "language": "R",
   "name": "ir"
  },
  "language_info": {
   "codemirror_mode": "r",
   "file_extension": ".r",
   "mimetype": "text/x-r-source",
   "name": "R",
   "pygments_lexer": "r",
   "version": "3.6.0"
  }
 },
 "nbformat": 4,
 "nbformat_minor": 5
}

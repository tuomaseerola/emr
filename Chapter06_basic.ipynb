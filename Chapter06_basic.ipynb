{
  "cells": [
    {
      "cell_type": "markdown",
      "metadata": {
        "colab_type": "text",
        "id": "view-in-github"
      },
      "source": [
        "<a href=\"https://colab.research.google.com/github/tuomaseerola/emr/blob/main/Chapter_06.ipynb\" target=\"_parent\"><img src=\"https://colab.research.google.com/assets/colab-badge.svg\" alt=\"Open In Colab\"/></a>"
      ]
    },
    {
      "cell_type": "markdown",
      "metadata": {
        "id": "Ja3oOuzSOQTy"
      },
      "source": [
        "# Chapter 6 Basic Statistical Analysis Code\n",
        "\n",
        "A Jupyter notebook with code examples in R for _Chapter 6 (statistical analysis)_ of _Routlegde_ book titled **[How to Conduct Empirical Music Research](https://github.com/tuomaseerola/emr)** by [Tuomas Eerola](https://www.durham.ac.uk/staff/tuomas-eerola/), [Music and Science Lab]() at [Durham University](https://www.durham.ac.uk) and [Music and Science Lab](https://musicscience.net) scheduled to be published in 2023.\n",
        "\n",
        "To run the code in your browser, open the file in Colab (click the icon \"Open in Colab\"). Alternatively, you can download the notebook and run it locally.\n",
        "\n",
        ">File: `Chapter06_basic.ipynb`\n",
        ">Version: `3/9/2022`\n"
      ]
    },
    {
      "cell_type": "markdown",
      "metadata": {
        "id": "jX6nFy8sjBVt"
      },
      "source": [
        "Run the block below first (click play button on the left corner). This activates two useful libraries for R."
      ]
    },
    {
      "cell_type": "code",
      "execution_count": null,
      "metadata": {
        "id": "Bvvp3u_SNzdM",
        "vscode": {
          "languageId": "r"
        }
      },
      "outputs": [],
      "source": [
        "library(tidyverse)\n",
        "library(ggplot2)\n",
        "install.packages(\"cowplot\")\n",
        "install.packages(\"Hmisc\")\n",
        "devtools::install_github(\"tuomaseerola/MusicScienceData\")"
      ]
    },
    {
      "cell_type": "markdown",
      "metadata": {
        "id": "o03TjO7HaHy6"
      },
      "source": [
        "### Ch6_Ex01.R\n",
        "Create a scatterplot from an existing data."
      ]
    },
    {
      "cell_type": "code",
      "execution_count": null,
      "metadata": {
        "id": "nAZ54F1dUsRZ",
        "vscode": {
          "languageId": "r"
        }
      },
      "outputs": [],
      "source": [
        "library(MusicScienceData)               # loads library w data\n",
        "ggplot(MusicScienceData::soundtrack,    # defines the data\n",
        "       aes(x=Valence,y=Energy,colour=TARGET_EMOTION))+ # variables\n",
        "  geom_point()+                         # plots points\n",
        "  theme_MusicScience()                  # applies style\n"
      ]
    },
    {
      "cell_type": "markdown",
      "metadata": {
        "id": "X3cgOCDxdv2C"
      },
      "source": [
        "### Ch6_Ex02.R\n",
        "Create a histogram with music and sadness data."
      ]
    },
    {
      "cell_type": "code",
      "execution_count": null,
      "metadata": {
        "id": "Ibi7FHkCdqBU",
        "vscode": {
          "languageId": "r"
        }
      },
      "outputs": [],
      "source": [
        "g1 <- sadness %>% \n",
        "  drop_na(ASM25) %>%   # drop missing values \n",
        "  ggplot(aes(x = ASM25))+\n",
        "  geom_histogram(bins=7,fill=\"grey50\", colour='black')+\n",
        "  scale_x_continuous(breaks = seq(1,7,by=1))+ \n",
        "  ggtitle(sadness_ASM_labels[25])+\n",
        "  ylab('Count')+\n",
        "  xlab('1 = Strongly disagree, 7 = Strongly agree')+\n",
        "  theme_MusicScience()\n",
        "g1"
      ]
    },
    {
      "cell_type": "markdown",
      "metadata": {
        "id": "5hWjiD-RecZ7"
      },
      "source": [
        "### Ch6_Ex03.R\n",
        "Create four histograms with music and sadness data."
      ]
    },
    {
      "cell_type": "code",
      "execution_count": null,
      "metadata": {
        "id": "wXoSNsaAeiAz",
        "vscode": {
          "languageId": "r"
        }
      },
      "outputs": [],
      "source": [
        "d<-MusicScienceData::priming\n",
        "\n",
        "g1<-ggplot(d,aes(x=RT))+\n",
        "  geom_histogram(binwidth=100,colour='grey50',fill='white')+\n",
        "  ggtitle('Bin width 100')+\n",
        "  ylab('Count')+\n",
        "  xlab('Reaction time (ms)')+\n",
        "  scale_x_continuous(breaks=seq(0,2000,by=400))\n",
        "\n",
        "\n",
        "g2<-ggplot(d,aes(x=RT))+\n",
        "  geom_histogram(binwidth=10,colour='grey50',fill='white')+\n",
        "  ggtitle('Bin width 10')+\n",
        "  ylab('Count')+\n",
        "  xlab('Reaction time (ms)')+\n",
        "  scale_x_continuous(breaks=seq(0,2000,by=400))\n",
        "\n",
        "g3<-ggplot(dplyr::filter(d,RT>200 & RT<1500),aes(x=RT))+\n",
        "  geom_histogram(binwidth=10,colour='grey50',fill='white')+\n",
        "  ggtitle('Bin width 10 with trimming')+\n",
        "  ylab('Count')+\n",
        "  xlab('Reaction time (ms)')+\n",
        "  scale_x_continuous(breaks=seq(200,1500,by=200),limits = c(0,2000))+\n",
        "  geom_vline(xintercept = c(200,1500),linetype='dashed')\n",
        "\n",
        "\n",
        "g4<-ggplot(dplyr::filter(d,RT>200 & RT<1500),aes(x=RT))+\n",
        "  geom_histogram(binwidth=10,colour='grey50',fill='white')+\n",
        "  geom_density(aes(y=10 * ..count..),alpha=0.5,colour='black',fill=NA)+\n",
        "  ggtitle('Bin width 10 density with trimming')+\n",
        "  ylab('Count')+\n",
        "  xlab('Reaction time (ms)')+\n",
        "  scale_x_continuous(breaks=seq(200,1500,by=200))\n",
        "\n",
        "\n",
        "library(cowplot)\n",
        "G <- plot_grid(g1, g2, g3, g4, nrow = 2,labels=\"AUTO\")\n",
        "print(G)"
      ]
    },
    {
      "cell_type": "markdown",
      "metadata": {
        "id": "wmeGU5PGin9f"
      },
      "source": [
        "### Ch6_Ex04.R\n",
        "Create a boxplot with music and sadness data."
      ]
    },
    {
      "cell_type": "code",
      "execution_count": null,
      "metadata": {
        "id": "SQIqXIriV0ba",
        "vscode": {
          "languageId": "r"
        }
      },
      "outputs": [],
      "source": [
        "g2 <- MusicScienceData::sadness %>% \n",
        "  drop_na(ASM25) %>%   # drop missing values \n",
        "  ggplot(aes(y = ASM25))+\n",
        "  geom_boxplot(fill='gray50')+\n",
        "  scale_y_continuous(breaks = seq(1,7,by=1),expand=c(0.02,0.02))+\n",
        "  scale_x_discrete()+\n",
        "  coord_flip()+\n",
        "  annotate(\"segment\",x=.55,xend=0.55,y=5,yend=7,arrow = arrow(ends = \"both\",length = unit(.2,\"cm\")),colour='gray30')+\n",
        "  annotate(\"text\",x=.8,y=6,label='Interquartile range (IQR)',hjust=0.5,colour=\"gray30\")+\n",
        "  annotate(\"text\",x=.8,y=2,label='Minimum (Q1 - 1.5*IQR)',hjust=0,colour=\"gray30\")+\n",
        "  annotate(\"text\",x=-.65,y=6,label='Median',hjust=0.5,colour=\"gray30\")+\n",
        "  annotate(\"text\",x=-.65,y=5,label='Q1',hjust=0.5,colour=\"gray30\")+\n",
        "  annotate(\"text\",x=-.95,y=5,label='(25th percentile)',hjust=0.5,size=3,colour=\"gray30\")+\n",
        "  annotate(\"text\",x=-.65,y=7,label='Q3',hjust=0.5,colour=\"gray30\")+\n",
        "  annotate(\"text\",x=-.95,y=7,label='(75th percentile)',hjust=1.0,size=3,colour=\"gray30\")+\n",
        "  annotate(\"segment\",x=.70,xend=0.10,y=2,yend=2,arrow = arrow(length = unit(.2,\"cm\")),colour='gray30')+\n",
        "  annotate(\"text\",x=.8,y=1,label='Outliers',hjust=0,colour=\"gray30\")+\n",
        "  annotate(\"segment\",x=.70,xend=0.10,y=1,yend=1,arrow = arrow(length = unit(.2,\"cm\")),colour='gray30')+\n",
        "  ggtitle(MusicScienceData::sadness_ASM_labels[25])+\n",
        "  ylab('1 = Strongly disagree, 7 = Strongly agree')+\n",
        "  xlab('')\n",
        "print(g2)\n"
      ]
    },
    {
      "cell_type": "markdown",
      "metadata": {
        "id": "EMxRc7YRisuv"
      },
      "source": [
        "### Ch6_Ex05.R\n",
        "Boxplot with a grouping variable (gender)."
      ]
    },
    {
      "cell_type": "code",
      "execution_count": null,
      "metadata": {
        "id": "IlKpFIlJU3mb",
        "vscode": {
          "languageId": "r"
        }
      },
      "outputs": [],
      "source": [
        "g5 <- sadness %>% \n",
        "  drop_na(ASM25) %>%   # drop missing values \n",
        "  ggplot(aes(y = ASM25,fill=gender))+\n",
        "  geom_boxplot()+\n",
        "  scale_y_continuous(breaks = seq(1,7,by=1))+\n",
        "  scale_x_discrete()+\n",
        "  scale_fill_grey(start = .4,end = .8,name='Gender')+\n",
        "  ylab('1 = Strongly disagree,\\n 7 = Strongly agree')\n",
        "print(g5)"
      ]
    },
    {
      "cell_type": "markdown",
      "metadata": {
        "id": "tidB8tYojVcJ"
      },
      "source": []
    },
    {
      "cell_type": "markdown",
      "metadata": {
        "id": "aYhNtjaFakqT"
      },
      "source": [
        "### Ch6_Ex06.R\n",
        "Means and confidence intervals."
      ]
    },
    {
      "cell_type": "code",
      "execution_count": null,
      "metadata": {
        "id": "xPDvOoKKfqqc",
        "vscode": {
          "languageId": "r"
        }
      },
      "outputs": [],
      "source": [
        "g6 <- sadness %>% \n",
        "  drop_na(ASM20) %>%   # drop missing values \n",
        "  group_by(gender) %>%\n",
        "  summarise(mean= mean(ASM20),ci = mean_cl_normal(ASM20)) %>% \n",
        "  ggplot(aes(x = gender,y = mean,fill=gender))+\n",
        "  geom_col(colour='black',show.legend = FALSE)+\n",
        "  geom_errorbar(aes(ymin=ci$ymin,ymax=ci$ymax),width=0.5)+\n",
        "  scale_y_continuous(breaks = seq(1,7,by=1), expand = c(0,0))+\n",
        "  scale_fill_grey(start=.25,end=.75)+\n",
        "  coord_cartesian(ylim = c(1, 7)) +\n",
        "  ylab('Mean ± 95% CI')+\n",
        "  xlab('Gender')\n",
        "print(g6)"
      ]
    },
    {
      "cell_type": "markdown",
      "metadata": {
        "id": "vL-pgIhef1oV"
      },
      "source": [
        "\n",
        "### Ch6_Ex07.R\n",
        "\n",
        "XXXXX\n"
      ]
    },
    {
      "cell_type": "code",
      "execution_count": null,
      "metadata": {
        "id": "DyUKkOItgFsj",
        "vscode": {
          "languageId": "r"
        }
      },
      "outputs": [],
      "source": [
        "library(dplyr)\n",
        "tmp<-as_tibble(MusicScienceData::sadness)\n",
        "\n",
        "sadness_ASM_labels<-c(\n",
        "  \"ASM1: I listen to sad music only in a certain state of mind\",\n",
        "  \"ASM2: Listening to sad music relaxes me\",\n",
        "  \"ASM3: I regulate my own negative feelings by listening to sad music\",\n",
        "  \"ASM4: Sad music intensifies my own negative feelings\",\n",
        "  \"ASM5: Listening to sad music makes me feel grateful for the things in my life\",\n",
        "  \"ASM6: Sad lyrics are an essential part of the sadness expressed by music\",\n",
        "  \"ASM7: When I listen to sad music, I feel that my own negative feelings are justifiable\",\n",
        "  \"ASM8: When I listen to sad music, I feel that I am not alone with my feelings\",\n",
        "  \"ASM9: Listening to sad music gives me strength\",\n",
        "  \"ASM10: Sad music irritates me\",\n",
        "  \"ASM11: Listening to sad music induces unpleasant feelings in me\",\n",
        "  \"ASM12: Listening to sad music makes me anxious\",\n",
        "  \"ASM13: Listening to sad music makes me tired\",\n",
        "  \"ASM14: I sometimes deliberately seek sadness by listening to sad music\",\n",
        "  \"ASM15: Sad music can make me sad although I felt happy before listening to it\",\n",
        "  \"ASM16: Sad music sounds more genuine to me than happy music\",\n",
        "  \"ASM17: My appreciation of life grows when I listen to sad music\",\n",
        "  \"ASM18: Sad music reminds me that we, as mortal beings, have only a limited amount of time in our lives\",\n",
        "  \"ASM19: The feelings I am experiencing while listening to sad music, are evoked by memories associated with the music\",\n",
        "  \"ASM20: Listening to sad music uplifts me\",\n",
        "  \"ASM21: Feelings induced by sad music are dependent on my current situation in life\",\n",
        "  \"ASM22: I do not want to listen to sad music when I am sad\",\n",
        "  \"ASM23: I listen to sad music when I am sad\",\n",
        "  \"ASM24: Sad music reminds me of the tragedies of my personal life\",\n",
        "  \"ASM25: I easily empathize with the sad atmosphere or narrative conveyed by sad music\")\n",
        "\n",
        "g1 <- MusicScienceData::sadness %>% \n",
        "  drop_na(ASM1) %>%   # drop missing values \n",
        "  ggplot(aes(x= ASM1,color=gender))+\n",
        "  geom_density(adjust=1.25)+\n",
        "  scale_color_grey(name='Gender')+\n",
        "  scale_x_continuous(breaks = seq(1,7,by=1))+\n",
        "  #  scale_x_discrete()+  \n",
        "  ggtitle(sadness_ASM_labels[1])+\n",
        "  ylab('Density')+\n",
        "  theme_bw()+\n",
        "  theme(legend.justification=c(1,0), legend.position=c(0.95,0.75))+\n",
        "  theme(plot.title = element_text(size=11))\n",
        "\n",
        "tmp2<-tmp[,c(3,7:10)]\n",
        "dfl <- pivot_longer(tmp2,cols = c(2:5))\n",
        "\n",
        "g2 <- dfl %>% \n",
        "  drop_na(value) %>%   # drop missing values \n",
        "  ggplot(aes(x=name,y = value,fill=gender))+\n",
        "  geom_boxplot(outlier.shape =\"\")+\n",
        "  scale_y_continuous(breaks = seq(1,7,by=1))+\n",
        "  scale_x_discrete()+\n",
        "  scale_fill_grey(start = .75, end=.25, name=\"Gender\")+\n",
        "  ggtitle('ASM items 1 to 4')+\n",
        "  ylab('1 = Strongly disagree, 7 = Strongly agree')+\n",
        "  xlab('Item')+\n",
        "  theme_bw()+\n",
        "  theme(legend.justification=c(1,0), legend.position=c(0.95,0.70))\n",
        "\n",
        "g3 <- MusicScienceData::sadness %>% \n",
        "  drop_na(ASM12) %>%   # drop missing values \n",
        "  ggplot(aes(x=1,y = ASM12))+\n",
        "  geom_boxplot(fill='gray70')+\n",
        "  geom_jitter(alpha=0.13,colour='black', width = 0.33)+\n",
        "  scale_y_continuous(breaks = seq(1,7,by=1))+\n",
        "  scale_x_discrete()+  \n",
        "  ggtitle(sadness_ASM_labels[12])+\n",
        "  ylab('1 = Strongly disagree, 7 = Strongly agree')+\n",
        "  xlab('ASM12')+\n",
        "  theme_bw()\n",
        "\n",
        "g4 <- MusicScienceData::sadness %>% \n",
        "  drop_na(ASM13) %>%   # drop missing values \n",
        "  ggplot(aes(x=1,y = ASM13))+\n",
        "  geom_violin(fill='grey70',adjust=1.2,alpha=0.50)+\n",
        "  scale_y_continuous(breaks = seq(1,7,by=1))+\n",
        "  scale_x_discrete()+  \n",
        "  stat_summary(fun = median, fun.min = median, fun.max = median,\n",
        "               geom = \"crossbar\", width = 0.9)+\n",
        "  stat_summary(fun = mean, fun.min = mean, fun.max = mean,\n",
        "               geom = \"crossbar\", width = 0.9,colour='gray50')+\n",
        "  ggtitle(sadness_ASM_labels[13])+\n",
        "  annotate(\"text\",x=1.6,y=mean(MusicScienceData::sadness$ASM13,na.rm = TRUE),label='Mean',hjust=0,family = \"CMU Serif\")+\n",
        "  annotate(\"text\",x=1.6,y=median(MusicScienceData::sadness$ASM13,na.rm = TRUE),label='Median',hjust=0,family = \"CMU Serif\")+\n",
        "  ylab('1 = Strongly disagree, 7 = Strongly agree')+\n",
        "  xlab('ASM13')+\n",
        "  theme_bw()\n",
        "\n",
        "\n",
        "G1 <- plot_grid(g1,g2,g3,g4,labels = \"AUTO\",ncol = 2, nrow = 2)\n",
        "print(G1)\n"
      ]
    },
    {
      "cell_type": "markdown",
      "metadata": {
        "id": "IQjaqjCUj1X4"
      },
      "source": []
    },
    {
      "cell_type": "markdown",
      "metadata": {
        "id": "eFkegMzYZZUx"
      },
      "source": [
        "### Ch6_Ex08.R\n",
        "XXXXX"
      ]
    },
    {
      "cell_type": "code",
      "execution_count": null,
      "metadata": {
        "id": "CBYtAqudZb3X",
        "vscode": {
          "languageId": "r"
        }
      },
      "outputs": [],
      "source": [
        "g1 <- MusicScienceData::sadness %>% \n",
        "  drop_na(ASM20) %>%   # drop missing values \n",
        "  group_by(gender) %>%\n",
        "  summarise(mean= mean(ASM20),ci = mean_cl_normal(ASM20)) %>%\n",
        "  ggplot(aes(x = gender,y = mean,fill=gender))+\n",
        "  geom_col(colour='black',show.legend = FALSE)+\n",
        "  geom_errorbar(aes(ymin=ci$ymin,ymax=ci$ymax),width=0.5)+\n",
        "  scale_y_continuous(breaks = seq(1,7,by=1), expand = c(0,0))+\n",
        "  scale_fill_grey(start=.25,end=.75)+\n",
        "  coord_cartesian(ylim = c(1, 7)) +\n",
        "  ggtitle(MusicScienceData::sadness_ASM_labels[20])+\n",
        "  ylab('Mean')+\n",
        "  xlab('Gender')\n",
        "g1\n",
        "\n"
      ]
    },
    {
      "cell_type": "markdown",
      "metadata": {
        "id": "pzJNz6Vtu8pi"
      },
      "source": [
        "### Ch6_Ex09.R"
      ]
    },
    {
      "cell_type": "code",
      "execution_count": null,
      "metadata": {
        "id": "vRvQttIJu_Ez",
        "vscode": {
          "languageId": "r"
        }
      },
      "outputs": [],
      "source": [
        "library(tidyverse)\n",
        "\n",
        "g1<-drop_na(MusicScienceData::sadness) %>% \n",
        "  ggplot(aes(x = gender, y = ASM20)) +\n",
        "  stat_summary(fun.data = \"mean_cl_normal\")+\n",
        "  #scale_y_continuous(limits = c(0,10))+ \n",
        "  ggtitle(MusicScienceData::sadness_ASM_labels[20])+\n",
        "  ylab('Mean')+\n",
        "  xlab('Gender')+\n",
        "  theme_bw()\n",
        "\n",
        "g1  \n",
        "\n"
      ]
    },
    {
      "cell_type": "code",
      "execution_count": null,
      "metadata": {
        "id": "i9iwyo2fwmoH",
        "vscode": {
          "languageId": "r"
        }
      },
      "outputs": [],
      "source": [
        "tmp<-MusicScienceData::sadness\n",
        "\n",
        "tmp$expert<-factor(tmp$expert)\n",
        "tmp$expert<-factor(tmp$expert,levels=c('Amat.','MusicL','NM','Pro','Semi-pro'),labels=c('Nonmusician','Music-lover','Amateur musician','Semi-pro musician','Professional musician'))\n",
        "\n",
        "g2<-tmp %>% \n",
        "  drop_na(ASM6) %>%   # drop missing values \n",
        "  ggplot(aes(x = expert, y = ASM6)) +\n",
        "  stat_summary(fun = \"mean\", geom = \"bar\", alpha = .7) +\n",
        "  stat_summary(fun = \"mean\", geom = \"point\", \n",
        "               size = 1) +\n",
        "  stat_summary(fun.data = \"mean_cl_normal\",\n",
        "               geom = \"errorbar\",\n",
        "               width = .5) +\n",
        "  ylab('Mean Rating ± 95% CI')+\n",
        "  ggtitle(MusicScienceData::sadness_ASM_labels[6])+\n",
        "  scale_x_discrete(labels=function(x){sub(\"\\\\s\", \"\\n\", x)},name=\"Musical Expertise\")+\n",
        "  coord_cartesian(ylim = c(1, 7)) +\n",
        "  scale_y_continuous(breaks = 1:7, expand = c(0,0))+\n",
        "  theme_MusicScience()+\n",
        "  theme(plot.title = element_text(size=11))\n",
        "g2\n",
        "\n"
      ]
    },
    {
      "cell_type": "code",
      "execution_count": null,
      "metadata": {
        "id": "7vWd6QNPwrnH",
        "vscode": {
          "languageId": "r"
        }
      },
      "outputs": [],
      "source": [
        "table1<-tmp %>%\n",
        "  drop_na(ASM20) %>%   # drop missing values \n",
        "  group_by(gender) %>%\n",
        "  summarise(n=n(),mean_cl_normal(ASM20))\n",
        "colnames(table1)<-c('Gender','N','M','95% CI LL','95% CI UL')\n",
        "knitr::kable(table1,digits = 2)  \n",
        "\n"
      ]
    },
    {
      "cell_type": "code",
      "execution_count": null,
      "metadata": {
        "id": "v5R6n0wUw68P",
        "vscode": {
          "languageId": "r"
        }
      },
      "outputs": [],
      "source": [
        "g1 <- MusicScienceData::sadness %>% \n",
        "  drop_na(ASM20) %>%   # drop missing values \n",
        "  group_by(gender) %>%\n",
        "  summarise(mean= mean(ASM20),ci = mean_cl_normal(ASM20)) %>%\n",
        "  ggplot(aes(x = gender,y = mean,fill=gender))+\n",
        "  geom_col(colour='black',show.legend = FALSE)+\n",
        "  geom_errorbar(aes(ymin=ci$ymin,ymax=ci$ymax),width=0.5)+\n",
        "  scale_y_continuous(breaks = seq(1,7,by=1), expand = c(0,0))+\n",
        "  scale_fill_grey(start=.25,end=.75)+\n",
        "  coord_cartesian(ylim = c(1, 7)) +\n",
        "  ggtitle(MusicScienceData::sadness_ASM_labels[20])+\n",
        "  ylab('Mean')+\n",
        "  xlab('Gender')+\n",
        "  theme_MusicScience()\n",
        "g1\n"
      ]
    },
    {
      "cell_type": "markdown",
      "metadata": {
        "id": "BsqLQnOFvBph"
      },
      "source": [
        "### Ch6_Ex10.R\n",
        "Something here."
      ]
    },
    {
      "cell_type": "code",
      "execution_count": null,
      "metadata": {
        "id": "iYH0wWJyvFN_",
        "vscode": {
          "languageId": "r"
        }
      },
      "outputs": [],
      "source": [
        "g9 <- ggplot(soundtrack) +\n",
        "  aes(x = Valence, y = Tension, colour = TARGET_EMOTION,\n",
        "      label=Number,\n",
        "      shape= TARGET_FRAMEWORK) +\n",
        "  geom_point(size=4,alpha=0.80,show.legend=FALSE) +\n",
        "  coord_fixed(ratio = 1)+\n",
        "  geom_smooth(aes(shape = NULL,colour=NULL),method=\"lm\", \n",
        "              formula='y ~x',se=FALSE, fullrange=TRUE, \n",
        "              level=0.95, colour='grey50',\n",
        "              linetype='dashed',show.legend = FALSE)+\n",
        "  geom_text(show.legend=FALSE,color='white',size=1.7)+\n",
        "  scale_colour_grey(name='Emotion',start = .6,end = 0)+  \n",
        "  scale_shape(name='Framework')+  \n",
        "  scale_x_continuous(breaks=seq(1,9,by=2),limits=c(1,9))+\n",
        "  scale_y_continuous(breaks=seq(1,9,by=2),limits=c(1,9))+\n",
        "  theme_MusicScience()\n",
        "print(g9)\n"
      ]
    },
    {
      "cell_type": "markdown",
      "metadata": {
        "id": "3NTzzFtbvGiV"
      },
      "source": [
        "### Ch6_Ex11.R\n",
        "Explanation here."
      ]
    },
    {
      "cell_type": "code",
      "execution_count": null,
      "metadata": {
        "id": "aey4F0-yvJiP",
        "vscode": {
          "languageId": "r"
        }
      },
      "outputs": [],
      "source": [
        "# Ch6_Ex11.R\n",
        "# R example: transformation \n",
        "# Part of EMR 2023, Tuomas Eerola\n",
        "# Available at: \n",
        "\n",
        "library(ggplot2)\n",
        "d <- MusicScienceData::priming\n",
        "\n",
        "#### Transformation ------\n",
        "\n",
        "# Raw\n",
        "g1 <- ggplot(d,aes(RT))+\n",
        "  geom_histogram(fill='white',colour='black')+\n",
        "  ggtitle('Raw')+\n",
        "  xlab('Time (ms)')+\n",
        "  scale_y_continuous(expand = c(0.01,0.01))+\n",
        "#  scale_x_continuous(limits = c(0,2020))+\n",
        "  theme_MusicScience()\n",
        "\n",
        "d$RT_log<-log(d$RT)\n",
        "\n",
        "Q <- quantile(d$RT_log,c(0.25,0.75),na.rm = T)\n",
        "        \n",
        "iqr <- IQR(d$RT_log,na.rm = T)\n",
        "lower <- Q[1] - iqr * 1.5\n",
        "upper <- Q[2] + iqr * 1.5\n",
        "\n",
        "d$RT_log[d$RT_log<lower]<-NA\n",
        "d$RT_log[d$RT_log>upper]<-NA\n",
        "\n",
        "# Log-transformed\n",
        "g2 <- ggplot(d,aes(log(RT)))+\n",
        "  geom_histogram(fill='white',colour='black')+\n",
        "  ggtitle('Log-transformed')+\n",
        "  xlab('log(Time)')+\n",
        "  scale_y_continuous(expand = c(0.01,0.01))+\n",
        "  geom_vline(xintercept = c(lower,upper),linetype='dashed')+\n",
        "  #  scale_x_continuous(limits = c(0,2000))+\n",
        "  theme_MusicScience()\n",
        "\n",
        "g3 <- ggplot(d,aes(RT_log))+\n",
        "  geom_histogram(fill='white',colour='black')+\n",
        "  ggtitle('Log-transformed & trimmed')+\n",
        "  xlab('log(Time)')+\n",
        "#  scale_x_continuous(limits = c(log(1),log(2000)))+\n",
        "  scale_y_continuous(expand = c(0.01,0.01))+\n",
        "  theme_MusicScience()\n",
        "\n",
        "\n",
        "g4 <- ggplot(d,aes(exp(RT_log)))+\n",
        "  geom_histogram(fill='white',colour='black')+\n",
        "  ggtitle('Log-transformed & trimmed (in ms)')+\n",
        "  xlab('Time (ms)')+\n",
        "  scale_x_continuous(limits = c(0,2020),expand = c(0,0))+\n",
        "  scale_y_continuous(expand = c(0.01,0.01))+\n",
        "  theme_MusicScience()\n",
        "\n",
        "library(cowplot)\n",
        "G<-plot_grid(g1,g2,g3,g4,label='AUTO',rows=2,cols=2)\n",
        "print(G)\n"
      ]
    }
  ],
  "metadata": {
    "colab": {
      "collapsed_sections": [],
      "include_colab_link": true,
      "name": "Chapter_06.ipynb",
      "private_outputs": true,
      "provenance": [],
      "toc_visible": true
    },
    "kernelspec": {
      "display_name": "R",
      "name": "ir"
    },
    "language_info": {
      "name": "R"
    }
  },
  "nbformat": 4,
  "nbformat_minor": 0
}

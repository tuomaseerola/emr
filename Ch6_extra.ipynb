{
  "cells": [
    {
      "cell_type": "markdown",
      "metadata": {
        "colab_type": "text",
        "id": "view-in-github"
      },
      "source": [
        "<a href=\"https://colab.research.google.com/github/tuomaseerola/emr/blob/master/Chapter06_extra.ipynb\" target=\"_parent\"><img src=\"https://colab.research.google.com/assets/colab-badge.svg\" alt=\"Open In Colab\"/></a>"
      ]
    },
    {
      "cell_type": "markdown",
      "metadata": {
        "id": "Ja3oOuzSOQTy"
      },
      "source": [
        "# Chapter 6 Extras\n",
        "\n",
        "A Jupyter notebook with code examples in R for _Chapter 6 (Data Analysis)_ of _Routlegde_ book titled **[How to Conduct Empirical Music Research](https://github.com/tuomaseerola/emr)** by [Tuomas Eerola](https://www.durham.ac.uk/staff/tuomas-eerola/), [Music and Science Lab]() at [Durham University](https://www.durham.ac.uk) and [Music and Science Lab](https://musicscience.net) scheduled to be published in 2023.\n",
        "\n",
        "To run the code in your browser, open the file in Colab (click the icon \"Open in Colab\"). Alternatively, you can download the notebook and run it locally.\n",
        "\n",
        "This notebook demonstrates how to bring your own csv data into the colab and use them in the analysis and how to save figures or tables within the colab.  \n",
        "\n",
        "File `Chapter06_extra.ipynb` | Version `10/9/2022` | [Back to Index](https://github.com/tuomaseerola/emr)\n",
        "\n",
        "---"
      ]
    },
    {
      "cell_type": "markdown",
      "metadata": {
        "id": "jX6nFy8sjBVt"
      },
      "source": [
        "If you want to explore your own analyses in _R_ within Colab instead of _RStudio_, you need to be able to bring your own data into the session and also know how to export figures out of session. Both operations require understanding how files are stored temporarily in colab"
      ]
    },
    {
      "cell_type": "raw",
      "metadata": {
        "id": "Bvvp3u_SNzdM"
      },
      "source": [
        "library(ggplot2)\n",
        "data(\"midwest\",package=\"ggplot2\")\n",
        "head(midwest)\n",
        "theme_set(theme_bw())\n",
        "g1 <- ggplot(midwest,aes(x=popblack,y=popwhite))+\n",
        "geom_point()\n",
        "print(g1)"
      ]
    },
    {
      "cell_type": "markdown",
      "metadata": {
        "id": "o03TjO7HaHy6"
      },
      "source": [
        "## Read your own data\n",
        "Bring a csv file (comma-separated) to the colab workspace."
      ]
    },
    {
      "cell_type": "code",
      "execution_count": 3,
      "metadata": {
        "id": "nAZ54F1dUsRZ"
      },
      "outputs": [
        {
          "name": "stderr",
          "output_type": "stream",
          "text": [
            "Warning message in file(file, \"rt\"):\n",
            "“cannot open file 'seminar5.csv': No such file or directory”\n"
          ]
        },
        {
          "ename": "ERROR",
          "evalue": "Error in file(file, \"rt\"): cannot open the connection\n",
          "output_type": "error",
          "traceback": [
            "Error in file(file, \"rt\"): cannot open the connection\nTraceback:\n",
            "1. read.csv(\"seminar5.csv\")",
            "2. read.table(file = file, header = header, sep = sep, quote = quote, \n .     dec = dec, fill = fill, comment.char = comment.char, ...)",
            "3. file(file, \"rt\")"
          ]
        }
      ],
      "source": [
        "d <- read.csv('seminar5.csv') # Read in data that you have brought into the "
      ]
    },
    {
      "cell_type": "markdown",
      "metadata": {},
      "source": [
        "## Export figures\n",
        "After your analyses, you may want to export your figure into your report. "
      ]
    },
    {
      "cell_type": "code",
      "execution_count": null,
      "metadata": {},
      "outputs": [],
      "source": [
        "ggsave(filename='figure1.png',g1,height=5,width=5)"
      ]
    },
    {
      "cell_type": "markdown",
      "metadata": {},
      "source": [
        "You will be able to see this figure in the files within the colab. It will not be there after you terminate the session.\n",
        "\n",
        "Here is a link to how to mount your google drive to colab, which allows you to bring materials the Colab from your drive and also save files to your folders."
      ]
    },
    {
      "cell_type": "markdown",
      "metadata": {},
      "source": [
        "## Notes\n",
        "\n",
        "\n",
        "---\n",
        "[Back to Index](https://github.com/tuomaseerola/emr)\n"
      ]
    }
  ],
  "metadata": {
    "colab": {
      "collapsed_sections": [],
      "include_colab_link": true,
      "name": "Chapter06_extra.ipynb",
      "private_outputs": true,
      "provenance": [],
      "toc_visible": true
    },
    "kernelspec": {
      "display_name": "Python 3.8.5",
      "language": "python",
      "name": "python3"
    },
    "language_info": {
      "codemirror_mode": {
        "name": "ipython",
        "version": 3
      },
      "file_extension": ".py",
      "mimetype": "text/x-python",
      "name": "python",
      "nbconvert_exporter": "python",
      "pygments_lexer": "ipython3",
      "version": "3.8.5"
    },
    "vscode": {
      "interpreter": {
        "hash": "3d402db76eee8c2dae1401db6725a69b9de565aa4108d3209063059e9de38e75"
      }
    }
  },
  "nbformat": 4,
  "nbformat_minor": 0
}

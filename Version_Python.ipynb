{
 "cells": [
  {
   "cell_type": "markdown",
   "source": [
    "<a href=\"https://colab.research.google.com/github/tuomaseerola/emr/blob/master/Version_Python.ipynb\" target=\"_parent\"><img src=\"https://colab.research.google.com/assets/colab-badge.svg\" alt=\"Open In Colab\"/></a>"
   ],
   "metadata": {
    "collapsed": false
   }
  },
  {
   "cell_type": "markdown",
   "source": [
    "# Establish library versions within Colab\n",
    "In December 2022 Colab had:\n",
    "\n",
    "`Python 3.8.16`\n",
    "`matplotlib 3.2.2`\n",
    "`librosa 0.8.1`\n",
    "`numpy 1.21.6`"
   ],
   "metadata": {
    "collapsed": false
   }
  },
  {
   "cell_type": "code",
   "execution_count": null,
   "outputs": [],
   "source": [
    "import platform\n",
    "print('Python version ' + platform.python_version())\n",
    "import matplotlib\n",
    "print('matplotlib version ' + matplotlib.__version__)\n",
    "import librosa\n",
    "import librosa.display\n",
    "print('librosa version ' + librosa.__version__)\n",
    "import numpy as np\n",
    "print('numpy version ' + np.__version__)"
   ],
   "metadata": {
    "collapsed": false,
    "pycharm": {
     "is_executing": true
    }
   }
  },
  {
   "cell_type": "code",
   "execution_count": null,
   "outputs": [],
   "source": [],
   "metadata": {
    "collapsed": false
   }
  }
 ],
 "metadata": {
  "kernelspec": {
   "display_name": "Python 3",
   "language": "python",
   "name": "python3"
  },
  "language_info": {
   "codemirror_mode": {
    "name": "ipython",
    "version": 2
   },
   "file_extension": ".py",
   "mimetype": "text/x-python",
   "name": "python",
   "nbconvert_exporter": "python",
   "pygments_lexer": "ipython2",
   "version": "2.7.6"
  }
 },
 "nbformat": 4,
 "nbformat_minor": 0
}

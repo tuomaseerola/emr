{
  "cells": [
    {
      "cell_type": "markdown",
      "metadata": {
        "colab_type": "text",
        "id": "view-in-github"
      },
      "source": [
        "<a href=\"https://colab.research.google.com/github/tuomaseerola/emr/blob/main/Chapter08_score.ipynb\" target=\"_parent\"><img src=\"https://colab.research.google.com/assets/colab-badge.svg\" alt=\"Open In Colab\"/></a>"
      ]
    },
    {
      "cell_type": "markdown",
      "metadata": {
        "id": "WTO_mMkGJCci"
      },
      "source": [
        "# Chapter 8 Score Analysis Code\n",
        "\n",
        "A Jupyter notebook with code examples in Python for _Chapter 8 (Score Analysis)_ of _Routlegde_ book titled **[How to Conduct Empirical Music Research](https://github.com/tuomaseerola/emr)** by [Tuomas Eerola](https://www.durham.ac.uk/staff/tuomas-eerola/), [Music and Science Lab]() at [Durham University](https://www.durham.ac.uk) and [Music and Science Lab](https://musicscience.net) scheduled to be published in 2023.\n",
        "\n",
        "To run the code in your browser, open the file in **Colab** (click the icon \"Open in Colab\"). Alternatively, you can download the notebook and run it locally.\n",
        "\n",
        "> File `Chapter08_score.ipynb` | \n",
        "> Version `4/9/2022` |\n",
        "> [Back to Index](https://github.com/tuomaseerola/emr)\n",
        "\n",
        "---"
      ]
    },
    {
      "cell_type": "markdown",
      "metadata": {
        "id": "ro3ITnbsq1xQ"
      },
      "source": [
        "### Install Music21 and other elements needed to run the environment\n",
        "Press play and wait for all commands to be executed - this initial command might take some time as it needs to build the musi21 environment."
      ]
    },
    {
      "cell_type": "code",
      "execution_count": null,
      "metadata": {
        "id": "c332sbnEq0qR"
      },
      "outputs": [],
      "source": [
        "!pip install --upgrade music21\n",
        "!add-apt-repository ppa:mscore-ubuntu/mscore-stable -y\n",
        "!apt-get update\n",
        "!apt-get install musescore\n",
        "!apt-get install xvfb\n",
        "!sh -e /etc/init.d/x11-common start\n",
        "import os\n",
        "os.putenv('DISPLAY', ':99.0')\n",
        "!start-stop-daemon --start --pidfile /var/run/xvfb.pid --make-pidfile --background --exec /usr/bin/Xvfb -- :99 -screen 0 1024x768x24 -ac +extension GLX +render -noreset\n",
        "from music21 import *\n",
        "us = environment.UserSettings()\n",
        "us['musescoreDirectPNGPath'] = '/usr/bin/mscore'\n",
        "us['directoryScratch'] = '/tmp'"
      ]
    },
    {
      "cell_type": "markdown",
      "metadata": {
        "id": "7MFTtlxQqh0R"
      },
      "source": [
        "## Ch6_Ex01.py\n",
        "Harmonic and metrical analysis of an example excerpt (`bach/bwv30.6`) using `music21`."
      ]
    },
    {
      "cell_type": "code",
      "execution_count": null,
      "metadata": {
        "id": "r3LSkxYNS5nY"
      },
      "outputs": [],
      "source": [
        "# Ch6_Ex01.py\n",
        "# Part of EMR 2023, Tuomas Eerola\n",
        "# Available at: https://github.com/tuomaseerola/emr/\n",
        "\n",
        "from music21 import *                     # activate library\n",
        "\n",
        "### 1 Select one example from Bach chorales\n",
        "bwv30_6 = corpus.parse('bach/bwv30.6.xml')# Take an example\n",
        "bwv30_6.measures(1, 3).show()             # Display 3 bars\n",
        "### 2 Harmonic analysis\n",
        "bChords = bwv30_6.chordify()              # Slice the chords\n",
        "for c in bChords.recurse().getElementsByClass('Chord'):\n",
        "    c.closedPosition(forceOctave=4, inPlace=True)\n",
        "# Run analysis and add Roman numerals as lyrics\n",
        "for c in bChords.recurse().getElementsByClass('Chord'):\n",
        "    rn = roman.romanNumeralFromChord(c, key.Key('A'))\n",
        "    c.addLyric(str(rn.figure))\n",
        "bChords.measures(0,3).show()             # Display the result\n",
        "### 3 Metrical analysis\n",
        "bass = bwv30_6.getElementById('Bass')    # Get the bass part\n",
        "excerpt = bass.measures(1,3)             # Bar 1 through 3\n",
        "analysis.metrical.labelBeatDepth(excerpt)# Metrical analysis\n",
        "excerpt.show()                           # Display the results"
      ]
    },
    {
      "cell_type": "markdown",
      "metadata": {
        "id": "YqxsiNv7sGAK"
      },
      "source": [
        "## Key-analysis\n",
        "Key-finding algorithm applied to an example excerpt (`bach/bwv30.6`)."
      ]
    },
    {
      "cell_type": "code",
      "execution_count": null,
      "metadata": {
        "id": "MUDVIWdr0Axu"
      },
      "outputs": [],
      "source": [
        "!pip show music21\n",
        "import sys\n",
        "print(sys.version)"
      ]
    },
    {
      "cell_type": "code",
      "execution_count": null,
      "metadata": {
        "id": "b6iKy0JJ_4Ne"
      },
      "outputs": [],
      "source": [
        "import pandas as pd\n",
        "bwv30_6 = corpus.parse('bach/bwv30.6.xml')# 30.6\n",
        "print(bwv30_6.analyze('key.krumhanslkessler'))\n",
        "bwv30_6_3meas = bwv30_6.measures(1,4) # First 3 measures\n",
        "\n",
        "KK = analysis.discrete.KrumhanslKessler() # Key profile\n",
        "wa = analysis.windowed.WindowedAnalysis(bwv30_6_3meas, KK)\n",
        "a,b = wa.analyze(2, windowType='overlap')\n",
        "\n",
        "keyclar=[]; mode=[]; key=[]\n",
        "for x in range(len(a)):\n",
        "    key.append(a[x][0])\n",
        "    mode.append(a[x][1])\n",
        "    keyclar.append(a[x][2])\n",
        "data=pd.DataFrame({'key':key,'mode':mode,'r':keyclar})\n",
        "print(data)"
      ]
    },
    {
      "cell_type": "markdown",
      "metadata": {
        "id": "EZktbnWhHdP2"
      },
      "source": [
        "## Tension\n",
        "Analysis of tonal tension using the model by Herremans and Chew (2016), implemented in `partitura` library for Python."
      ]
    },
    {
      "cell_type": "code",
      "execution_count": null,
      "metadata": {
        "id": "5oDWOSsYHfC_"
      },
      "outputs": [],
      "source": [
        "! pip install partitura\n",
        "import partitura\n",
        "import numpy as np\n"
      ]
    },
    {
      "cell_type": "code",
      "execution_count": null,
      "metadata": {
        "id": "tprmJjaEHywW"
      },
      "outputs": [],
      "source": [
        "!wget https://raw.githubusercontent.com/tuomaseerola/music21/master/bwv306.musicxml"
      ]
    },
    {
      "cell_type": "code",
      "execution_count": null,
      "metadata": {
        "id": "glivVQqRMwu2"
      },
      "outputs": [],
      "source": [
        "part = partitura.load_musicxml('bwv306.musicxml')\n",
        "tonal_tension = partitura.musicanalysis.estimate_tonaltension(part, ss='onset')\n",
        "x = getattr(tonal_tension['onset_beat'][0:50], \"tolist\", lambda: value)()\n",
        "y=tonal_tension['cloud_momentum'][0:50]\n",
        "\n",
        "d = {'beat': x,'tension': y}\n",
        "df = pd.DataFrame(data=d)\n",
        "print(df)\n"
      ]
    }
  ],
  "metadata": {
    "colab": {
      "collapsed_sections": [],
      "include_colab_link": true,
      "name": "Ch8_ScoreAnalysis.ipynb",
      "private_outputs": true,
      "provenance": []
    },
    "kernelspec": {
      "display_name": "Python 3.7.6 ('base')",
      "language": "python",
      "name": "python3"
    },
    "language_info": {
      "name": "python",
      "version": "3.7.6"
    },
    "vscode": {
      "interpreter": {
        "hash": "1b0a897f6220f296ab5a80a33ecc8b4695202609f91736a31f1b599aeb1415d2"
      }
    }
  },
  "nbformat": 4,
  "nbformat_minor": 0
}

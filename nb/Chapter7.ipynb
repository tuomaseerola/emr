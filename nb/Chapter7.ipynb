{
  "cells": [
    {
      "cell_type": "markdown",
      "metadata": {},
      "source": [
        "# Ch. 7 – Inferential statistics\n",
        "\n",
        "This notebook demonstrates running inferential statistical tests in R.\n",
        "\n",
        "## Preliminaries\n",
        "\n",
        "Load libraries and install `MusicScienceData` package where the example data is stored."
      ]
    },
    {
      "cell_type": "code",
      "metadata": {},
      "source": [
        "#| label: libraries\n",
        "#| warning: false\n",
        "library(ggplot2,quietly = TRUE)\n",
        "library(tidyverse,quietly = TRUE)\n",
        "library(MusicScienceData,quiet=TRUE)"
      ],
      "execution_count": null,
      "outputs": []
    },
    {
      "cell_type": "markdown",
      "metadata": {},
      "source": [
        "## Code 7.1\n",
        "\n",
        "See text for the explanation."
      ]
    },
    {
      "cell_type": "code",
      "metadata": {},
      "source": [
        "#| label: 7-1\n",
        "#| warning: false\n",
        "df <- MusicScienceData::sadness         # define data\n",
        "t <- t.test(ASM20 ~ gender, data=df)    # t test\n",
        "print(t$statistic)                      # show the t value\n",
        "\n",
        "print(scales::pvalue(t$p.value))\n",
        "dplyr::summarise(dplyr::group_by(df, gender), # means and SDs\n",
        "                 M=mean(ASM20,na.rm=TRUE),\n",
        "                 SD=sd(ASM20,na.rm=TRUE))"
      ],
      "execution_count": null,
      "outputs": []
    },
    {
      "cell_type": "markdown",
      "metadata": {},
      "source": [
        "## Code 7.2"
      ]
    },
    {
      "cell_type": "code",
      "metadata": {},
      "source": [
        "#| label: 7-2\n",
        "#| warning: false\n",
        "df <- MusicScienceData::sadness         # define data\n",
        "model.aov <- aov(ASM20 ~ age, data=df)  # run anova\n",
        "F <- summary(model.aov)                 # summarise\n",
        "print(F)"
      ],
      "execution_count": null,
      "outputs": []
    },
    {
      "cell_type": "markdown",
      "metadata": {},
      "source": [
        "## Code 7.3"
      ]
    },
    {
      "cell_type": "code",
      "metadata": {},
      "source": [
        "#| label: 7-3\n",
        "#| warning: false\n",
        "TABLE<-TukeyHSD(model.aov,conf.level = 0.95)\n",
        "print(knitr::kable(TABLE$age,digits = 3,\n",
        "                   caption = 'Comparison of age groups\n",
        "                   for Item 20 in ASM survey.',\n",
        "                   format = 'simple'))"
      ],
      "execution_count": null,
      "outputs": []
    },
    {
      "cell_type": "markdown",
      "metadata": {},
      "source": [
        "## Code 7.4"
      ]
    },
    {
      "cell_type": "code",
      "metadata": {},
      "source": [
        "#| label: 7-4\n",
        "#| warning: false\n",
        "df <- MusicScienceData::sadness                   # define data\n",
        "model2.aov <- aov(ASM20 ~ age * gender, data=df)  # run anova\n",
        "F2 <- summary(model2.aov)\n",
        "print(F2)"
      ],
      "execution_count": null,
      "outputs": []
    },
    {
      "cell_type": "markdown",
      "metadata": {},
      "source": [
        "## Code 7.5\n",
        "\n",
        "This analysis requires extra libraries and raw data read from github. The installation might be slow in Colab because of package dependencies."
      ]
    },
    {
      "cell_type": "code",
      "metadata": {},
      "source": [
        "#| label: 7-5\n",
        "#| eval: false\n",
        "#| warning: false\n",
        "#install.packages(\"lme4\",quiet=TRUE)     # Required for LMM analysis\n",
        "#install.packages(\"lmerTest\",quiet=TRUE) # Optional\n",
        "library(lme4,quiet=TRUE)\n",
        "library(lmerTest,quiet=TRUE)"
      ],
      "execution_count": null,
      "outputs": []
    },
    {
      "cell_type": "code",
      "metadata": {},
      "source": [
        "#| label: load-data\n",
        "#| eval: true\n",
        "#| warning: false\n",
        "library(lme4,quiet=TRUE)\n",
        "library(lmerTest,quiet=TRUE)\n",
        "d <- read.csv('https://raw.githubusercontent.com/tuomaseerola/emr/main/data/raw_ratings.csv')\n",
        "d2 <- dplyr::filter(d,Emotion=='Dimensional')  #\n",
        "d3 <- dplyr::filter(d2, Category=='Anger' |\n",
        "  Category=='Fear' |\n",
        "  Category=='Happy' |\n",
        "  Category=='Sad' |\n",
        "  Category=='Tender')\n",
        "m1 <- lmer(Valence ~ Category * Gender + (1|id) + (1|Track), data = d3)\n",
        "s <- summary(m1,corr=FALSE)\n",
        "S<-s$coefficients; S<-round(S,2); S[,5]<-scales::pvalue(S[,5])\n",
        "print(knitr::kable(S,format = 'simple',\n",
        "                   caption = 'LMM results of Valence ratings.'))"
      ],
      "execution_count": null,
      "outputs": []
    },
    {
      "cell_type": "markdown",
      "metadata": {},
      "source": [
        "## Code 7.6"
      ]
    },
    {
      "cell_type": "code",
      "metadata": {},
      "source": [
        "#| label: code7-6\n",
        "#| warning: false\n",
        "d <- read.csv('https://raw.githubusercontent.com/tuomaseerola/emr/main/data/raw_ratings.csv')\n",
        "S <- d %>%\n",
        "  filter(Category=='Sad') %>%\n",
        "  group_by(Category,Gender) %>%\n",
        "  summarise(M=mean(Valence,na.rm=T),SD=sd(Valence,na.rm=T),\n",
        "            .groups = 'drop')\n",
        "print(S)"
      ],
      "execution_count": null,
      "outputs": []
    },
    {
      "cell_type": "markdown",
      "metadata": {},
      "source": [
        "## Code 7.7"
      ]
    },
    {
      "cell_type": "code",
      "metadata": {},
      "source": [
        "#| label: 7-7\n",
        "#| warning: false\n",
        "library(MusicScienceData)               # loads library w data\n",
        "gender_age_xtab <- table(MusicScienceData::sadness$age,\n",
        "                         MusicScienceData::sadness$gender)\n",
        "print(gender_age_xtab)\n",
        "\n",
        "result <- chisq.test(gender_age_xtab)   # Chi^2 test\n",
        "print(result)"
      ],
      "execution_count": null,
      "outputs": []
    },
    {
      "cell_type": "markdown",
      "metadata": {},
      "source": [
        "## Code 7.8"
      ]
    },
    {
      "cell_type": "code",
      "metadata": {},
      "source": [
        "#| label: 7-8\n",
        "#| warning: false\n",
        "library(MusicScienceData)               # load library w data\n",
        "data <- MusicScienceData::soundtrack    # define data\n",
        "r<-cor.test(data$Valence, data$Tension) # calculate correlation\n",
        "print(r$estimate)                       # print coefficient\n",
        "##    cor\n",
        "## -0.827\n",
        "print(scales::pvalue(r$p.value))        # print pretty p value\n",
        "## [1] \"<0.001\"\n",
        "print(r$parameter)                      # print df"
      ],
      "execution_count": null,
      "outputs": []
    },
    {
      "cell_type": "markdown",
      "metadata": {},
      "source": [
        "## Code 7.9"
      ]
    },
    {
      "cell_type": "code",
      "metadata": {},
      "source": [
        "#| label: 7-9\n",
        "#| warning: false\n",
        "library(MusicScienceData)               # loads library w data\n",
        "d1 <- MusicScienceData::soundtrack      # get ratings\n",
        "d2 <- MusicScienceData::soundtrack_features[,c(2:3,5:6)] # select only some features\n",
        "d1[,17:21] <- as.data.frame(scale(d2))  # normalise\n",
        "\n",
        "tmp <- cor(d1[,c(3,17:20)])             # get correlations\n",
        "print(round(tmp[2:5,1],2))              # display first line"
      ],
      "execution_count": null,
      "outputs": []
    },
    {
      "cell_type": "markdown",
      "metadata": {},
      "source": [
        "## Code 7.10"
      ]
    },
    {
      "cell_type": "code",
      "metadata": {},
      "source": [
        "#| label: 7-10\n",
        "#| warning: false\n",
        "model.reg <- lm(Energy ~ RMS + sp_centr + spec_rolloff +\n",
        "  spec_zcr, data = d1)\n",
        "s <- summary(model.reg) # R2adj = 0.424 (Energy)\n",
        "print(s)"
      ],
      "execution_count": null,
      "outputs": []
    },
    {
      "cell_type": "markdown",
      "metadata": {},
      "source": [
        "## Code 7.11"
      ]
    },
    {
      "cell_type": "code",
      "metadata": {},
      "source": [
        "#| label: 7-11\n",
        "#| warning: false\n",
        "r <- cor(d1$Energy, d1$RMS)\n",
        "print( r^2 )                      # print the squared correlation\n",
        "summary(lm(Energy ~ RMS,data=d1)) # Summarise regression"
      ],
      "execution_count": null,
      "outputs": []
    }
  ],
  "metadata": {
    "kernelspec": {
      "name": "ir",
      "language": "R",
      "display_name": "R"
    }
  },
  "nbformat": 4,
  "nbformat_minor": 4
}
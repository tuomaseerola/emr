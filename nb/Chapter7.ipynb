{
  "cells": [
    {
      "cell_type": "markdown",
      "metadata": {},
      "source": [
        "# \n",
        "\n",
        "# Ch. 7 – Inferential statistics\n",
        "\n",
        "This notebook demonstrates running inferential statistical tests in R.\n",
        "\n",
        "## Preliminaries\n",
        "\n",
        "Load libraries and install `MusicScienceData` package where the example\n",
        "data is stored."
      ],
      "id": "bba96d7a-5406-4487-90a0-4070eb9abfaa"
    },
    {
      "cell_type": "code",
      "execution_count": null,
      "metadata": {},
      "outputs": [],
      "source": [
        "library(ggplot2,quietly = TRUE)\n",
        "library(tidyverse,quietly = TRUE)\n",
        "library(MusicScienceData,quiet=TRUE)"
      ],
      "id": "d7730095-5da5-40c4-afe1-97872d554a25"
    },
    {
      "cell_type": "markdown",
      "metadata": {},
      "source": [
        "## Code 7.1\n",
        "\n",
        "See text for the explanation."
      ],
      "id": "66171c8c-d704-423e-be51-6e5b668dee3e"
    },
    {
      "cell_type": "code",
      "execution_count": null,
      "metadata": {},
      "outputs": [
        {
          "output_type": "stream",
          "name": "stdout",
          "text": [
            "        t \n",
            "-5.054596 "
          ]
        },
        {
          "output_type": "stream",
          "name": "stdout",
          "text": [
            "[1] \"<0.001\""
          ]
        },
        {
          "output_type": "stream",
          "name": "stdout",
          "text": [
            "# A tibble: 2 × 3\n",
            "  gender     M    SD\n",
            "  <fct>  <dbl> <dbl>\n",
            "1 Female  4.59  1.37\n",
            "2 Male    4.96  1.24"
          ]
        }
      ],
      "source": [
        "df <- MusicScienceData::sadness         # define data\n",
        "t <- t.test(ASM20 ~ gender, data=df)    # t test\n",
        "print(t$statistic)                      # show the t value"
      ],
      "id": "45096480-980f-411b-9337-97d22959174b"
    },
    {
      "cell_type": "markdown",
      "metadata": {},
      "source": [
        "## Code 7.2"
      ],
      "id": "48530b34-0ce5-4bb3-a352-aa3b8be0ee20"
    },
    {
      "cell_type": "code",
      "execution_count": null,
      "metadata": {},
      "outputs": [
        {
          "output_type": "stream",
          "name": "stdout",
          "text": [
            "              Df Sum Sq Mean Sq F value  Pr(>F)   \n",
            "age            5   29.9   5.986   3.321 0.00548 **\n",
            "Residuals   1564 2819.4   1.803                   \n",
            "---\n",
            "Signif. codes:  0 '***' 0.001 '**' 0.01 '*' 0.05 '.' 0.1 ' ' 1\n",
            "7 observations deleted due to missingness"
          ]
        }
      ],
      "source": [
        "df <- MusicScienceData::sadness         # define data\n",
        "model.aov <- aov(ASM20 ~ age, data=df)  # run anova\n",
        "F <- summary(model.aov)                 # summarise\n",
        "print(F)"
      ],
      "id": "dcfd2025-63fd-4266-a2e6-79013e8c0db2"
    },
    {
      "cell_type": "markdown",
      "metadata": {},
      "source": [
        "## Code 7.3"
      ],
      "id": "0d51c6bb-fa9f-42f2-8144-f834569a2ca9"
    },
    {
      "cell_type": "code",
      "execution_count": null,
      "metadata": {},
      "outputs": [
        {
          "output_type": "stream",
          "name": "stdout",
          "text": [
            "\n",
            "\n",
            "Table: Comparison of age groups\n",
            "                   for Item 20 in ASM survey.\n",
            "\n",
            "                       diff      lwr     upr   p adj\n",
            "------------------  -------  -------  ------  ------\n",
            "25 to 34-18 to 24     0.133   -0.133   0.399   0.713\n",
            "35 to 44-18 to 24     0.232   -0.062   0.525   0.214\n",
            "45 to 54-18 to 24     0.244   -0.088   0.576   0.289\n",
            "55 to 64-18 to 24     0.493    0.107   0.879   0.004\n",
            "65 to 74-18 to 24     0.418   -0.221   1.057   0.423\n",
            "35 to 44-25 to 34     0.099   -0.174   0.371   0.906\n",
            "45 to 54-25 to 34     0.111   -0.202   0.425   0.914\n",
            "55 to 64-25 to 34     0.360   -0.011   0.731   0.063\n",
            "65 to 74-25 to 34     0.285   -0.344   0.915   0.789\n",
            "45 to 54-35 to 44     0.013   -0.324   0.349   1.000\n",
            "55 to 64-35 to 44     0.261   -0.129   0.652   0.396\n",
            "65 to 74-35 to 44     0.186   -0.455   0.828   0.962\n",
            "55 to 64-45 to 54     0.249   -0.172   0.669   0.540\n",
            "65 to 74-45 to 54     0.174   -0.486   0.834   0.975\n",
            "65 to 74-55 to 64    -0.075   -0.764   0.614   1.000"
          ]
        }
      ],
      "source": [
        "TABLE<-TukeyHSD(model.aov,conf.level = 0.95)\n",
        "print(knitr::kable(TABLE$age,digits = 3,\n",
        "                   caption = 'Comparison of age groups\n",
        "                   for Item 20 in ASM survey.',\n",
        "                   format = 'simple'))"
      ],
      "id": "c6c78281-541d-480f-95bf-c22d8fd17d39"
    },
    {
      "cell_type": "markdown",
      "metadata": {},
      "source": [
        "## Code 7.4"
      ],
      "id": "fb0283c2-843f-427a-beaa-e1a994752c79"
    },
    {
      "cell_type": "code",
      "execution_count": null,
      "metadata": {},
      "outputs": [
        {
          "output_type": "stream",
          "name": "stdout",
          "text": [
            "              Df Sum Sq Mean Sq F value  Pr(>F)    \n",
            "age            5   29.9    5.99   3.377 0.00488 ** \n",
            "gender         1   45.7   45.69  25.773 4.3e-07 ***\n",
            "age:gender     5   11.5    2.31   1.303 0.25997    \n",
            "Residuals   1558 2762.1    1.77                    \n",
            "---\n",
            "Signif. codes:  0 '***' 0.001 '**' 0.01 '*' 0.05 '.' 0.1 ' ' 1\n",
            "7 observations deleted due to missingness"
          ]
        }
      ],
      "source": [
        "df <- MusicScienceData::sadness                   # define data\n",
        "model2.aov <- aov(ASM20 ~ age * gender, data=df)  # run anova\n",
        "F2 <- summary(model2.aov)\n",
        "print(F2)"
      ],
      "id": "61ac197d-0e0a-4d86-9296-46e2a69e2273"
    },
    {
      "cell_type": "markdown",
      "metadata": {},
      "source": [
        "## Code 7.5\n",
        "\n",
        "This analysis requires extra libraries and raw data read from github.\n",
        "The installation might be slow in Colab because of package dependencies."
      ],
      "id": "370ac208-68b5-44ab-909e-6eb37c423e13"
    },
    {
      "cell_type": "code",
      "execution_count": null,
      "metadata": {},
      "outputs": [],
      "source": [
        "#install.packages(\"lme4\",quiet=TRUE)     # Required for LMM analysis\n",
        "#install.packages(\"lmerTest\",quiet=TRUE) # Optional\n",
        "library(lme4,quiet=TRUE)\n",
        "library(lmerTest,quiet=TRUE)"
      ],
      "id": "f99fcc46-fd37-45ff-ab91-46b76b9b68e8"
    },
    {
      "cell_type": "code",
      "execution_count": null,
      "metadata": {},
      "outputs": [
        {
          "output_type": "stream",
          "name": "stdout",
          "text": [
            "\n",
            "\n",
            "Table: LMM results of Valence ratings.\n",
            "\n",
            "                            Estimate   Std. Error   df       t value   Pr(>|t|) \n",
            "--------------------------  ---------  -----------  -------  --------  ---------\n",
            "(Intercept)                 3.43       0.25         58.17    13.51     <0.001   \n",
            "CategoryFear                0.07       0.34         47.43    0.19      0.850    \n",
            "CategoryHappy               4.16       0.34         47.43    12.24     <0.001   \n",
            "CategorySad                 1.63       0.34         47.43    4.79      <0.001   \n",
            "CategoryTender              3.4        0.34         47.43    10.01     <0.001   \n",
            "GenderMale                  -0.09      0.21         110.04   -0.45     0.650    \n",
            "CategoryFear:GenderMale     -0.07      0.19         2348     -0.34     0.730    \n",
            "CategoryHappy:GenderMale    -0.04      0.19         2348     -0.22     0.820    \n",
            "CategorySad:GenderMale      -0.46      0.19         2348     -2.41     0.020    \n",
            "CategoryTender:GenderMale   0          0.19         2348     0.01      0.990    "
          ]
        }
      ],
      "source": [
        "library(lme4,quiet=TRUE)\n",
        "library(lmerTest,quiet=TRUE)\n",
        "d <- read.csv('https://raw.githubusercontent.com/tuomaseerola/emr/main/data/raw_ratings.csv')\n",
        "d2 <- dplyr::filter(d,Emotion=='Dimensional')  #\n",
        "d3 <- dplyr::filter(d2, Category=='Anger' |\n",
        "  Category=='Fear' |\n",
        "  Category=='Happy' |\n",
        "  Category=='Sad' |\n",
        "  Category=='Tender')\n",
        "m1 <- lmer(Valence ~ Category * Gender + (1|id) + (1|Track), data = d3)\n",
        "s <- summary(m1,corr=FALSE)\n",
        "S<-s$coefficients; S<-round(S,2); S[,5]<-scales::pvalue(S[,5])\n",
        "print(knitr::kable(S,format = 'simple',\n",
        "                   caption = 'LMM results of Valence ratings.'))"
      ],
      "id": "e0392739-eb56-402a-a735-1f1fb5406c3d"
    },
    {
      "cell_type": "markdown",
      "metadata": {},
      "source": [
        "## Code 7.6"
      ],
      "id": "6d8e86e8-3e6a-42ac-86c0-d1700c258f7d"
    },
    {
      "cell_type": "code",
      "execution_count": null,
      "metadata": {},
      "outputs": [
        {
          "output_type": "stream",
          "name": "stdout",
          "text": [
            "# A tibble: 2 × 4\n",
            "  Category Gender     M    SD\n",
            "  <chr>    <chr>  <dbl> <dbl>\n",
            "1 Sad      Female  5.05  1.69\n",
            "2 Sad      Male    4.5   1.54"
          ]
        }
      ],
      "source": [
        "d <- read.csv('https://raw.githubusercontent.com/tuomaseerola/emr/main/data/raw_ratings.csv')\n",
        "S <- d %>%\n",
        "  filter(Category=='Sad') %>%\n",
        "  group_by(Category,Gender) %>%\n",
        "  summarise(M=mean(Valence,na.rm=T),SD=sd(Valence,na.rm=T),\n",
        "            .groups = 'drop')\n",
        "print(S)"
      ],
      "id": "4a31f995-9f86-49b9-8f72-bf8eee44b7ec"
    },
    {
      "cell_type": "markdown",
      "metadata": {},
      "source": [
        "## Code 7.7"
      ],
      "id": "cb0053cb-f0c4-4429-9286-2a608547ebef"
    },
    {
      "cell_type": "code",
      "execution_count": null,
      "metadata": {},
      "outputs": [
        {
          "output_type": "stream",
          "name": "stdout",
          "text": [
            "          \n",
            "           Female Male\n",
            "  18 to 24    269   87\n",
            "  25 to 34    361  137\n",
            "  35 to 44    231  101\n",
            "  45 to 54    158   55\n",
            "  55 to 64    118   19\n",
            "  65 to 74     34    7"
          ]
        },
        {
          "output_type": "stream",
          "name": "stdout",
          "text": [
            "\n",
            "    Pearson's Chi-squared test\n",
            "\n",
            "data:  gender_age_xtab\n",
            "X-squared = 16.649, df = 5, p-value = 0.005215"
          ]
        }
      ],
      "source": [
        "library(MusicScienceData)               # loads library w data\n",
        "gender_age_xtab <- table(MusicScienceData::sadness$age,\n",
        "                         MusicScienceData::sadness$gender)\n",
        "print(gender_age_xtab)"
      ],
      "id": "76673e75-dd69-47db-8461-573c9c3ca4c3"
    },
    {
      "cell_type": "markdown",
      "metadata": {},
      "source": [
        "## Code 7.8"
      ],
      "id": "96fdbb46-011f-4568-b67c-45d98c714a94"
    },
    {
      "cell_type": "code",
      "execution_count": null,
      "metadata": {},
      "outputs": [
        {
          "output_type": "stream",
          "name": "stdout",
          "text": [
            "       cor \n",
            "-0.8269947 "
          ]
        },
        {
          "output_type": "stream",
          "name": "stdout",
          "text": [
            "[1] \"<0.001\""
          ]
        },
        {
          "output_type": "stream",
          "name": "stdout",
          "text": [
            " df \n",
            "108 "
          ]
        }
      ],
      "source": [
        "library(MusicScienceData)               # load library w data\n",
        "data <- MusicScienceData::soundtrack    # define data\n",
        "r<-cor.test(data$Valence, data$Tension) # calculate correlation\n",
        "print(r$estimate)                       # print coefficient"
      ],
      "id": "7df45d71-a32d-403e-a69e-1eb7400bdf56"
    },
    {
      "cell_type": "markdown",
      "metadata": {},
      "source": [
        "## Code 7.9"
      ],
      "id": "42a1c0a6-1c0c-4d8a-a1af-5461aa0896f3"
    },
    {
      "cell_type": "code",
      "execution_count": null,
      "metadata": {},
      "outputs": [
        {
          "output_type": "stream",
          "name": "stdout",
          "text": [
            "         RMS     sp_centr spec_rolloff     spec_zcr \n",
            "        0.58         0.36         0.40         0.32 "
          ]
        }
      ],
      "source": [
        "library(MusicScienceData)               # loads library w data\n",
        "d1 <- MusicScienceData::soundtrack      # get ratings\n",
        "d2 <- MusicScienceData::soundtrack_features[,c(2:3,5:6)] # select only some features\n",
        "d1[,17:21] <- as.data.frame(scale(d2))  # normalise\n",
        "\n",
        "tmp <- cor(d1[,c(3,17:20)])             # get correlations\n",
        "print(round(tmp[2:5,1],2))              # display first line"
      ],
      "id": "837b32d5-3229-4564-9d70-2c862bba4d5b"
    },
    {
      "cell_type": "markdown",
      "metadata": {},
      "source": [
        "## Code 7.10"
      ],
      "id": "bd7d67ca-e1d1-41b4-86b3-9b8fb7963f5e"
    },
    {
      "cell_type": "code",
      "execution_count": null,
      "metadata": {},
      "outputs": [
        {
          "output_type": "stream",
          "name": "stdout",
          "text": [
            "\n",
            "Call:\n",
            "lm(formula = Energy ~ RMS + sp_centr + spec_rolloff + spec_zcr, \n",
            "    data = d1)\n",
            "\n",
            "Residuals:\n",
            "    Min      1Q  Median      3Q     Max \n",
            "-2.4719 -1.1042 -0.2064  0.9427  3.4504 \n",
            "\n",
            "Coefficients:\n",
            "             Estimate Std. Error t value Pr(>|t|)    \n",
            "(Intercept)    5.4865     0.1309  41.905  < 2e-16 ***\n",
            "RMS            0.9067     0.1397   6.491 2.88e-09 ***\n",
            "sp_centr      -1.9069     1.2245  -1.557    0.122    \n",
            "spec_rolloff   1.9663     0.9502   2.069    0.041 *  \n",
            "spec_zcr       0.5995     0.4170   1.438    0.154    \n",
            "---\n",
            "Signif. codes:  0 '***' 0.001 '**' 0.01 '*' 0.05 '.' 0.1 ' ' 1\n",
            "\n",
            "Residual standard error: 1.373 on 105 degrees of freedom\n",
            "Multiple R-squared:  0.4504,    Adjusted R-squared:  0.4295 \n",
            "F-statistic: 21.52 on 4 and 105 DF,  p-value: 5.528e-13"
          ]
        }
      ],
      "source": [
        "model.reg <- lm(Energy ~ RMS + sp_centr + spec_rolloff +\n",
        "  spec_zcr, data = d1)\n",
        "s <- summary(model.reg) # R2adj = 0.424 (Energy)\n",
        "print(s)"
      ],
      "id": "922131eb-8daa-4ba3-a0fd-1cf39041ed49"
    },
    {
      "cell_type": "markdown",
      "metadata": {},
      "source": [
        "## Code 7.11"
      ],
      "id": "c897c4c6-e97b-4c96-bded-652b9973e6f0"
    },
    {
      "cell_type": "code",
      "execution_count": null,
      "metadata": {},
      "outputs": [
        {
          "output_type": "stream",
          "name": "stdout",
          "text": [
            "[1] 0.3378173"
          ]
        },
        {
          "output_type": "stream",
          "name": "stdout",
          "text": [
            "\n",
            "Call:\n",
            "lm(formula = Energy ~ RMS, data = d1)\n",
            "\n",
            "Residuals:\n",
            "    Min      1Q  Median      3Q     Max \n",
            "-2.6644 -1.1921 -0.3852  1.1875  3.3296 \n",
            "\n",
            "Coefficients:\n",
            "            Estimate Std. Error t value Pr(>|t|)    \n",
            "(Intercept)   5.4865     0.1417  38.717  < 2e-16 ***\n",
            "RMS           1.0567     0.1424   7.423 2.79e-11 ***\n",
            "---\n",
            "Signif. codes:  0 '***' 0.001 '**' 0.01 '*' 0.05 '.' 0.1 ' ' 1\n",
            "\n",
            "Residual standard error: 1.486 on 108 degrees of freedom\n",
            "Multiple R-squared:  0.3378,    Adjusted R-squared:  0.3317 \n",
            "F-statistic:  55.1 on 1 and 108 DF,  p-value: 2.788e-11"
          ]
        }
      ],
      "source": [
        "r <- cor(d1$Energy, d1$RMS)\n",
        "print( r^2 )                      # print the squared correlation"
      ],
      "id": "578d9c85-be80-45d1-b58e-eaf39e9d0993"
    }
  ],
  "nbformat": 4,
  "nbformat_minor": 5,
  "metadata": {
    "kernelspec": {
      "display_name": "Python 3",
      "language": "python",
      "name": "python3"
    }
  }
}
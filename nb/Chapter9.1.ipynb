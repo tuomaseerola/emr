{
  "cells": [
    {
      "cell_type": "raw",
      "metadata": {},
      "source": [
        "---\n",
        "toc: true\n",
        "---"
      ]
    },
    {
      "cell_type": "markdown",
      "metadata": {},
      "source": [
        "<a href=\"https://colab.research.google.com/github/tuomaseerola/emr/blob/main/Chapter9.1.ipynb\" target=\"_parent\"><img src=\"https://colab.research.google.com/assets/colab-badge.svg\" alt=\"Open In Colab\"/></a>\n",
        "\n",
        "# Ch. 9 - Music analysis\n",
        "\n",
        "This is a very simple demonstration of several built-in analytical functions in music21. We carry out a reduction of Bach chorale, analysis of harmony using Roman numerals and add Lerdahl and Jackendof type of metrical hierarchy.\n",
        "\n",
        "\n",
        "## Install Music21 (in Colab)\n",
        "\n",
        "::: {.callout-important}\n",
        "The first code segment is to install `music21` and other elements needed to run the environment. In Colab, press `play` and wait for all commands to be executed - this initial command might take some time as it needs to build the `musi21` environment.\n",
        ":::\n",
        "\n",
        "## Install Music21 and Musescore in local machine\n",
        "\n",
        "::: {.callout-important}\n",
        "For instructions of how to get music21 and Musescore working on a local machine, see [Installation guidelines from music21](https://web.mit.edu/music21/doc/installing/index.html).\n",
        ":::\n",
        "\n",
        "::: {.callout-note}\n",
        "The script below uses a workaround where the excerpts are first written to a xml file and then converted to png image.\n",
        ":::"
      ]
    },
    {
      "cell_type": "code",
      "metadata": {},
      "source": [
        "#| echo: false\n",
        "#| eval: false\n",
        "\n",
        "!pip install --upgrade music21\n",
        "!add-apt-repository ppa:mscore-ubuntu/mscore-stable -y\n",
        "!apt-get update\n",
        "!apt-get install musescore\n",
        "!apt-get install xvfb\n",
        "!sh -e /etc/init.d/x11-common start\n",
        "import os\n",
        "os.putenv('DISPLAY', ':99.0')\n",
        "!start-stop-daemon --start --pidfile /var/run/xvfb.pid --make-pidfile --background --exec /usr/bin/Xvfb -- :99 -screen 0 1024x768x24 -ac +extension GLX +render -noreset\n",
        "from music21 import *\n",
        "us = environment.UserSettings()\n",
        "us['musescoreDirectPNGPath'] = '/usr/bin/mscore'\n",
        "us['directoryScratch'] = '/tmp'"
      ],
      "execution_count": null,
      "outputs": []
    },
    {
      "cell_type": "markdown",
      "metadata": {},
      "source": [
        "## Harmonic and metrical analysis\n",
        "\n",
        "Harmonic and metrical analysis of an example excerpt `bach/bwv30.6` using `music21`.\n",
        "\n",
        "### Harmonic analysis – Reduction\n",
        "\n",
        "First get a Bach chorale."
      ]
    },
    {
      "cell_type": "code",
      "metadata": {},
      "source": [
        "#| echo: true\n",
        "#| eval: true\n",
        "#| label: analyse\n",
        "\n",
        "from music21 import *                     # activate library\n",
        "\n",
        "### 1 Select one example from Bach chorales\n",
        "bwv30_6 = corpus.parse('bach/bwv30.6.xml')# Take an example\n",
        "#bwv30_6.measures(1, 3).show()             # Display 3 bars\n",
        "bwv30_6.measures(1, 3).write('xml', fp='output.xml')\n",
        "!mscore output.xml -o images/score1.png --trim-image 0"
      ],
      "execution_count": null,
      "outputs": []
    },
    {
      "cell_type": "markdown",
      "metadata": {},
      "source": [
        "![](images/score1-1.png)\n",
        "\n",
        "### Harmonic analysis\n",
        "\n",
        "Analyse chords using Roman numerals."
      ]
    },
    {
      "cell_type": "code",
      "metadata": {},
      "source": [
        "#| label: harmonic\n",
        "bChords = bwv30_6.chordify()              # Slice the chords\n",
        "for c in bChords.recurse().getElementsByClass('Chord'):\n",
        "    c.closedPosition(forceOctave=4, inPlace=True)\n",
        "# Run analysis and add Roman numerals as lyrics\n",
        "for c in bChords.recurse().getElementsByClass('Chord'):\n",
        "    rn = roman.romanNumeralFromChord(c, key.Key('A'))\n",
        "    c.addLyric(str(rn.figure))\n",
        "bChords.measures(0, 3).show()             # Display the result\n",
        "bChords.measures(0, 3).write('xml', fp='output.xml')\n",
        "!mscore output.xml -o images/score2.png --trim-image 0"
      ],
      "execution_count": null,
      "outputs": []
    },
    {
      "cell_type": "markdown",
      "metadata": {},
      "source": [
        "![](images/score2-1.png)\n",
        "\n",
        "### Metrical analysis\n",
        "\n",
        "Carry out metrical analysis."
      ]
    },
    {
      "cell_type": "code",
      "metadata": {},
      "source": [
        "#| label: metrical\n",
        "bass = bwv30_6.getElementById('Bass')    # Get the bass part\n",
        "excerpt = bass.measures(1,3)             # Bar 1 through 3\n",
        "analysis.metrical.labelBeatDepth(excerpt)# Metrical analysis\n",
        "#excerpt.show()                           # Display the results\n",
        "excerpt.write('xml', fp='output.xml')\n",
        "!mscore output.xml -o images/score3.png --trim-image 0\n",
        "!rm output.xml"
      ],
      "execution_count": null,
      "outputs": []
    },
    {
      "cell_type": "markdown",
      "metadata": {},
      "source": [
        "![](images/score3-1.png)"
      ]
    }
  ],
  "metadata": {
    "kernelspec": {
      "name": "python3",
      "language": "python",
      "display_name": "Python 3"
    }
  },
  "nbformat": 4,
  "nbformat_minor": 4
}
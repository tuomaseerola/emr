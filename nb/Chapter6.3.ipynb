{
  "cells": [
    {
      "cell_type": "markdown",
      "metadata": {},
      "source": [
        "<a href=\"https://colab.research.google.com/github/tuomaseerola/emr/blob/master/Chapter6.3.ipynb\" target=\"_parent\"><img src=\"https://colab.research.google.com/assets/colab-badge.svg\" alt=\"Open In Colab\"/></a>\n",
        "\n",
        "# Ch. 6 – Diagnostics\n",
        "\n",
        "This notebook demonstrates Data Diagnostics and Summaries.\n",
        "\n",
        "## Preliminaries\n",
        "\n",
        "Load or install the necessary R packages."
      ]
    },
    {
      "cell_type": "code",
      "metadata": {},
      "source": [
        "#| label: libraries1\n",
        "#| eval: true\n",
        "#| echo: true\n",
        "#| warning: false\n",
        "library(tidyverse,quiet=TRUE)\n",
        "library(ggplot2,quiet=TRUE)\n",
        "#install.packages(\"cowplot\",quiet=TRUE)\n",
        "library(cowplot,quiet=TRUE)\n",
        "options(repr.plot.width = 7, repr.plot.height = 5)"
      ],
      "execution_count": null,
      "outputs": []
    },
    {
      "cell_type": "code",
      "metadata": {},
      "source": [
        "#| eval: false\n",
        "#| label: libraries2\n",
        "#| warning: false\n",
        "if (!require(devtools)) install.packages(\"devtools\",quiet=TRUE)\n",
        "devtools::install_github(\"tuomaseerola/MusicScienceData@main\",quiet=TRUE)\n",
        "library(MusicScienceData,quiet=TRUE)"
      ],
      "execution_count": null,
      "outputs": []
    },
    {
      "cell_type": "code",
      "metadata": {},
      "source": [
        "#| eval: true\n",
        "#| label: libraries3\n",
        "#| echo: false\n",
        "library(MusicScienceData,quiet=TRUE)"
      ],
      "execution_count": null,
      "outputs": []
    },
    {
      "cell_type": "markdown",
      "metadata": {},
      "source": [
        "## Code 6.1"
      ]
    },
    {
      "cell_type": "code",
      "metadata": {},
      "source": [
        "#| label: 6-1\n",
        "#| warning: false\n",
        "print(MusicScienceData::sadness[1:4,1:7])"
      ],
      "execution_count": null,
      "outputs": []
    },
    {
      "cell_type": "markdown",
      "metadata": {},
      "source": [
        "## Code 6.2"
      ]
    },
    {
      "cell_type": "code",
      "metadata": {},
      "source": [
        "#| label: 6-2\n",
        "#| warning: false\n",
        "print(MusicScienceData::priming[1:3,1:6])"
      ],
      "execution_count": null,
      "outputs": []
    },
    {
      "cell_type": "markdown",
      "metadata": {},
      "source": [
        "## Code 6.3\n",
        "\n",
        "Figure 6.1. A histogram showing the distribution of responses to a particular question (no. 25) in Attitudes towards Sad Music (ASM) instrument."
      ]
    },
    {
      "cell_type": "code",
      "metadata": {},
      "source": [
        "#| label: 6-3\n",
        "#| warning: false\n",
        "sadness <- MusicScienceData::sadness\n",
        "g1 <- sadness %>%\n",
        "  drop_na(ASM25) %>%   # drop missing values\n",
        "  ggplot(aes(x = ASM25))+\n",
        "  geom_histogram(bins=7,fill=\"grey50\", colour='black')+\n",
        "  scale_x_continuous(breaks = seq(1,7,by=1))+\n",
        "  ylab('Count')+\n",
        "  xlab('1 = Strongly disagree, 7 = Strongly agree')+\n",
        "  theme_MusicScience()\n",
        "g1"
      ],
      "execution_count": null,
      "outputs": []
    },
    {
      "cell_type": "markdown",
      "metadata": {},
      "source": [
        "## Code 6.5\n",
        "\n",
        "Figure 6.4. A box plot showing the distribution of responses to a particular question (no. 23) in Attitudes towards Sad Music (ASM) instrument split across gender."
      ]
    },
    {
      "cell_type": "code",
      "metadata": {},
      "source": [
        "#| label: 6-5\n",
        "#| warning: false\n",
        "g5 <- sadness %>%\n",
        "  drop_na(ASM25) %>%   # drop missing values\n",
        "  ggplot(aes(y = ASM25,fill=gender))+\n",
        "  geom_boxplot()+\n",
        "  scale_y_continuous(breaks = seq(1,7,by=1))+\n",
        "  scale_x_discrete()+\n",
        "  scale_fill_grey(start = .4,end = .8,name='Gender')+\n",
        "  ylab('1 = Strongly disagree, 7 = Strongly agree')+\n",
        "  theme_MusicScience()\n",
        "print(g5)"
      ],
      "execution_count": null,
      "outputs": []
    },
    {
      "cell_type": "markdown",
      "metadata": {},
      "source": [
        "## Code 6.6\n",
        "\n",
        "Figure 6.5. Alternative visualisations of data. A: density plot across gender, B: multiple boxplots, C: boxplot overlaid with original data, D: violin plot with mean and median overlaid."
      ]
    },
    {
      "cell_type": "code",
      "metadata": {},
      "source": [
        "#| label: 6-6\n",
        "#| warning: false\n",
        "options(repr.plot.width = 12, repr.plot.height = 10)\n",
        "d <- MusicScienceData::priming\n",
        "\n",
        "g1<-ggplot(d,aes(x=RT))+\n",
        "  geom_histogram(binwidth=100,colour='grey50',fill='white')+\n",
        "  ggtitle('Bin width 100')+\n",
        "  ylab('Count')+\n",
        "  xlab('Reaction time (ms)')+\n",
        "  scale_x_continuous(breaks=seq(0,2000,by=400))+\n",
        "  theme_MusicScience()\n",
        "\n",
        "\n",
        "g2<-ggplot(d,aes(x=RT))+\n",
        "  geom_histogram(binwidth=10,colour='grey50',fill='white')+\n",
        "  ggtitle('Bin width 10')+\n",
        "  ylab('Count')+\n",
        "  xlab('Reaction time (ms)')+\n",
        "  scale_x_continuous(breaks=seq(0,2000,by=400))+\n",
        "  theme_MusicScience()\n",
        "\n",
        "g3<-ggplot(dplyr::filter(d,RT>200 & RT<1500),aes(x=RT))+\n",
        "  geom_histogram(binwidth=10,colour='grey50',fill='white')+\n",
        "  ggtitle('Bin width 10 with trimming')+\n",
        "  ylab('Count')+\n",
        "  xlab('Reaction time (ms)')+\n",
        "  scale_x_continuous(breaks=seq(200,1500,by=200),limits = c(0,2000))+\n",
        "  geom_vline(xintercept = c(200,1500),linetype='dashed')+\n",
        "  theme_MusicScience()\n",
        "\n",
        "\n",
        "g4<-ggplot(dplyr::filter(d,RT>200 & RT<1500),aes(x=RT))+\n",
        "  geom_histogram(binwidth=10,colour='grey50',fill='white')+\n",
        "  geom_density(aes(y=10 * after_stat(count)),alpha=0.5,colour='black',fill=NA)+\n",
        "  ggtitle('Bin width 10 density with trimming')+\n",
        "  ylab('Count')+\n",
        "  xlab('Reaction time (ms)')+\n",
        "  scale_x_continuous(breaks=seq(200,1500,by=200))+\n",
        "  theme_MusicScience()\n",
        "\n",
        "G1 <- plot_grid(g1, g2, g3, g4, nrow = 2)\n",
        "print(G1)"
      ],
      "execution_count": null,
      "outputs": []
    },
    {
      "cell_type": "markdown",
      "metadata": {},
      "source": [
        "## Code 6.7\n",
        "\n",
        "Table 6.1: The means of the ASM question 20 across the age."
      ]
    },
    {
      "cell_type": "code",
      "metadata": {},
      "source": [
        "#| label: 6-7\n",
        "#| warning: false\n",
        "library(Hmisc,quietly = TRUE)\n",
        "table1 <- MusicScienceData::sadness %>%\n",
        "        drop_na(ASM20) %>%   # drop missing values\n",
        "        group_by(age) %>%\n",
        "        summarise(n=n(),mean_cl_normal(ASM20))\n",
        "\n",
        "colnames(table1) <- c('Age','N','M','95% CI LL','95% CI UL')\n",
        "knitr::kable(table1,digits = 2, format='simple',\n",
        "             caption = 'The means of the ASM question 20 across the age.')"
      ],
      "execution_count": null,
      "outputs": []
    },
    {
      "cell_type": "markdown",
      "metadata": {},
      "source": [
        "## Code 6.8"
      ]
    },
    {
      "cell_type": "code",
      "metadata": {},
      "source": [
        "#| label: 6-8\n",
        "#| warning: false\n",
        "mean(MusicScienceData::sadness$ASM20, na.rm=TRUE) # Mean (ignore missing values)\n",
        "sd(MusicScienceData::sadness$ASM20,na.rm=TRUE)"
      ],
      "execution_count": null,
      "outputs": []
    },
    {
      "cell_type": "markdown",
      "metadata": {},
      "source": [
        "## Code 6.9\n",
        "\n",
        "Figure 6.6. A bar graph showing the means of the responses to the question no. 20 in Attitudes towards Sad Music (ASM) instrument across gender."
      ]
    },
    {
      "cell_type": "code",
      "metadata": {},
      "source": [
        "#| label: 6-9\n",
        "#| warning: false\n",
        "g6 <- sadness %>%\n",
        "  drop_na(ASM20) %>%   # drop missing values\n",
        "  group_by(gender) %>%\n",
        "  summarise(mean= mean(ASM20),ci = mean_cl_normal(ASM20)) %>%\n",
        "  ggplot(aes(x = gender,y = mean,fill=gender))+\n",
        "  geom_col(colour='black',show.legend = FALSE)+\n",
        "  geom_errorbar(aes(ymin=ci$ymin,ymax=ci$ymax),width=0.5)+\n",
        "  scale_y_continuous(breaks = seq(1,7,by=1), expand = c(0,0))+\n",
        "  scale_fill_grey(start=.25,end=.75)+\n",
        "  coord_cartesian(ylim = c(1, 7)) +\n",
        "  ylab('Mean ± 95% CI')+\n",
        "  xlab('Gender')+\n",
        "  theme_MusicScience()\n",
        "print(g6)"
      ],
      "execution_count": null,
      "outputs": []
    },
    {
      "cell_type": "markdown",
      "metadata": {},
      "source": [
        "## Code 6.10\n",
        "\n",
        "Figure 6.7. A bar graph showing the means of the responses to the question no. 6 in Attitudes towards Sad Music (ASM) instrument across musical expertise."
      ]
    },
    {
      "cell_type": "code",
      "metadata": {},
      "source": [
        "#| label: 6-10\n",
        "#| warning: false\n",
        "g1 <- MusicScienceData::sadness %>%\n",
        "  drop_na(ASM1) %>%   # drop missing values\n",
        "  ggplot(aes(x= ASM1,color=gender))+\n",
        "  geom_density(adjust=1.25)+\n",
        "  scale_color_grey(name='Gender')+\n",
        "  scale_x_continuous(breaks = seq(1,7,by=1))+\n",
        "  ggtitle(sadness_ASM_labels[1])+\n",
        "  ylab('Density')+\n",
        "  theme_bw()+\n",
        "  theme(legend.justification=c(1,0), legend.position=c(0.95,0.75))+\n",
        "  theme(plot.title = element_text(size=11))\n",
        "\n",
        "tmp<-as_tibble(MusicScienceData::sadness)\n",
        "tmp2<-tmp[,c(3,7:10)]\n",
        "dfl <- pivot_longer(tmp2,cols = c(2:5))\n",
        "\n",
        "g2 <- dfl %>%\n",
        "  drop_na(value) %>%   # drop missing values\n",
        "  ggplot(aes(x=name,y = value,fill=gender))+\n",
        "  geom_boxplot(outlier.shape =\"\")+\n",
        "  scale_y_continuous(breaks = seq(1,7,by=1))+\n",
        "  scale_x_discrete()+\n",
        "  scale_fill_grey(start = .75, end=.25, name=\"Gender\")+\n",
        "  ggtitle('ASM items 1 to 4')+\n",
        "  ylab('1 = Strongly disagree, 7 = Strongly agree')+\n",
        "  xlab('Item')+\n",
        "  theme_bw()+\n",
        "  theme(legend.justification=c(1,0), legend.position=c(0.95,0.70))\n",
        "\n",
        "g3 <- MusicScienceData::sadness %>%\n",
        "  drop_na(ASM12) %>%   # drop missing values\n",
        "  ggplot(aes(x=1,y = ASM12))+\n",
        "  geom_boxplot(fill='gray70')+\n",
        "  geom_jitter(alpha=0.13,colour='black', width = 0.33)+\n",
        "  scale_y_continuous(breaks = seq(1,7,by=1))+\n",
        "  scale_x_discrete()+\n",
        "  ggtitle(sadness_ASM_labels[12])+\n",
        "  ylab('1 = Strongly disagree, 7 = Strongly agree')+\n",
        "  xlab('ASM12')+\n",
        "  theme_bw()\n",
        "\n",
        "g4 <- MusicScienceData::sadness %>%\n",
        "  drop_na(ASM13) %>%   # drop missing values\n",
        "  ggplot(aes(x=1,y = ASM13))+\n",
        "  geom_violin(fill='grey70',adjust=1.2,alpha=0.50)+\n",
        "  scale_y_continuous(breaks = seq(1,7,by=1))+\n",
        "  scale_x_discrete()+\n",
        "  stat_summary(fun = median, fun.min = median, fun.max = median,\n",
        "               geom = \"crossbar\", width = 0.9)+\n",
        "  stat_summary(fun = mean, fun.min = mean, fun.max = mean,\n",
        "               geom = \"crossbar\", width = 0.9,colour='gray50')+\n",
        "  ggtitle(sadness_ASM_labels[13])+\n",
        "  annotate(\"text\",x=1.6,y=mean(MusicScienceData::sadness$ASM13,na.rm = TRUE),label='Mean',hjust=0)+\n",
        "  annotate(\"text\",x=1.6,y=median(MusicScienceData::sadness$ASM13,na.rm = TRUE),label='Median',hjust=0)+\n",
        "  ylab('1 = Strongly disagree, 7 = Strongly agree')+\n",
        "  xlab('ASM13')+\n",
        "  theme_bw()\n",
        "\n",
        "G2 <- plot_grid(g1,g2,g3,g4,labels = c(\"A\", \"B\", \"C\", \"D\"),ncol = 2, nrow = 2)\n",
        "print(G2)"
      ],
      "execution_count": null,
      "outputs": []
    },
    {
      "cell_type": "markdown",
      "metadata": {},
      "source": [
        "## Code 6.11\n",
        "\n",
        "Figure 6.8. A scatterplot showing the means of the ratings to 110 film soundtrack excerpts using scales tension and valence in Eerola and Vuoskoski (2011)."
      ]
    },
    {
      "cell_type": "code",
      "metadata": {},
      "source": [
        "#| label: 6-11\n",
        "#| warning: false\n",
        "g9 <- ggplot(soundtrack) +\n",
        "  aes(x = Valence, y = Tension, colour = TARGET_EMOTION,\n",
        "      label=Number,\n",
        "      shape= TARGET_FRAMEWORK) +\n",
        "  geom_point(size=4,alpha=0.80,show.legend=FALSE) +\n",
        "  coord_fixed(ratio = 1)+\n",
        "  geom_smooth(aes(shape = NULL,colour=NULL),method=\"lm\",\n",
        "              formula='y ~x',se=FALSE, fullrange=TRUE,\n",
        "              level=0.95, colour='grey50', # adds trendline\n",
        "              linetype='dashed',show.legend = FALSE)+\n",
        "  geom_text(show.legend=FALSE,color='white',size=1.7)+ # labels\n",
        "  scale_colour_grey(name='Emotion',start = .6,end = 0)+\n",
        "  scale_shape(name='Framework')+\n",
        "  scale_x_continuous(breaks=seq(1,9,by=2),limits=c(1,9))+\n",
        "  scale_y_continuous(breaks=seq(1,9,by=2),limits=c(1,9))+\n",
        "  theme_MusicScience()\n",
        "print(g9)"
      ],
      "execution_count": null,
      "outputs": []
    },
    {
      "cell_type": "markdown",
      "metadata": {},
      "source": [
        "## References\n",
        "\n",
        "- Eerola, T., & Peltola, H.-R. (2016). Memorable experiences with sad music - reasons, reactions and mechanisms of three types of experiences. _PloS ONE, 11(6)_, e0157444. <https://doi.org/http://dx.doi.org/10.1371/journal.pone.0157444>\n",
        "\n",
        "- Eerola, T., & Vuoskoski, J. K. (2011). A comparison of the discrete and dimensional models of emotion in music. _Psychology of Music, 39(1)_, 18–49.\n"
      ]
    }
  ],
  "metadata": {
    "kernelspec": {
      "name": "ir",
      "language": "R",
      "display_name": "R"
    }
  },
  "nbformat": 4,
  "nbformat_minor": 4
}
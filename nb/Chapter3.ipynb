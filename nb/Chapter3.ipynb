{
  "cells": [
    {
      "cell_type": "raw",
      "metadata": {},
      "source": [
        "---\n",
        "title: \"Ch. 3 – Historic profiles\"\n",
        "toc: true\n",
        "execute:\n",
        "  keep-ipynb: true\n",
        "---"
      ]
    },
    {
      "cell_type": "markdown",
      "metadata": {},
      "source": [
        "<a href=\"https://colab.research.google.com/github/tuomaseerola/emr/blob/master/nb/Chapter3.ipynb\" target=\"_parent\"><img src=\"https://colab.research.google.com/assets/colab-badge.svg\" alt=\"Open In Colab\"/></a>\n",
        "\n",
        "# Ch. 3 – Historic profiles\n",
        "\n",
        "## Load libraries\n",
        "\n",
        "Load or install necessary R packages."
      ]
    },
    {
      "cell_type": "code",
      "metadata": {
        "message": false
      },
      "source": [
        "#| echo: true\n",
        "#| eval: false\n",
        "#| warning: false\n",
        "#| label: libraries\n",
        "\n",
        "if (!require(devtools)) install.packages(\"devtools\",\n",
        "  repos = \"http://cran.us.r-project.org\")\n",
        "devtools::install_github(\"tuomaseerola/inconMore\")"
      ],
      "execution_count": null,
      "outputs": []
    },
    {
      "cell_type": "code",
      "metadata": {
        "message": false
      },
      "source": [
        "#| echo: true\n",
        "#| eval: true\n",
        "#| warning: false\n",
        "#| label: libraries2\n",
        "library(inconMore)\n",
        "library(ggplot2, quietly = TRUE)\n",
        "library(tidyverse, quietly = TRUE)\n",
        "options(repr.plot.width = 6, repr.plot.height = 4) # Default plot size for Colab"
      ],
      "execution_count": null,
      "outputs": []
    },
    {
      "cell_type": "markdown",
      "metadata": {},
      "source": [
        "## Code 3.1\n",
        "\n",
        "Frequency of intervals in Bach sinfonias (bars) and ratings of consonance of the intervals (lines, from Bowling, Purves & Gill, 2018). Interval frequencies recreated from Huron 2001."
      ]
    },
    {
      "cell_type": "code",
      "metadata": {},
      "source": [
        "#| echo: true\n",
        "#| eval: true\n",
        "#| label: counts\n",
        "\n",
        "IV<-c(\"P1\",\"m2\",\"M2\",\"m3\",\"M3\",\"P4\",\"TT\",\"P5\",\"m6\",\"M6\",\"m7\",\"M7\",\"P8\")\n",
        "Frequency <- c(15,7,26,87,58,50,35,52,65,88,32,3,23)/100 # approx. from Huron 2001, p. 20\n",
        "library(inconMore) # Let's use more recent data\n",
        "a <- inconMore::bowl18 # Bowling et al., 2018 ratings for 12 intervals\n",
        "Consonance <- scales::rescale(c(NA,a$rating[1:12]),to = c(0,1)) # No unison\n",
        "df <- data.frame(IV,Consonance,Frequency)\n",
        "df$Nro <- 1:13"
      ],
      "execution_count": null,
      "outputs": []
    },
    {
      "cell_type": "markdown",
      "metadata": {},
      "source": [
        "Plot both."
      ]
    },
    {
      "cell_type": "code",
      "metadata": {},
      "source": [
        "#| echo: true\n",
        "#| eval: true\n",
        "#| label: plot\n",
        "#| warning: false\n",
        "\n",
        "g1 <- ggplot(df)  +\n",
        "  geom_bar(aes(x=Nro, y=Frequency),stat=\"identity\", fill=\"gray40\",colour='black')+\n",
        "  geom_line(aes(x=Nro, y=Consonance),stat=\"identity\", group=1,linewidth=1.25,colour=\"gray80\",alpha=0.80)+\n",
        "  geom_point(aes(x=Nro, y=Consonance),stat=\"identity\", group=1,size=3,alpha=0.80)+\n",
        "  theme_bw()+\n",
        "  xlab('Interval')+\n",
        "  ylab('Normalized Freq./Consonance')+\n",
        "  scale_x_continuous(breaks = seq(1,13,by=1),labels = IV,expand = c(0.01,0.01))+\n",
        "  scale_y_continuous(breaks = seq(0,1,by=0.25),expand = c(0.01,0.01),limits = c(0,1))\n",
        "g1"
      ],
      "execution_count": null,
      "outputs": []
    },
    {
      "cell_type": "markdown",
      "metadata": {},
      "source": [
        "## References\n",
        "\n",
        "- Bowling, D. L., Purves, D., & Gill, K. Z. (2018). Vocal similarity predicts the relative attraction of musical chords. _Proceedings of the National Academy of Sciences, 115(1)_, 216–221.\n",
        "- Huron, D. (2001). Tone and voice: A derivation of the rules of voice-leading from perceptual principles. _Music Perception, 19(1)_, 1–64."
      ]
    }
  ],
  "metadata": {
    "kernelspec": {
      "name": "ir",
      "language": "R",
      "display_name": "R"
    }
  },
  "nbformat": 4,
  "nbformat_minor": 4
}
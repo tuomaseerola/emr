{
  "cells": [
    {
      "cell_type": "raw",
      "metadata": {},
      "source": [
        "---\n",
        "code-fold: false\n",
        "---"
      ]
    },
    {
      "cell_type": "markdown",
      "metadata": {},
      "source": [
        "<a href=\"https://colab.research.google.com/github/tuomaseerola/emr/blob/main/Chapter10.1.ipynb\" target=\"_parent\"><img src=\"https://colab.research.google.com/assets/colab-badge.svg\" alt=\"Open In Colab\"/></a>\n",
        "\n",
        "# Ch. 10 – Physical\n",
        "\n",
        "## Figure 10.3. Waveform, loudness, and onset strengths (black curve) and estimated beats (dashed lines) of the intro to Help! by The Beatles.\n",
        "\n",
        "### Libraries"
      ]
    },
    {
      "cell_type": "code",
      "metadata": {},
      "source": [
        "#| echo: true\n",
        "#| eval: true\n",
        "#| label: libraries\n",
        "#| code-fold: true\n",
        "#| code-summary: \"Show the code\"\n",
        "import numpy as np\n",
        "import librosa\n",
        "import librosa.display\n",
        "import IPython.display as ipd\n",
        "from matplotlib import pyplot as plt "
      ],
      "execution_count": null,
      "outputs": []
    },
    {
      "cell_type": "markdown",
      "metadata": {},
      "source": [
        "### 1. Read audio file"
      ]
    },
    {
      "cell_type": "code",
      "metadata": {},
      "source": [
        "#| echo: true\n",
        "#| eval: true\n",
        "#| label: read-audio\n",
        "#| warning: false\n",
        "x, sr = librosa.load('data/help.mp3', offset=1.05, duration=10.087)\n",
        "ipd.display(ipd.Audio(data=x, rate=sr))"
      ],
      "execution_count": null,
      "outputs": []
    },
    {
      "cell_type": "markdown",
      "metadata": {},
      "source": [
        "### 2. Plot waveform"
      ]
    },
    {
      "cell_type": "code",
      "metadata": {},
      "source": [
        "#| echo: true\n",
        "#| eval: true\n",
        "#| label: plot-waveform\n",
        "\n",
        "fig, ax = plt.subplots(nrows=1,figsize=(7.5, 2.75))\n",
        "librosa.display.waveshow(x, sr=sr, ax=ax, color='indigo')\n",
        "\n",
        "ax.set_title(\"Waveform\")\n",
        "ax.set_xlabel(\"Time (s)\")\n",
        "ax.set_ylabel(\"Amplitude\")\n",
        "ax.set_xticks(range(0, 11, 1))\n",
        "ax.set_xlim([0, 10])\n",
        "ax.grid()\n",
        "fig.tight_layout()\n",
        "plt.show()"
      ],
      "execution_count": null,
      "outputs": []
    },
    {
      "cell_type": "markdown",
      "metadata": {},
      "source": [
        "### 3. Plot loudness"
      ]
    },
    {
      "cell_type": "code",
      "metadata": {},
      "source": [
        "#| echo: true\n",
        "#| eval: true\n",
        "#| label: features\n",
        "fig, ax = plt.subplots(nrows=1, figsize=(7.5, 2.75))\n",
        "rms = librosa.feature.rms(y=x)                 # Extra dynamics (RMS)\n",
        "db = librosa.amplitude_to_db(rms, ref=np.max)   # Convert into dB. Note that this is a relative measure (loudest is now 0) \n",
        "times = librosa.times_like(rms)\n",
        "\n",
        "ax.plot(times, db[0], color='darkblue')\n",
        "ax.set_title(\"Loudness\")\n",
        "ax.set_ylim([-15,0])\n",
        "ax.set_ylabel(\"Decibel\")\n",
        "ax.set_xlabel(\"Time (s)\")\n",
        "ax.set_xticks(range(0, 11, 1))\n",
        "ax.set_xlim([0, 10])\n",
        "ax.grid()\n",
        "fig.tight_layout()\n",
        "plt.show()"
      ],
      "execution_count": null,
      "outputs": []
    },
    {
      "cell_type": "markdown",
      "metadata": {},
      "source": [
        "### 4. Plot onset strength, estimated and annotated beats"
      ]
    },
    {
      "cell_type": "code",
      "metadata": {},
      "source": [
        "#| echo: true\n",
        "#| eval: true\n",
        "#| label: onsets\n",
        "\n",
        "fig, ax = plt.subplots(nrows=1, figsize=(7.5, 2.75))\n",
        "\n",
        "\n",
        "onset_subbands = librosa.onset.onset_strength_multi(y=x, \n",
        "                                                    sr=sr, \n",
        "                                                    channels=[0, 32, 64, 96, 128])\n",
        "\n",
        "onset_subbands_s = sum(onset_subbands, 1)\n",
        "ax.plot(times, onset_subbands_s, 'maroon')\n",
        "\n",
        "tempo, beats = librosa.beat.beat_track(y=x, sr=sr, trim=False)\n",
        "plt.vlines(times[beats], 0, onset_subbands_s.max(), color='0.40', alpha=0.80,\n",
        "           linestyle='--', label='Beats')\n",
        "\n",
        "o_env = librosa.onset.onset_strength(y=x, sr=sr)\n",
        "times = librosa.times_like(o_env, sr=sr)\n",
        "onset_frames = librosa.onset.onset_detect(onset_envelope=o_env, sr=sr)\n",
        "\n",
        "ax.set_title(\"Onset strength and estimated beats\")\n",
        "ax.set_ylabel(\"Strength\")\n",
        "ax.set_xlabel(\"Time (s)\")\n",
        "ax.set_ylim([0, 60])\n",
        "ax.set_xticks(range(0, 11, 1))\n",
        "ax.set_xlim([0, 10])\n",
        "ax.grid()\n",
        "fig.tight_layout()\n",
        "\n",
        "data = np.loadtxt('data/Help_beats.csv')  \n",
        "ann_time = data[0:16, 0]-1.05\n",
        "ann_label = data[0:16, 1]\n",
        "for x in range(16):\n",
        "    ax.text(ann_time[x], 53, int(ann_label[x]), size=6, \n",
        "            backgroundcolor='0.8', weight='bold', ha='center')\n",
        "\n",
        "plt.show()"
      ],
      "execution_count": null,
      "outputs": []
    }
  ],
  "metadata": {
    "kernelspec": {
      "name": "python3",
      "language": "python",
      "display_name": "Python 3"
    }
  },
  "nbformat": 4,
  "nbformat_minor": 4
}
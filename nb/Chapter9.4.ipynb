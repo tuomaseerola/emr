{
  "cells": [
    {
      "cell_type": "markdown",
      "metadata": {},
      "source": [
        "# Ch. 9 - Expressive Timing\n",
        "\n",
        "This notebook demonstrates expressive timing profiles from real performances from [https://github.com/fosfrancesco/asap-dataset](https://github.com/fosfrancesco/asap-dataset).\n",
        "\n",
        "## Load libraries"
      ]
    },
    {
      "cell_type": "code",
      "metadata": {
        "message": false
      },
      "source": [
        "#| echo: true\n",
        "#| eval: true\n",
        "#| warning: false\n",
        "#| label: libraries\n",
        "library(ggplot2, quietly = TRUE)\n",
        "library(tidyverse, quietly = TRUE)\n",
        "library(dplyr, quietly = TRUE)"
      ],
      "execution_count": null,
      "outputs": []
    },
    {
      "cell_type": "markdown",
      "metadata": {},
      "source": [
        "## Get data from ASAP project\n",
        "\n",
        "This gets the metadata from ASAP project (see Foscarin et al., 2020) and selects Preludes op 23.4."
      ]
    },
    {
      "cell_type": "code",
      "metadata": {},
      "source": [
        "#| echo: true\n",
        "#| eval: true\n",
        "#| output: asis\n",
        "d <- read.csv(\"https://raw.githubusercontent.com/fosfrancesco/asap-dataset/master/metadata.csv\",header = TRUE,sep = ',')\n",
        "df<-dplyr::filter(d,title=='Preludes_op_23_4')\n",
        "df<-df[1:3,]\n",
        "print(knitr::kable(head(df[,1:3],3)))"
      ],
      "execution_count": null,
      "outputs": []
    },
    {
      "cell_type": "markdown",
      "metadata": {},
      "source": [
        "## Read score annotations"
      ]
    },
    {
      "cell_type": "code",
      "metadata": {},
      "source": [
        "#| eval: true\n",
        "#| output: asis\n",
        "#| label: read\n",
        "basedir <-'https://raw.githubusercontent.com/tuomaseerola/emr/master/'\n",
        "deadpan <- read.csv(paste0(basedir,'data/midi_score_annotations.txt'),header = FALSE, sep = '\\t')\n",
        "print(knitr::kable(head(deadpan,3)))\n",
        "fn <- NULL\n",
        "fn[1]<-'data/ChenGuang12M_annotations.txt'\n",
        "fn[2]<-'data/MorozovS09_annotations.txt'\n",
        "fn[3]<-'data/WuuE07M_annotations.txt'\n",
        "Performer <- c('Chen Guang','Yevgeny Morozov','Elliot Wuu')"
      ],
      "execution_count": null,
      "outputs": []
    },
    {
      "cell_type": "code",
      "metadata": {},
      "source": [
        "#| echo: false\n",
        "#| eval: true\n",
        "#| label: add_function\n",
        "\n",
        "normperf <- function(d=NULL) {\n",
        "  # function to normalise performance timing given score\n",
        "  # And calculate deviation in ms\n",
        "  d$perf_N<-d$perf\n",
        "  d$perf_N<-d$perf_N - min(d$perf_N)\n",
        "  d$perf_N <- d$perf_N * (max(d$score)/max(d$perf_N))\n",
        "  d$delta <- d$perf_N - d$score\n",
        "  d$delta2 <- c(0,diff(d$delta)*1000)\n",
        "  d$scoredelta <- c(0,diff(d$score)*1000)\n",
        "  d$rawperfdelta <- c(0,diff(d$perf)*1000)\n",
        "  d$rawperf_Ndelta <- c(0,diff(d$perf_N)*1000)\n",
        "  d$scoredelta_rawperf_Ndelta <- d$rawperf_Ndelta - d$scoredelta\n",
        "  d$annotation<-d$annotation\n",
        "  result <- d\n",
        "  return(result)\n",
        "}"
      ],
      "execution_count": null,
      "outputs": []
    },
    {
      "cell_type": "markdown",
      "metadata": {},
      "source": [
        "## Choose extract from all performers"
      ]
    },
    {
      "cell_type": "code",
      "metadata": {},
      "source": [
        "#| echo: true\n",
        "#| eval: true\n",
        "#| output: asis\n",
        "#| label: extract\n",
        "D <- NULL\n",
        "for (k in 1:length(fn)) {\n",
        "  perf<-read.csv(paste0(basedir,fn[k]),header=F,sep='\\t')\n",
        "  DF<-data.frame(score=deadpan$V1,perf=perf$V1,\n",
        "    annotation=deadpan$V3)\n",
        "  DF <- dplyr::filter(DF,score < 30) # Limit to first 10 bars = 3*10 beats\n",
        "  DF2 <- normperf(DF)                # Defined previouslys\n",
        "  DF2$Performer<-Performer[k]\n",
        "  D<-rbind(D,DF2)\n",
        "}\n",
        "\n",
        "options(encoding = \"UTF-8\")\n",
        "#library(dplyr)\n",
        "DF <- dplyr::filter(D,score < 30) # First 10 bars = 3*10 beats\n",
        "print(knitr::kable(head(DF[,1:6],3)))"
      ],
      "execution_count": null,
      "outputs": []
    },
    {
      "cell_type": "markdown",
      "metadata": {},
      "source": [
        "## Plot expressive timing deviations"
      ]
    },
    {
      "cell_type": "code",
      "metadata": {},
      "source": [
        "#| echo: true\n",
        "#| eval: true\n",
        "#| warning: false\n",
        "#| label: plot\n",
        "options(repr.plot.width = 12, repr.plot.height = 5)\n",
        "g1 <- ggplot(DF,aes(x=perf_N,y=scoredelta_rawperf_Ndelta,colour=Performer,shape=Performer))+\n",
        "  geom_line(alpha=0.85)+\n",
        "  geom_point(alpha=0.85,size=2.5)+\n",
        "  scale_color_grey(start = 0.30,end = 0.8)+\n",
        "  geom_smooth(aes(colour = NULL,shape=NULL), method = \"loess\", span=0.2,se=FALSE,colour='black',linewidth=1.25)+\n",
        "  scale_x_continuous(limits=c(0,30),breaks = seq(0,30,by=3),expand = c(0.02,0.002),labels=(seq(0,30,by=3)/3)+1) +\n",
        "  xlab('Bar')+\n",
        "  ylab('Deviation in ms')+\n",
        "  theme_bw()+\n",
        "  theme(legend.position=c(.85, .80))+\n",
        "  theme(legend.background = element_blank()) +  # Remove overall border\n",
        "  theme(legend.key = element_blank())\n",
        "print(g1)"
      ],
      "execution_count": null,
      "outputs": []
    },
    {
      "cell_type": "markdown",
      "metadata": {},
      "source": [
        "## References\n",
        "\n",
        "- Foscarin, F., Mcleod, A., Rigaux, P., Jacquemard, F., & Sakai, M. (2020). ASAP: a dataset of aligned scores and performances for piano transcription. In _International Society for Music Information Retrieval Conference_ (pp. 534-541).\n"
      ]
    }
  ],
  "metadata": {
    "kernelspec": {
      "name": "ir",
      "language": "R",
      "display_name": "R"
    }
  },
  "nbformat": 4,
  "nbformat_minor": 4
}
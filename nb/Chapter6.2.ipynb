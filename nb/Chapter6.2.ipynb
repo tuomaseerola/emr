{
  "cells": [
    {
      "cell_type": "markdown",
      "metadata": {},
      "source": [
        "<a href=\"https://colab.research.google.com/github/tuomaseerola/emr/blob/master/Chapter6.ipynb\" target=\"_parent\"><img src=\"https://colab.research.google.com/assets/colab-badge.svg\" alt=\"Open In Colab\"/></a>\n",
        "\n",
        "# Ch. 6 – Data Organisation\n",
        "\n",
        "This notebook demonstrates Data Diagnostics and Summaries.\n",
        "\n",
        "This section is based on R template for analysing data from experiments and surveys and justification to follow certain conventions and structures. This document is available as a rendered html at [https://tuomaseerola.github.io/R_template/](https://tuomaseerola.github.io/R_template/).\n",
        "\n",
        "## Organisation\n",
        "\n",
        "For each project, you should establish one repository that you can clone/share using appropriate service (such as Github, Gitlab, or other services, even Dropbox works for collaborations). Name the repository with a compact but informative name (`chord_priming` or `emotion_recognition5`) that separates it from the potential other projects.\n",
        "\n",
        "Within this repository, it is a good idea to establish separate folders for separate elements:\n",
        "\n",
        "* `/data` Data in read-only format (preferably CSV or TSV format)\n",
        "* `/munge` All operations to pre-process, recode, or trim data\n",
        "* `/scr` All actual R scripts used in the analysis\n",
        "* `/figures` Outputs from the scripts (optional if use reporting languages)\n",
        "* `/docs` Outputs from the reports (optional if use reporting languages)\n",
        "\n",
        "In this repository, `contents.R` is the file that compiles the full analysis and allows you to reproduce evertyhing in R. Alternatively this file can Rmarkdown file, which is neat analysis and reporting format or even Quarto document, which is more advanced version of this. Nevertheless, the summary document contains all the stages, structures and processes of the project. This is structured to be executed in a coherent order and manner (i.e., loading, transforming, screening the data, and then visualising, applying statistical analyses, creating figures, and tables). \n",
        "\n",
        "`report.Rmd` will create the report that incorporates comments and the actual analyses and produces either html or pdf file (`report.html`, `report.pdf`) in the `docs` folder.\n",
        "\n",
        "### Data\n",
        "\n",
        "Typically the data is in CSV (comma-separated values) or TSV (tab-separated values) as this is the output from most experiment software solutions and also easily exported from _Qualtrics_, psychophysiological measures and so on. Sometimes the data might be in Excel format, which can also be read easily into R, and I would advice against large amount of edits in Excel as you would lose the ability to tell what has been changed and why. **The rule is that we never edit or manipulate or fix or alter the raw data**, no matter what the format is. \n",
        "\n",
        "It is good to store the raw original data with time stamps to the data folder and if you get a newer datasets or more observations, you add a new data file to the data folder with a new timestamp and keep the old one for reference. There are situations when the data has excess observations (pilot participants), typos and other issues, but it is easier and more transparent to handle these in the processing (munging) stage.\n",
        "\n",
        "### Munging\n",
        "\n",
        "Munging refers to preprocessing the raw data to be useful for the actual analysis. Often this means relabelling the names of the variables (columns) and possibly recoding the observations (as numeric responses or as factors). It is also very typical to pivot the data from wide format (numerous variables in columns) to long format so the key variables contain all manipulations.\n",
        "\n",
        "### Scripts\n",
        "\n",
        "Often you develop the analysis in stages, starting with some form of quality control and moving onto descriptives and then inferential statistics. For enhanced clarity and debugging, it is a good idea to develop these as separate scripts (and also possibly as functions) and store them in the scripts folder. The production of tables and figures can also be explicitly done with separate scripts.\n",
        "\n",
        "In the end, you should have one file (that I call `contents.R`) that is able to produce the full analysis from reading the data, preprocessing the data, calculating quality control indicators, summarising the data, producing the analyses and creating tables and figures.\n",
        "\n",
        "## Example repository and template analysis\n",
        "\n",
        "Proceed to either a fuller explanation of the process at [https://tuomaseerola.github.io/R_template/](https://tuomaseerola.github.io/R_template/) or check the quarto slides about [R_template in action](https://tuomaseerola.github.io/R_template/R_template_in_action.html) to explore the steps of the analysis process. \n",
        "\n",
        "### Initialise the analysis\n",
        "\n",
        "Start R and open up the `contents.R` file using your preferred editor. Check that the directory after the first command setwd is pointing the location of your analysis directory and run the first lines of the code:"
      ]
    },
    {
      "cell_type": "code",
      "metadata": {},
      "source": [
        "#| echo: true\n",
        "#| eval: false\n",
        "#| label: libraries\n",
        "# contents.R\n",
        "## INITIALISE: LOAD LIBRARIES\n",
        "library(tidyverse, quietly = TRUE) # Loads the necessary R libraries"
      ],
      "execution_count": null,
      "outputs": []
    },
    {
      "cell_type": "markdown",
      "metadata": {},
      "source": [
        "If you get errors at this stage with new installation of R, they might refer to the special libraries that were loaded or installed in libraries.R. This script should install the required libraries for you such as ggplot2, but there might be issues with your particular setup.\n",
        "\n",
        "### Load, preprocess and diagnose the data\n",
        "\n",
        "Next, it is time to load the data with a scripts, the first one read_data_survey.R is simply reading an TSV file exported from Qualtrics stored in data folder. I’ve taken the second, descriptive header row out of the data to simply the process, but different datasets will have slightly different structures."
      ]
    },
    {
      "cell_type": "code",
      "metadata": {},
      "source": [
        "#| echo: true\n",
        "#| eval: false\n",
        "#| label: read-data\n",
        "source('scr/read_data_survey.R') # Produces data frame v "
      ],
      "execution_count": null,
      "outputs": []
    },
    {
      "cell_type": "markdown",
      "metadata": {},
      "source": [
        "This should retrieve a data frame into a variable called v in R, which contains a complex data frame. In the next step this raw data will be munged, that is, pre-processed in several ways. Pre-processing can have multiple steps, here these have broken into two:\n",
        "\n",
        "First operation carries out a long list of renaming the variables (columns in the data, rename_variables.R). This can be avoided if the data has these names already, and it is quite useful to try to embed meaningful variables names to the data collection (experiment or survey or manual coding).\n",
        "\n",
        "Recoding instruments (recode_instruments.R) has several steps and it might be useful to study the steps separately. Finally the responses are reshaped into a form called long-form that is better suited for the analyses. This dataframe will be called df."
      ]
    },
    {
      "cell_type": "code",
      "metadata": {},
      "source": [
        "#| echo: true\n",
        "#| eval: false\n",
        "#| label: munge\n",
        "source('munge/rename_variables.R')  # Renames the columns of the v\n",
        "source('munge/recode_instruments.R')# Produces df (long-form) from v"
      ],
      "execution_count": null,
      "outputs": []
    },
    {
      "cell_type": "markdown",
      "metadata": {},
      "source": [
        "After the munging, it is prudent to check various aspects of the data.\n",
        "\n",
        "1. Descriptives such as the N, age, gender are echoed in order to remind us of the dataset properties (`demographics_info.R`).\n",
        "\n",
        "2. We can also explore the consistency of the ratings across the people to check whether people agreed on the ratings and generally understood the task (`interrater_reliability.R`).\n",
        "\n",
        "3. We also want to look at the distributions of the collected data in order to learn whether one needs to use certain operations (transformations or resort to non-parametric statistics) in the subsequent analyses (visualise.R). This step will also include displaying correlations between the emotion scales which is a useful operation to learn about the overlap of the concepts used in the tasks."
      ]
    },
    {
      "cell_type": "code",
      "metadata": {},
      "source": [
        "#| echo: true\n",
        "#| eval: false\n",
        "#| label: demographics\n",
        "source('scr/demographics_info.R')  # Reports N, Age and other details"
      ],
      "execution_count": null,
      "outputs": []
    }
  ],
  "metadata": {
    "kernelspec": {
      "name": "ir",
      "language": "R",
      "display_name": "R"
    }
  },
  "nbformat": 4,
  "nbformat_minor": 4
}
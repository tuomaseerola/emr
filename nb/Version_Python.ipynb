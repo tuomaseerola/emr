{
  "cells": [
    {
      "cell_type": "markdown",
      "metadata": {},
      "source": [
        "# Establish Python library versions within Colab\n",
        "\n",
        "In March 2024 Colab had:\n",
        "\n",
        "-   Python version 3.10.12\n",
        "-   matplotlib version 3.7.1\n",
        "-   librosa version 0.10.1\n",
        "-   numpy version 1.25.2"
      ],
      "id": "2423ff8f-380a-48a1-a674-43f629ca5085"
    },
    {
      "cell_type": "code",
      "execution_count": 1,
      "metadata": {},
      "outputs": [
        {
          "output_type": "stream",
          "name": "stdout",
          "text": [
            "Current system has:\n",
            "Python version 3.9.18\n",
            "matplotlib version 3.7.2\n",
            "librosa version 0.10.1\n",
            "numpy version 1.24.4"
          ]
        }
      ],
      "source": [
        "print('Current system has:')\n",
        "import platform\n",
        "print('Python version ' + platform.python_version())\n",
        "import matplotlib\n",
        "print('matplotlib version ' + matplotlib.__version__)\n",
        "import librosa\n",
        "import librosa.display\n",
        "print('librosa version ' + librosa.__version__)\n",
        "import numpy as np\n",
        "print('numpy version ' + np.__version__)"
      ],
      "id": "python-versions"
    }
  ],
  "nbformat": 4,
  "nbformat_minor": 5,
  "metadata": {
    "kernelspec": {
      "name": "python3",
      "display_name": "Python 3",
      "language": "python"
    },
    "language_info": {
      "name": "python",
      "codemirror_mode": {
        "name": "ipython",
        "version": "3"
      },
      "file_extension": ".py",
      "mimetype": "text/x-python",
      "nbconvert_exporter": "python",
      "pygments_lexer": "ipython3",
      "version": "3.9.18"
    }
  }
}
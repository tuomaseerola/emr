{
  "cells": [
    {
      "cell_type": "markdown",
      "metadata": {},
      "source": [
        "# Establish Python library versions within Colab\n",
        "\n",
        "In March 2024 Colab had:\n",
        "\n",
        "- Python version 3.10.12\n",
        "- matplotlib version 3.7.1\n",
        "- librosa version 0.10.1\n",
        "- numpy version 1.25.2"
      ]
    },
    {
      "cell_type": "code",
      "metadata": {},
      "source": [
        "#| echo: true\n",
        "#| eval: true\n",
        "#| label: python-versions\n",
        "print('Current system has:')\n",
        "import platform\n",
        "print('Python version ' + platform.python_version())\n",
        "import matplotlib\n",
        "print('matplotlib version ' + matplotlib.__version__)\n",
        "import librosa\n",
        "import librosa.display\n",
        "print('librosa version ' + librosa.__version__)\n",
        "import numpy as np\n",
        "print('numpy version ' + np.__version__)"
      ],
      "execution_count": null,
      "outputs": []
    }
  ],
  "metadata": {
    "kernelspec": {
      "name": "python3",
      "language": "python",
      "display_name": "Python 3"
    }
  },
  "nbformat": 4,
  "nbformat_minor": 4
}
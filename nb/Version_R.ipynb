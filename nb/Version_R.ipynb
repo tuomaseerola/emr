{
  "cells": [
    {
      "cell_type": "markdown",
      "metadata": {},
      "source": [
        "# \n",
        "\n",
        "# Establish R library versions within Colab\n",
        "\n",
        "In March 2024 Colab version of R is:"
      ],
      "id": "864538da-4209-41b1-a968-b63dfa4207f5"
    },
    {
      "cell_type": "code",
      "execution_count": null,
      "metadata": {},
      "outputs": [],
      "source": [
        "R version 4.3.3 (2024-02-29)\n",
        "tidyverse 2.0.0’\n",
        "ggplot2 3.4.4’"
      ],
      "id": "c2f60b81-18f4-4c40-b821-2cef79ec1c3c"
    },
    {
      "cell_type": "markdown",
      "metadata": {},
      "source": [
        "Test the Colab version of R."
      ],
      "id": "3edaa852-a5da-4aa9-a422-d6a16db650a3"
    },
    {
      "cell_type": "code",
      "execution_count": null,
      "metadata": {},
      "outputs": [
        {
          "output_type": "stream",
          "name": "stdout",
          "text": [
            "[1] \"R version 4.3.3 (2024-02-29)\""
          ]
        }
      ],
      "source": [
        "print(R.version.string)"
      ],
      "id": "e328bb69-4de9-42b9-ae55-9bc121cf212b"
    },
    {
      "cell_type": "markdown",
      "metadata": {},
      "source": [
        "## Libraries\n",
        "\n",
        "Show libraries"
      ],
      "id": "c78e851c-1eec-4834-bb84-12a92f5633de"
    },
    {
      "cell_type": "code",
      "execution_count": null,
      "metadata": {},
      "outputs": [
        {
          "output_type": "stream",
          "name": "stdout",
          "text": [
            "[1] '2.0.0'"
          ]
        },
        {
          "output_type": "stream",
          "name": "stdout",
          "text": [
            "[1] '3.5.0'"
          ]
        }
      ],
      "source": [
        "#print(installed.packages())\n",
        "packageVersion(\"tidyverse\")"
      ],
      "id": "8de27630-22f1-4a59-ad00-8ed03c726ce1"
    },
    {
      "cell_type": "markdown",
      "metadata": {},
      "source": [
        "## Show other information"
      ],
      "id": "dd9488e0-ef64-4952-9b2c-df1054260495"
    },
    {
      "cell_type": "code",
      "execution_count": null,
      "metadata": {},
      "outputs": [
        {
          "output_type": "stream",
          "name": "stdout",
          "text": [
            "R version 4.3.3 (2024-02-29)\n",
            "Platform: x86_64-apple-darwin20 (64-bit)\n",
            "Running under: macOS Ventura 13.6.4\n",
            "\n",
            "Matrix products: default\n",
            "BLAS:   /Library/Frameworks/R.framework/Versions/4.3-x86_64/Resources/lib/libRblas.0.dylib \n",
            "LAPACK: /Library/Frameworks/R.framework/Versions/4.3-x86_64/Resources/lib/libRlapack.dylib;  LAPACK version 3.11.0\n",
            "\n",
            "locale:\n",
            "[1] en_US.UTF-8/en_US.UTF-8/en_US.UTF-8/C/en_US.UTF-8/en_US.UTF-8\n",
            "\n",
            "time zone: Europe/London\n",
            "tzcode source: internal\n",
            "\n",
            "attached base packages:\n",
            "[1] stats     graphics  grDevices utils     datasets  methods   base     \n",
            "\n",
            "loaded via a namespace (and not attached):\n",
            " [1] compiler_4.3.3  fastmap_1.1.1   cli_3.6.2       tools_4.3.3    \n",
            " [5] htmltools_0.5.8 yaml_2.3.8      rmarkdown_2.26  knitr_1.45     \n",
            " [9] jsonlite_1.8.8  xfun_0.43       digest_0.6.35   rlang_1.1.3    \n",
            "[13] evaluate_0.23  "
          ]
        }
      ],
      "source": [
        "sessionInfo()"
      ],
      "id": "c1169e7c-feac-463b-b748-ec34d96179bb"
    }
  ],
  "nbformat": 4,
  "nbformat_minor": 5,
  "metadata": {
    "kernelspec": {
      "display_name": "R",
      "language": "R",
      "name": "ir"
    }
  }
}
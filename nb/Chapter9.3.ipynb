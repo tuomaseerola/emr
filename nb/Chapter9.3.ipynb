{
  "cells": [
    {
      "cell_type": "markdown",
      "metadata": {},
      "source": [
        "# Ch. 9 – Key-finding\n",
        "\n",
        "Install `music21` and other elements needed to run the environment Press\n",
        "play and wait for all commands to be executed - this initial command\n",
        "might take some time as it needs to build the `music21` environment.\n",
        "\n",
        "## Key-finding\n",
        "\n",
        "Key-finding algorithm applied to an example excerpt (`bach/bwv30.6`)."
      ],
      "id": "01330c03-9810-4bdf-a8cf-0c657b262408"
    },
    {
      "cell_type": "code",
      "execution_count": 2,
      "metadata": {},
      "outputs": [],
      "source": [
        "import sys\n",
        "from music21 import *                     # activate library\n",
        "import pandas as pd"
      ],
      "id": "62ebdc12"
    },
    {
      "cell_type": "code",
      "execution_count": 3,
      "metadata": {},
      "outputs": [
        {
          "output_type": "stream",
          "name": "stdout",
          "text": [
            "A major\n",
            "   key   mode         r\n",
            "0    E  major  0.881687\n",
            "1    E  major  0.892883\n",
            "2    A  major  0.588537\n",
            "3    B  major  0.833787\n",
            "4    E  major  0.972757\n",
            "5    E  major  0.901069\n",
            "6   F#  minor  0.717810\n",
            "7    E  major  0.847699\n",
            "8    E  major  0.882310\n",
            "9    E  major  0.807233\n",
            "10  F#  minor  0.746200\n",
            "11   B  major  0.694972\n",
            "12   B  minor  0.684539\n",
            "13   B  minor  0.696579\n",
            "14   E  major  0.813827"
          ]
        }
      ],
      "source": [
        "bwv30_6 = corpus.parse('bach/bwv30.6.xml')# 30.6\n",
        "print(bwv30_6.analyze('key.krumhanslkessler'))\n",
        "bwv30_6_3meas = bwv30_6.measures(1,4) # First 3 measures\n",
        "\n",
        "KK = analysis.discrete.KrumhanslKessler() # Key profile\n",
        "wa = analysis.windowed.WindowedAnalysis(bwv30_6_3meas, KK)\n",
        "a,b = wa.analyze(2, windowType='overlap')\n",
        "\n",
        "keyclar=[]; mode=[]; key=[]\n",
        "for x in range(len(a)):\n",
        "    key.append(a[x][0])\n",
        "    mode.append(a[x][1])\n",
        "    keyclar.append(a[x][2])\n",
        "data=pd.DataFrame({'key':key,'mode':mode,'r':keyclar})\n",
        "print(data)"
      ],
      "id": "26169bea"
    },
    {
      "cell_type": "markdown",
      "metadata": {},
      "source": [
        "## Tension\n",
        "\n",
        "Analysis of tonal tension using the model by Herremans and Chew (2016),\n",
        "implemented in `partitura` library for Python."
      ],
      "id": "fdc2e4b4-5ec0-46fd-88ad-a82390ad3561"
    },
    {
      "cell_type": "code",
      "execution_count": 5,
      "metadata": {},
      "outputs": [],
      "source": [
        "import partitura\n",
        "import numpy as np"
      ],
      "id": "78755160"
    },
    {
      "cell_type": "code",
      "execution_count": 6,
      "metadata": {},
      "outputs": [
        {
          "output_type": "stream",
          "name": "stdout",
          "text": [
            "    beat   tension\n",
            "0    0.0  0.000000\n",
            "1    1.0  0.132809\n",
            "2    2.0  0.132809\n",
            "3    2.5  0.031124\n",
            "4    3.0  0.192431\n",
            "5    3.5  0.046758\n",
            "6    4.0  0.142699\n",
            "7    4.5  0.055152\n",
            "8    5.0  0.082517\n",
            "9    5.5  0.072674\n",
            "10   6.0  0.088245\n",
            "11   7.0  0.158890\n",
            "12   7.5  0.023576\n",
            "13   8.0  0.135350\n",
            "14  10.0  0.126068\n",
            "15  11.0  0.111489\n",
            "16  11.5  0.031124\n",
            "17  12.0  0.092913\n",
            "18  12.5  0.036120\n",
            "19  13.0  0.125584\n",
            "20  13.5  0.073635\n",
            "21  14.0  0.168273\n",
            "22  14.5  0.114459\n",
            "23  15.0  0.116256\n",
            "24  15.5  0.080099\n",
            "25  16.0  0.061819\n",
            "26  20.0  0.032064\n",
            "27  21.0  0.111489\n",
            "28  21.5  0.031124\n",
            "29  22.0  0.043444\n",
            "30  22.5  0.109472\n",
            "31  23.0  0.086467\n",
            "32  23.5  0.080719\n",
            "33  24.0  0.218836\n",
            "34  24.5  0.064623\n",
            "35  25.0  0.236635\n",
            "36  25.5  0.092383\n",
            "37  26.0  0.236347\n",
            "38  28.0  0.177259\n",
            "39  28.5  0.046247\n",
            "40  29.0  0.034470\n",
            "41  29.5  0.052403\n",
            "42  30.0  0.097112\n",
            "43  30.5  0.051889\n",
            "44  31.0  0.131294\n",
            "45  31.5  0.046758\n",
            "46  32.0  0.127003\n",
            "47  32.5  0.059613\n",
            "48  33.0  0.085597\n",
            "49  33.5  0.075891"
          ]
        },
        {
          "output_type": "stream",
          "name": "stderr",
          "text": [
            "/Users/tuomaseerola/miniconda3/envs/relative_mode/lib/python3.9/site-packages/partitura/io/importmusicxml.py:421: UserWarning: Found repeat without start\n",
            "Starting point 0 is assumed\n",
            "  warnings.warn("
          ]
        }
      ],
      "source": [
        "part = partitura.load_musicxml('data/bwv306.musicxml')\n",
        "tonal_tension = partitura.musicanalysis.estimate_tonaltension(part, ss='onset')\n",
        "x = getattr(tonal_tension['onset_beat'][0:50], \"tolist\", lambda: value)()\n",
        "y = tonal_tension['cloud_momentum'][0:50]\n",
        "\n",
        "d = {'beat': x,'tension': y}\n",
        "df = pd.DataFrame(data=d)\n",
        "print(df)"
      ],
      "id": "3550c68c"
    },
    {
      "cell_type": "markdown",
      "metadata": {},
      "source": [
        "### References\n",
        "\n",
        "-   Herremans, D., & Chew, E. (2016). Tension ribbons: Quantifying and\n",
        "    visualising tonal tension. Second International Conference on\n",
        "    Technologies for Music Notation and Representation. *TENOR, 2*."
      ],
      "id": "3a69719d-32f9-4898-aca0-aebde3028809"
    }
  ],
  "nbformat": 4,
  "nbformat_minor": 5,
  "metadata": {
    "kernelspec": {
      "name": "python3",
      "display_name": "Python 3",
      "language": "python"
    },
    "language_info": {
      "name": "python",
      "codemirror_mode": {
        "name": "ipython",
        "version": "3"
      },
      "file_extension": ".py",
      "mimetype": "text/x-python",
      "nbconvert_exporter": "python",
      "pygments_lexer": "ipython3",
      "version": "3.9.18"
    }
  }
}
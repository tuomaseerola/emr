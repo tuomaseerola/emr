{
  "cells": [
    {
      "cell_type": "raw",
      "metadata": {},
      "source": [
        "---\n",
        "toc: true\n",
        "---"
      ]
    },
    {
      "cell_type": "markdown",
      "metadata": {},
      "source": [
        "<a href=\"https://colab.research.google.com/github/tuomaseerola/emr/blob/main/Chapter9.3.ipynb\" target=\"_parent\"><img src=\"https://colab.research.google.com/assets/colab-badge.svg\" alt=\"Open In Colab\"/></a>\n",
        "\n",
        "# Ch. 9 – Key-finding\n",
        "\n",
        "Install `music21` and other elements needed to run the environment\n",
        "Press play and wait for all commands to be executed - this initial command might take some time as it needs to build the `music21` environment."
      ]
    },
    {
      "cell_type": "code",
      "metadata": {},
      "source": [
        "#| echo: false\n",
        "#| eval: false\n",
        "!pip install --upgrade music21\n",
        "!add-apt-repository ppa:mscore-ubuntu/mscore-stable -y\n",
        "!apt-get update\n",
        "!apt-get install musescore\n",
        "!apt-get install xvfb\n",
        "!sh -e /etc/init.d/x11-common start\n",
        "import os\n",
        "os.putenv('DISPLAY', ':99.0')\n",
        "!start-stop-daemon --start --pidfile /var/run/xvfb.pid --make-pidfile --background --exec /usr/bin/Xvfb -- :99 -screen 0 1024x768x24 -ac +extension GLX +render -noreset\n",
        "from music21 import *\n",
        "us = environment.UserSettings()\n",
        "us['musescoreDirectPNGPath'] = '/usr/bin/mscore'\n",
        "us['directoryScratch'] = '/tmp'\n",
        "\n",
        "!wget https://raw.githubusercontent.com/tuomaseerola/music21/master/bwv306.musicxml"
      ],
      "execution_count": null,
      "outputs": []
    },
    {
      "cell_type": "markdown",
      "metadata": {},
      "source": [
        "## Key-finding\n",
        "\n",
        "Key-finding algorithm applied to an example excerpt (`bach/bwv30.6`)."
      ]
    },
    {
      "cell_type": "code",
      "metadata": {},
      "source": [
        "import sys\n",
        "from music21 import *                     # activate library\n",
        "import pandas as pd"
      ],
      "execution_count": null,
      "outputs": []
    },
    {
      "cell_type": "code",
      "metadata": {},
      "source": [
        "bwv30_6 = corpus.parse('bach/bwv30.6.xml')# 30.6\n",
        "print(bwv30_6.analyze('key.krumhanslkessler'))\n",
        "bwv30_6_3meas = bwv30_6.measures(1,4) # First 3 measures\n",
        "\n",
        "KK = analysis.discrete.KrumhanslKessler() # Key profile\n",
        "wa = analysis.windowed.WindowedAnalysis(bwv30_6_3meas, KK)\n",
        "a,b = wa.analyze(2, windowType='overlap')\n",
        "\n",
        "keyclar=[]; mode=[]; key=[]\n",
        "for x in range(len(a)):\n",
        "    key.append(a[x][0])\n",
        "    mode.append(a[x][1])\n",
        "    keyclar.append(a[x][2])\n",
        "data=pd.DataFrame({'key':key,'mode':mode,'r':keyclar})\n",
        "print(data)"
      ],
      "execution_count": null,
      "outputs": []
    },
    {
      "cell_type": "markdown",
      "metadata": {},
      "source": [
        "## Tension\n",
        "\n",
        "Analysis of tonal tension using the model by Herremans and Chew (2016), implemented in `partitura` library for Python."
      ]
    },
    {
      "cell_type": "code",
      "metadata": {},
      "source": [
        "#| echo: false\n",
        "#| eval: false\n",
        "! pip install partitura"
      ],
      "execution_count": null,
      "outputs": []
    },
    {
      "cell_type": "code",
      "metadata": {},
      "source": [
        "#| echo: true\n",
        "#| eval: true\n",
        "import partitura\n",
        "import numpy as np"
      ],
      "execution_count": null,
      "outputs": []
    },
    {
      "cell_type": "code",
      "metadata": {},
      "source": [
        "part = partitura.load_musicxml('data/bwv306.musicxml')\n",
        "tonal_tension = partitura.musicanalysis.estimate_tonaltension(part, ss='onset')\n",
        "x = getattr(tonal_tension['onset_beat'][0:50], \"tolist\", lambda: value)()\n",
        "y = tonal_tension['cloud_momentum'][0:50]\n",
        "\n",
        "d = {'beat': x,'tension': y}\n",
        "df = pd.DataFrame(data=d)\n",
        "print(df)"
      ],
      "execution_count": null,
      "outputs": []
    },
    {
      "cell_type": "markdown",
      "metadata": {},
      "source": [
        "### References\n",
        "\n",
        "- Herremans, D., & Chew, E. (2016). Tension ribbons: Quantifying and visualising tonal tension. Second International Conference on Technologies for Music Notation and Representation. _TENOR, 2_.\n"
      ]
    }
  ],
  "metadata": {
    "kernelspec": {
      "name": "python3",
      "language": "python",
      "display_name": "Python 3"
    }
  },
  "nbformat": 4,
  "nbformat_minor": 4
}
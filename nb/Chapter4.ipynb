{
  "cells": [
    {
      "cell_type": "markdown",
      "metadata": {},
      "source": [
        "# Ch. 4 – Correlations\n",
        "\n",
        "## Figure 4.1 Illustration of correlations\n",
        "\n",
        "This data illustrates different correlation coefficients by taking the inspiration from a study by Maruskin et al. (2012), who collected self-reports related to chills. As we don't have the access to the data, the correlations are created by simulating a multivariate normal distribution (see `generate_data.R`) just to illustrate the way the pattern of correlation changes. "
      ]
    },
    {
      "cell_type": "code",
      "metadata": {},
      "source": [
        "#### Libraries ------------------------------------------------\n",
        "library(MASS)\n",
        "library(ggplot2)\n",
        "options(repr.plot.width = 6, repr.plot.height = 6) # Default plot size for Colab\n",
        "\n",
        "#### define a function -------------------------------------\n",
        "generate_data <- function(N=NULL,r=NULL,m_x=NULL,range_x=NULL,m_y=NULL,range_y=NULL){\n",
        "  # Generate data\n",
        "  out <- as.data.frame(mvrnorm(N, mu = c(0,0), \n",
        "                               Sigma = matrix(c(1,r,r,1), ncol = 2), \n",
        "                               empirical = TRUE))\n",
        "  # Calculations to create multiplication and addition factors for mean and range of X and Y\n",
        "  mx.factor <- range_x/6\n",
        "  addx.factor <- m_x - (mx.factor*3)\n",
        "  my.factor <- range_y/6\n",
        "  addy.factor <- m_y - (my.factor*3)\n",
        "  \n",
        "  # Adjust so that values are positive and include factors to match desired means and ranges\n",
        "  out$V1.s <- (out$V1 - min(out$V1))*mx.factor + addx.factor\n",
        "  out$V2.s <- (out$V2 - min(out$V2))*my.factor + addy.factor\n",
        "  return<-out\n",
        "}"
      ],
      "execution_count": null,
      "outputs": []
    },
    {
      "cell_type": "code",
      "metadata": {},
      "source": [
        "#### Correlations we want to simulate ------------------\n",
        "\n",
        "N <- 362\n",
        "r <- 0.32      # Desired correlation\n",
        "d.mx <- 10     # Desired mean of X\n",
        "d.rangex <- 17 # Desired range of X\n",
        "d.my <- 10     # Desired mean of Y\n",
        "d.rangey <- 17 # Desired range of Y"
      ],
      "execution_count": null,
      "outputs": []
    },
    {
      "cell_type": "code",
      "metadata": {},
      "source": [
        "#### Coldshivers and negative emotionality  --------------\n",
        "d1 <- generate_data(N, r, d.mx, d.rangex, d.my, d.rangey)\n",
        "\n",
        "# Plot scatterplot along with regression line\n",
        "g1 <- ggplot(d1, aes(x=V1.s, y=V2.s)) + \n",
        "  geom_point(colour='gray25') + \n",
        "  xlab('Coldshivers')+\n",
        "  ylab('Negative emotionality')+\n",
        "  annotate(\"text\",x = 3.0, y=16,label = \"italic(r)==0.32\", parse=TRUE,size=4.5)+\n",
        "  geom_smooth(formula = y ~ x, method='lm',color='gray50',fullrange=TRUE)+\n",
        "  scale_x_continuous(limits = c(1,22),expand = c(0.00,0.00),breaks = seq(0,20,by=5))+\n",
        "  scale_y_continuous(limits = c(1,22),expand = c(0.00,0.00),breaks = seq(0,20,by=5))+\n",
        "  coord_fixed()+\n",
        "  theme_bw()\n",
        "print(g1)"
      ],
      "execution_count": null,
      "outputs": []
    },
    {
      "cell_type": "code",
      "metadata": {},
      "source": [
        "#### Coldshivers and Goosetingles  --------------\n",
        "set.seed(101)\n",
        "r <- 0.65 # Desired correlation\n",
        "d2 <- generate_data(N, r, d.mx, d.rangex, d.my, d.rangey)\n",
        "g2 <- ggplot(d2, aes(x=V1.s, y=V2.s)) + \n",
        "  geom_point(colour='gray25') + \n",
        "  xlab('Goosetingles')+\n",
        "  ylab('Coldshivers')+\n",
        "  annotate(\"text\",x = 3.0, y=16,label = \"italic(r)==0.65\", parse=TRUE,size=4.5)+\n",
        "  geom_smooth(formula = y ~ x, method='lm',color='gray50',fullrange=TRUE)+\n",
        "  scale_x_continuous(limits = c(1,22),expand = c(0.00,0.00),breaks = seq(0,20,by=5))+\n",
        "  scale_y_continuous(limits = c(1,22),expand = c(0.00,0.00),breaks = seq(0,20,by=5))+\n",
        "  coord_fixed()+\n",
        "  theme_bw()\n",
        "print(g2)"
      ],
      "execution_count": null,
      "outputs": []
    },
    {
      "cell_type": "code",
      "metadata": {},
      "source": [
        "#### Overall chills and Goosetingles  --------------\n",
        "set.seed(101)\n",
        "r <- 0.91\n",
        "d3 <- generate_data(N, r, d.mx, d.rangex, d.my, d.rangey)\n",
        "# Plot scatterplot along with regression line\n",
        "g3 <- ggplot(d3, aes(x=V1.s, y=V2.s)) + \n",
        "  geom_point(colour='gray25') + \n",
        "  xlab('Overall chills')+\n",
        "  ylab('Goosetingles')+\n",
        "  annotate(\"text\",x = 3.0, y=16,label = \"italic(r)==0.91\", parse=TRUE,size=4.5)+\n",
        "  geom_smooth(formula = y ~ x, method='lm',color='gray50',fullrange=TRUE)+\n",
        "  scale_x_continuous(limits = c(1,18),expand = c(0.00,0.00),breaks = seq(0,20,by=5))+\n",
        "  scale_y_continuous(limits = c(1,18),expand = c(0.00,0.00),breaks = seq(0,20,by=5))+\n",
        "  coord_fixed()+\n",
        "  theme_bw()\n",
        "print(g3)"
      ],
      "execution_count": null,
      "outputs": []
    },
    {
      "cell_type": "code",
      "metadata": {},
      "source": [
        "#### Neuroticism and Goosetingles  --------------\n",
        "set.seed(101)\n",
        "r <- 0.02\n",
        "d4 <- generate_data(N, r, d.mx, d.rangex, d.my, d.rangey)\n",
        "# Plot scatterplot along with regression line\n",
        "g4 <- ggplot(d4, aes(x=V1.s, y=V2.s)) + \n",
        "  geom_point(colour='gray25') + \n",
        "  xlab('Neuroticism')+\n",
        "  ylab('Goosetingles')+\n",
        "  annotate(\"text\",x = 3.0, y=16,label = \"italic(r)==0.02\", parse=TRUE,size=4.5)+\n",
        "  geom_smooth(formula = y ~ x, method='lm',color='gray50',fullrange=TRUE)+\n",
        "  scale_x_continuous(limits = c(1,18),expand = c(0.00,0.00),breaks = seq(0,20,by=5))+\n",
        "  scale_y_continuous(limits = c(1,18),expand = c(0.00,0.00),breaks = seq(0,20,by=5))+\n",
        "  coord_fixed()+\n",
        "  theme_bw()\n",
        "print(g4)"
      ],
      "execution_count": null,
      "outputs": []
    },
    {
      "cell_type": "markdown",
      "metadata": {},
      "source": [
        "## Example 4.2 Meta-analysis\n",
        "\n",
        "This recreates forest plot with a small sample of studies (10) from 105 experiments analysed by Cooper (2020)."
      ]
    },
    {
      "cell_type": "code",
      "metadata": {},
      "source": [
        "#install.packages(\"metafor\",repos='http://cran.us.r-project.org',quiet=TRUE)\n",
        "library(metafor,quiet=TRUE)\n",
        "\n",
        "# 10 example studies from Cooper 2020\n",
        "dat <- data.frame(\n",
        "  id = c(1, 2, 3, 4, 5, 6, 7, 8, 9, 10),\n",
        "  yi = c(-0.71, -0.45, -0.25, 0.03, 0.17, 0.20, 0.36, 0.56, 0.72, 0.96),\n",
        "  vi = c(0.143, 0.203, 0.039, 0.057, 0.107, 0.059, 0.046, 0.109, 0.12, 0.050),\n",
        "  author = c(\"Mehr et al.\", \"Bhide et al.\", \"Gromko\", \"Rickar et al.\", \"Hanson et al.\", \"Schellenberg\", \"Ho et al.\", \"Bilhartz et al.\", \"Dege et al.\", \"Flaugnacco et al.\"),\n",
        "  year = c(2013, 2013, 2005, 2012, 2003, 2004, 2003, 2000, 2011, 2015))\n",
        "\n",
        "res.ee <- rma(yi, vi, data=dat, method=\"EE\")\n",
        "\n",
        "forest(res.ee, header=c(\"Experiment\", \"g [95% CR]\"), top=2, xlab=\"Effect Size and Credibility Intervals\",slab=paste(author, year, sep=\", \"),cex=0.9)"
      ],
      "execution_count": null,
      "outputs": []
    },
    {
      "cell_type": "markdown",
      "metadata": {},
      "source": [
        "## References\n",
        "- Cooper, P. K. (2020). It’s all in your head: A meta-analysis on the effects of music training on cognitive measures in schoolchildren. _International Journal of Music Education, 38(3)_, 321–336.\n",
        "- Maruskin, L. A., Thrash, T. M., & Elliot, A. J. (2012). The chills as a psychological construct: Content universe, factor structure, affective composition, elicitors, trait antecedents, and consequences. _Journal of Personality and Social Psychology, 103(1)_, 135–157.\n"
      ]
    }
  ],
  "metadata": {
    "kernelspec": {
      "name": "ir",
      "language": "R",
      "display_name": "R"
    }
  },
  "nbformat": 4,
  "nbformat_minor": 4
}
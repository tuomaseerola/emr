{
  "cells": [
    {
      "cell_type": "raw",
      "metadata": {},
      "source": [
        "---\n",
        "toc: true\n",
        "---"
      ]
    },
    {
      "cell_type": "markdown",
      "metadata": {},
      "source": [
        "<a href=\"https://colab.research.google.com/github/tuomaseerola/emr/blob/main/Chapter9.2.ipynb\" target=\"_parent\"><img src=\"https://colab.research.google.com/assets/colab-badge.svg\" alt=\"Open In Colab\"/></a>\n",
        "\n",
        "# Ch. 9 - Event counts\n",
        "\n",
        "Install `music21` and other elements needed to run this in Colab environment. Press play and wait for all commands to be executed - this initial command might take some time as it needs to build the musi21 environment."
      ]
    },
    {
      "cell_type": "code",
      "metadata": {},
      "source": [
        "#| echo: false\n",
        "#| eval: false\n",
        "!pip install --upgrade music21\n",
        "!add-apt-repository ppa:mscore-ubuntu/mscore-stable -y\n",
        "!apt-get update\n",
        "!apt-get install musescore\n",
        "!apt-get install xvfb\n",
        "!sh -e /etc/init.d/x11-common start\n",
        "import os\n",
        "os.putenv('DISPLAY', ':99.0')\n",
        "!start-stop-daemon --start --pidfile /var/run/xvfb.pid --make-pidfile --background --exec /usr/bin/Xvfb -- :99 -screen 0 1024x768x24 -ac +extension GLX +render -noreset\n",
        "from music21 import *\n",
        "us = environment.UserSettings()\n",
        "us['musescoreDirectPNGPath'] = '/usr/bin/mscore'\n",
        "us['directoryScratch'] = '/tmp'"
      ],
      "execution_count": null,
      "outputs": []
    },
    {
      "cell_type": "markdown",
      "metadata": {},
      "source": [
        "## Event counts"
      ]
    },
    {
      "cell_type": "code",
      "metadata": {},
      "source": [
        "#| echo: true\n",
        "#| eval: false\n",
        "from music21 import *                     # activate library\n",
        "import pandas as pd\n",
        "import seaborn as sns\n",
        "import matplotlib.pyplot as plt"
      ],
      "execution_count": null,
      "outputs": []
    },
    {
      "cell_type": "code",
      "metadata": {},
      "source": [
        "#| echo: true\n",
        "#| eval: true\n",
        "from music21 import *                     # activate library\n",
        "import pandas as pd\n",
        "import seaborn as sns\n",
        "import matplotlib.pyplot as plt\n",
        "# Define pieces\n",
        "# These two piece are related, same piece, different harmonisation\n",
        "bwv110_7 = corpus.parse('bach/bwv110.7.xml') # bwv110.7\n",
        "bwv40_3 = corpus.parse('bach/bwv40.3.xml')"
      ],
      "execution_count": null,
      "outputs": []
    },
    {
      "cell_type": "markdown",
      "metadata": {},
      "source": [
        "### Extract key and trasponse to common tonic"
      ]
    },
    {
      "cell_type": "code",
      "metadata": {},
      "source": [
        "#| echo: true\n",
        "#| eval: true\n",
        "k = bwv110_7.analyze('key')\n",
        "print(k)\n",
        "i = interval.Interval(k.tonic, pitch.Pitch('C'))\n",
        "print(i)\n",
        "bwv110_7 = bwv110_7.transpose(i)\n",
        "\n",
        "k = bwv40_3.analyze('key')\n",
        "print(k)\n",
        "i = interval.Interval(k.tonic, pitch.Pitch('C'))\n",
        "print(i)\n",
        "bwv40_3 = bwv40_3.transpose(i)\n",
        "\n",
        "print('====== Transposed')\n",
        "t = bwv110_7.analyze('key')\n",
        "print(t)\n",
        "t = bwv40_3.analyze('key')\n",
        "print(t)"
      ],
      "execution_count": null,
      "outputs": []
    },
    {
      "cell_type": "markdown",
      "metadata": {},
      "source": [
        "### Calculate pitch-class distribution"
      ]
    },
    {
      "cell_type": "code",
      "metadata": {},
      "source": [
        "#| echo: true\n",
        "#| eval: true\n",
        "# pitch-class\n",
        "pcCount = analysis.pitchAnalysis.pitchAttributeCount(bwv110_7, 'pitchClass')\n",
        "pc = range(0, 12)\n",
        "pitchclass = ('C', 'C#', 'D', 'D#', 'E', 'F', 'F#', 'G', 'G#', 'A', 'A#', 'B')\n",
        "l_pcCount = [[i, pcCount[i]]for i in pc]\n",
        "d = pd.DataFrame(data=l_pcCount, columns=['pc_nro', 'count'])\n",
        "d['Percentage'] = d['count'] / sum(d['count'])\n",
        "d[\"Pitch-Class\"] = pitchclass\n",
        "d[\"Piece\"] = 'BWV 110/7'\n",
        "\n",
        "pcCount2 = analysis.pitchAnalysis.pitchAttributeCount(bwv40_3, 'pitchClass')\n",
        "l_pcCount2 = [[i, pcCount2[i]]for i in pc]\n",
        "d2 = pd.DataFrame(data=l_pcCount2, columns=['pc_nro', 'count'])\n",
        "d2['Percentage'] = d2['count'] / sum(d2['count'])\n",
        "d2[\"Pitch-Class\"] = pitchclass\n",
        "d2[\"Piece\"] = 'BWV 40/3'\n",
        "\n",
        "PC = pd.concat([d, d2])"
      ],
      "execution_count": null,
      "outputs": []
    },
    {
      "cell_type": "markdown",
      "metadata": {},
      "source": [
        "### Calculate interval distribution"
      ]
    },
    {
      "cell_type": "code",
      "metadata": {},
      "source": [
        "# intervals\n",
        "#| echo: true\n",
        "#| eval: true\n",
        "df=[]\n",
        "df2=[]\n",
        "counts = dict()  # add empty dictionary\n",
        "for x in range(-12, 13):\n",
        "   counts[x] = 0\n",
        "\n",
        "for part in bwv110_7.recurse().parts:\n",
        "   p = part.recurse(classFilter=('Note', 'Rest'))  # this is ok but loses rests\n",
        "   intervalStream1 = p.melodicIntervals(skipOctaves=True,skipRests=True)\n",
        "   items = []\n",
        "   for i in intervalStream1.recurse():\n",
        "      items.append(i.semitones)\n",
        "   for j in items:\n",
        "      counts[j] = counts.get(j, 0) + 1\n",
        "\n",
        "df = pd.DataFrame({'Interval': list(counts.keys()),\n",
        "                   'Counts': list(counts.values())})\n",
        "df['Percentage'] = df['Counts'] / sum(df['Counts'])\n",
        "df[\"Piece\"] = 'BWV 110/7'\n",
        "\n",
        "for part in bwv40_3.recurse().parts:\n",
        "   p = part.recurse(classFilter=('Note', 'Rest'))  # this is ok but loses rests\n",
        "   intervalStream1 = p.melodicIntervals()\n",
        "   items = []\n",
        "   for i in intervalStream1.recurse():\n",
        "      items.append(i.semitones)\n",
        "   for j in items:\n",
        "      counts[j] = counts.get(j, 0) + 1\n",
        "\n",
        "df2 = pd.DataFrame({'Interval': list(counts.keys()),\n",
        "                   'Counts': list(counts.values())})\n",
        "df2['Percentage'] = df2['Counts'] / sum(df2['Counts'])\n",
        "df2[\"Piece\"] = 'BWV 40/3'\n",
        "\n",
        "IV = pd.concat([df, df2])"
      ],
      "execution_count": null,
      "outputs": []
    },
    {
      "cell_type": "markdown",
      "metadata": {},
      "source": [
        "### Calculate duration distribution"
      ]
    },
    {
      "cell_type": "code",
      "metadata": {},
      "source": [
        "#| echo: true\n",
        "#| eval: true\n",
        "# durations\n",
        "\n",
        "part = bwv110_7.recurse().parts\n",
        "p = part.recurse()\n",
        "durCount = analysis.elements.attributeCount(p, 'quarterLength')\n",
        "du = pd.DataFrame({'Duration': list(durCount.keys()),\n",
        "                    'Counts': list(durCount.values())})\n",
        "du['Percentage'] = du['Counts'] / sum(du['Counts'])\n",
        "\n",
        "filter = (du['Duration'] < 10)\n",
        "du = du[filter]\n",
        "filter = (du['Duration'] >= 0.25)\n",
        "du = du[filter]\n",
        "du[\"Piece\"] = 'BWV 110/7'\n",
        "\n",
        "part = bwv40_3.recurse().parts\n",
        "p = part.recurse()\n",
        "durCount = analysis.elements.attributeCount(p, 'quarterLength')\n",
        "du2 = pd.DataFrame({'Duration': list(durCount.keys()),\n",
        "                    'Counts': list(durCount.values())})\n",
        "du2['Percentage'] = du2['Counts'] / sum(du2['Counts'])\n",
        "\n",
        "filter = (du2['Duration'] < 10)\n",
        "du2 = du2[filter]\n",
        "filter = (du2['Duration'] >= 0.25)\n",
        "du2 = du2[filter]\n",
        "du2[\"Piece\"] = 'BWV 40/3'\n",
        "\n",
        "DU = pd.concat([du, du2])"
      ],
      "execution_count": null,
      "outputs": []
    },
    {
      "cell_type": "markdown",
      "metadata": {},
      "source": [
        "## Create plots"
      ]
    },
    {
      "cell_type": "code",
      "metadata": {},
      "source": [
        "#| echo: true\n",
        "#| eval: true\n",
        "#| warning: false\n",
        "\n",
        "## Set graphic params\n",
        "sns.set_theme()\n",
        "sns.set_style(\"whitegrid\")\n",
        "colors = [\"#b8b6b6\", \"#636362\"]\n",
        "customPalette = sns.set_palette(sns.color_palette(colors))\n",
        "sns.set_palette(customPalette)\n",
        "\n",
        "plt.rcParams[\"figure.figsize\"] = [7.6, 10.0]\n",
        "plt.rcParams[\"figure.autolayout\"] = True\n",
        "\n",
        "f, axes = plt.subplots(3, 1)\n",
        "g = sns.barplot(x='Pitch-Class', y='Percentage', data=PC,\n",
        "            orient='v', ax=axes[0], hue='Piece')\n",
        "g.legend_.remove()\n",
        "axes[0].text(11, 0.18, \"$\\chi^2=7.2, p=0.70$\", horizontalalignment='right', size='x-small', color='black')\n",
        "\n",
        "bar_plot = sns.barplot(x='Interval', y='Percentage',\n",
        "                       data=IV, orient='v', ax=axes[1], hue='Piece')\n",
        "for index, label in enumerate(bar_plot.get_xticklabels()):\n",
        "   if index % 2 == 1:\n",
        "      label.set_visible(True)\n",
        "   else:\n",
        "      label.set_visible(False)\n",
        "\n",
        "axes[1].text(25, 0.12, \"$\\chi^2=17.2, p=0.37$\", horizontalalignment='right', size='x-small', color='black')\n",
        "\n",
        "h = sns.barplot(x='Duration', y='Percentage', data=DU,\n",
        "            orient='v', ax=axes[2], hue='Piece')\n",
        "\n",
        "axes[2].text(5.25, 0.45, \"$\\chi^2=3.9, p=0.55$\", horizontalalignment='right', size = 'x-small', color='black')\n",
        "\n",
        "h.legend_.remove()\n",
        "plt.show()"
      ],
      "execution_count": null,
      "outputs": []
    },
    {
      "cell_type": "markdown",
      "metadata": {},
      "source": [
        "## Statistics\n",
        "\n",
        "### Pitch-class"
      ]
    },
    {
      "cell_type": "code",
      "metadata": {},
      "source": [
        "#| echo: true\n",
        "#| eval: true\n",
        "#| output: asis\n",
        "\n",
        "from scipy import stats\n",
        "import numpy as np\n",
        "\n",
        "PC2 = PC.pivot(index='pc_nro', columns='Piece', values='count')\n",
        "PC2['Sum'] = PC2.sum(axis=1)\n",
        "PC3 = PC2[PC2.Sum != 0]\n",
        "obs2 = np.array([PC3['BWV 110/7'], PC3['BWV 40/3']])\n",
        "c, p, dof, exp = stats.chi2_contingency(obs2)\n",
        "print(f\"_Chi_$^2$ value = {round(c,2)}, _p_-value = {round(p,3)}, _df_ = {dof}\")"
      ],
      "execution_count": null,
      "outputs": []
    },
    {
      "cell_type": "markdown",
      "metadata": {},
      "source": [
        "### Intervals"
      ]
    },
    {
      "cell_type": "code",
      "metadata": {},
      "source": [
        "#| echo: true\n",
        "#| eval: true\n",
        "#| output: asis\n",
        "\n",
        "IV2 = IV.pivot(index='Interval', columns='Piece', values='Counts')\n",
        "IV2['Sum'] = IV2.sum(axis=1)\n",
        "IV3 = IV2[IV2.Sum != 0]\n",
        "obs2 = np.array([IV3['BWV 110/7'], IV3['BWV 40/3']])\n",
        "c, p, dof, exp = stats.chi2_contingency(obs2)\n",
        "print(f\"_Chi_$^2$ value = {round(c,2)}, _p_-value = {round(p,3)}, _df_ = {dof}\")"
      ],
      "execution_count": null,
      "outputs": []
    },
    {
      "cell_type": "markdown",
      "metadata": {},
      "source": [
        "### Durations"
      ]
    },
    {
      "cell_type": "code",
      "metadata": {},
      "source": [
        "#| echo: true\n",
        "#| eval: true\n",
        "#| output: asis\n",
        "DU2 = DU.pivot(index='Duration', columns='Piece', values='Counts')\n",
        "DU2 = DU2.replace(np.nan,0)\n",
        "DU2['Sum'] = DU2.sum(axis=1)\n",
        "DU3 = DU2[DU2.Sum != 0]\n",
        "\n",
        "obs2 = np.array([DU3['BWV 110/7'], DU3['BWV 40/3']])\n",
        "c, p, dof, exp = stats.chi2_contingency(obs2)\n",
        "print(f\"_Chi_$^2$ value = {round(c,2)}, _p_-value = {round(p,3)}, _df_ = {dof}\")"
      ],
      "execution_count": null,
      "outputs": []
    }
  ],
  "metadata": {
    "kernelspec": {
      "name": "python3",
      "language": "python",
      "display_name": "Python 3"
    }
  },
  "nbformat": 4,
  "nbformat_minor": 4
}
{
 "cells": [
  {
   "cell_type": "markdown",
   "id": "e27e8387",
   "metadata": {},
   "source": [
    "<a href=\"https://colab.research.google.com/github/tuomaseerola/emr/blob/master/Chapter1.ipynb\" target=\"_parent\"><img src=\"https://colab.research.google.com/assets/colab-badge.svg\" alt=\"Open In Colab\"/></a>"
   ]
  },
  {
   "cell_type": "markdown",
   "id": "596717f5",
   "metadata": {},
   "source": [
    "# Chapter 1 \n",
    "\n",
    "A Jupyter notebook with code examples in R for _Chapter 1_ of _Routledge_ book titled **[Music and Science – Guide to Empirical Music Research](https://github.com/tuomaseerola/emr)** by [Tuomas Eerola](https://www.durham.ac.uk/staff/tuomas-eerola/), [Music and Science Lab]() at [Durham University](https://www.durham.ac.uk) and [Music and Science Lab](https://musicscience.net) scheduled to be published in 2023.\n",
    "\n",
    "To run the code in your browser, open the file in Colab (click the icon \"Open in Colab\"). Alternatively, you can download the notebook and run it locally.\n",
    "\n",
    "This first notebook is just a demonstration of running R in notebook calculates the correlation between ratings of energy and tension from an existing dataset.\n",
    "\n",
    "File `Chapter1.ipynb` | Version `19/12/2022` | [Back to Index](https://tuomaseerola.github.io/emr/)\n",
    "---"
   ]
  },
  {
   "cell_type": "markdown",
   "id": "6ef86a10",
   "metadata": {},
   "source": [
    "## Preliminaries\n",
    "To install the `MusicScienceData` package that contains several example datasets used in this book, run the following command."
   ]
  },
  {
   "cell_type": "code",
   "execution_count": 1,
   "id": "10b69811",
   "metadata": {},
   "outputs": [
    {
     "name": "stderr",
     "output_type": "stream",
     "text": [
      "Loading required package: devtools\n",
      "\n",
      "Loading required package: usethis\n",
      "\n"
     ]
    }
   ],
   "source": [
    "if (!require(devtools)) install.packages(\"devtools\",quiet=TRUE)\n",
    "devtools::install_github(\"tuomaseerola/MusicScienceData\",quiet=TRUE)"
   ]
  },
  {
   "cell_type": "markdown",
   "id": "b58c9e87",
   "metadata": {},
   "source": [
    "## Code 1.1\n",
    "This is the first R code example, which demonstrates loading package that contains datasets, choosing one dataset, and then calculating correlation between two rated concepts (energy and tension)."
   ]
  },
  {
   "cell_type": "code",
   "execution_count": 2,
   "id": "a8be6573",
   "metadata": {},
   "outputs": [
    {
     "data": {
      "text/plain": "\n\tPearson's product-moment correlation\n\ndata:  data$Energy and data$Tension\nt = 7.3396, df = 108, p-value = 4.222e-11\nalternative hypothesis: true correlation is not equal to 0\n95 percent confidence interval:\n 0.4368271 0.6896336\nsample estimates:\n     cor \n0.576884 \n"
     },
     "metadata": {},
     "output_type": "display_data"
    }
   ],
   "source": [
    "# Code 1.1\n",
    "library(MusicScienceData)             # loads library w data\n",
    "data <- MusicScienceData::soundtrack  # pick data\n",
    "cor.test(data$Energy,                 # calc. correlation\n",
    "         data$Tension)"
   ]
  }
 ],
 "metadata": {
  "kernelspec": {
   "display_name": "R",
   "language": "R",
   "name": "ir"
  },
  "language_info": {
   "codemirror_mode": "r",
   "file_extension": ".r",
   "mimetype": "text/x-r-source",
   "name": "R",
   "pygments_lexer": "r",
   "version": "3.6.0"
  }
 },
 "nbformat": 4,
 "nbformat_minor": 5
}

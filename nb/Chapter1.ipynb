{
  "cells": [
    {
      "cell_type": "raw",
      "metadata": {},
      "source": [
        "---\n",
        "title: \"Ch. 1 – Notebook basics\"\n",
        "execute:\n",
        "  keep-ipynb: true\n",
        "---"
      ]
    },
    {
      "cell_type": "markdown",
      "metadata": {},
      "source": [
        "<a href=\"https://colab.research.google.com/github/tuomaseerola/emr/blob/master/nb/Chapter1.ipynb\" target=\"_parent\"><img src=\"https://colab.research.google.com/assets/colab-badge.svg\" alt=\"Open In Colab\"/></a>\n",
        "\n",
        "# Ch. 1 – Notebook basics\n",
        "\n",
        "This first notebook is just a demonstration of running R in notebook calculates the correlation between ratings of energy and tension from an existing dataset.\n",
        "\n",
        "## Preliminaries\n",
        "\n",
        "To install the `MusicScienceData` package that contains several example datasets used in this book, run the following command."
      ]
    },
    {
      "cell_type": "code",
      "metadata": {},
      "source": [
        "#| eval: false\n",
        "#if (!require(devtools)) install.packages(\"devtools\",quiet=TRUE)\n",
        "devtools::install_github(\"tuomaseerola/MusicScienceData\",quiet=TRUE)"
      ],
      "execution_count": null,
      "outputs": []
    },
    {
      "cell_type": "markdown",
      "metadata": {},
      "source": [
        "## Code 1.1\n",
        "\n",
        "This is the first R code example, which demonstrates loading package that contains datasets, choosing one dataset, and then calculating correlation between two rated concepts (energy and tension)."
      ]
    },
    {
      "cell_type": "code",
      "metadata": {},
      "source": [
        "# Code 1.1\n",
        "library(MusicScienceData)             # loads library w data\n",
        "data <- MusicScienceData::soundtrack  # pick data\n",
        "cor.test(data$Energy,                 # calc. correlation\n",
        "         data$Tension)"
      ],
      "execution_count": null,
      "outputs": []
    }
  ],
  "metadata": {
    "kernelspec": {
      "name": "ir",
      "language": "R",
      "display_name": "R"
    }
  },
  "nbformat": 4,
  "nbformat_minor": 4
}
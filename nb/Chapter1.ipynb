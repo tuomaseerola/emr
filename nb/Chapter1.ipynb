{
  "cells": [
    {
      "cell_type": "markdown",
      "metadata": {},
      "source": [
        "# \n",
        "\n",
        "<a href=\"https://colab.research.google.com/github/tuomaseerola/emr/blob/master/nb/Chapter1.ipynb\" target=\"_parent\"><img src=\"https://colab.research.google.com/assets/colab-badge.svg\" alt=\"Open In Colab\"/></a>\n",
        "\n",
        "# Ch. 1 – Notebook basics\n",
        "\n",
        "This first notebook is just a demonstration of running R in notebook\n",
        "calculates the correlation between ratings of energy and tension from an\n",
        "existing dataset.\n",
        "\n",
        "## Preliminaries\n",
        "\n",
        "To install the `MusicScienceData` package that contains several example\n",
        "datasets used in this book, run the following command."
      ],
      "id": "dc3900c9-c7c9-457d-8c3e-1fa8bfd2bf23"
    },
    {
      "cell_type": "code",
      "execution_count": null,
      "metadata": {},
      "outputs": [],
      "source": [
        "#if (!require(devtools)) install.packages(\"devtools\",quiet=TRUE)\n",
        "devtools::install_github(\"tuomaseerola/MusicScienceData\",quiet=TRUE)"
      ],
      "id": "b619ea81-9eaf-4e5e-9104-716a75941a16"
    },
    {
      "cell_type": "markdown",
      "metadata": {},
      "source": [
        "## Code 1.1\n",
        "\n",
        "This is the first R code example, which demonstrates loading package\n",
        "that contains datasets, choosing one dataset, and then calculating\n",
        "correlation between two rated concepts (energy and tension)."
      ],
      "id": "b40f2ad0-deb3-401e-b41a-95ce393ce54c"
    },
    {
      "cell_type": "code",
      "execution_count": null,
      "metadata": {},
      "outputs": [
        {
          "output_type": "stream",
          "name": "stdout",
          "text": [
            "\n",
            "    Pearson's product-moment correlation\n",
            "\n",
            "data:  data$Energy and data$Tension\n",
            "t = 7.3396, df = 108, p-value = 4.222e-11\n",
            "alternative hypothesis: true correlation is not equal to 0\n",
            "95 percent confidence interval:\n",
            " 0.4368271 0.6896336\n",
            "sample estimates:\n",
            "     cor \n",
            "0.576884 "
          ]
        }
      ],
      "source": [
        "# Code 1.1\n",
        "library(MusicScienceData)             # loads library w data\n",
        "data <- MusicScienceData::soundtrack  # pick data\n",
        "cor.test(data$Energy,                 # calc. correlation\n",
        "         data$Tension)"
      ],
      "id": "684d67a2-80b1-4e1c-924f-1a081c1dd736"
    }
  ],
  "nbformat": 4,
  "nbformat_minor": 5,
  "metadata": {
    "kernelspec": {
      "display_name": "R",
      "language": "R",
      "name": "ir"
    }
  }
}
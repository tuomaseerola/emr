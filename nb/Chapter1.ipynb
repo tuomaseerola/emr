{
 "cells": [
  {
   "cell_type": "raw",
   "id": "6846ecb0",
   "metadata": {},
   "source": [
    "---\n",
    "title: Ch. 1 – Notebook basics\n",
    "execute:\n",
    "  keep-ipynb: true\n",
    "---"
   ]
  },
  {
   "cell_type": "markdown",
   "id": "ba792167",
   "metadata": {},
   "source": [
    "<a href=\"https://colab.research.google.com/github/tuomaseerola/emr/blob/master/nb/Chapter1.ipynb\" target=\"_parent\"><img src=\"https://colab.research.google.com/assets/colab-badge.svg\" alt=\"Open In Colab\"/></a>\n",
    "\n",
    "# Ch. 1 – Notebook basics\n",
    "\n",
    "This first notebook is just a demonstration of running R in notebook calculates the correlation between ratings of energy and tension from an existing dataset.\n",
    "\n",
    "## Preliminaries\n",
    "\n",
    "To install the `MusicScienceData` package that contains several example datasets used in this book, run the following command.\n",
    "\n",
    "\n",
    "```{r}\n",
    "#| eval: false\n",
    "#if (!require(devtools)) install.packages(\"devtools\",quiet=TRUE)\n",
    "devtools::install_github(\"tuomaseerola/MusicScienceData\",quiet=TRUE)\n",
    "```\n",
    "\n",
    "\n",
    "## Code 1.1\n",
    "\n",
    "This is the first R code example, which demonstrates loading package that contains datasets, choosing one dataset, and then calculating correlation between two rated concepts (energy and tension).\n",
    "\n",
    "\n",
    "```{r}\n",
    "# Code 1.1\n",
    "library(MusicScienceData)             # loads library w data\n",
    "data <- MusicScienceData::soundtrack  # pick data\n",
    "cor.test(data$Energy,                 # calc. correlation\n",
    "         data$Tension)\n",
    "```"
   ]
  }
 ],
 "metadata": {
  "kernelspec": {
   "display_name": "Python 3",
   "language": "python",
   "name": "python3"
  },
  "language_info": {
   "codemirror_mode": {
    "name": "ipython",
    "version": 3
   },
   "file_extension": ".py",
   "mimetype": "text/x-python",
   "name": "python",
   "nbconvert_exporter": "python",
   "pygments_lexer": "ipython3",
   "version": "3.9.18"
  }
 },
 "nbformat": 4,
 "nbformat_minor": 5
}

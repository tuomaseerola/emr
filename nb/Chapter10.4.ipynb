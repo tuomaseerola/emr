{
  "cells": [
    {
      "cell_type": "markdown",
      "metadata": {},
      "source": [
        "# Ch. 10 – Perceptual\n",
        "\n",
        "## Figure 10.4 Auditory nerve fibre model and inner hair cells spiking for the earlier example (a complex tone consisting of 400 + 600 + 1600 Hz sine waves).\n",
        "\n",
        "For more information, see [Brian documentation](https://brian.readthedocs.io/en/stable/).\n",
        "\n",
        "### Libraries"
      ]
    },
    {
      "cell_type": "code",
      "metadata": {},
      "source": [
        "#| echo: true\n",
        "#| eval: true\n",
        "#| label: libraries\n",
        "#| code-fold: true\n",
        "#| code-summary: \"Show the code\"\n",
        "from brian2 import *\n",
        "from brian2hears import *\n",
        "import matplotlib.pyplot as plt"
      ],
      "execution_count": null,
      "outputs": []
    },
    {
      "cell_type": "code",
      "metadata": {},
      "source": [
        "#| echo: true\n",
        "#| eval: true\n",
        "#| label: brian\n",
        "\n",
        "sound = loadsound('data/400_600_1600_hz.wav')\n",
        "\n",
        "# Inner hair cell model\n",
        "cfmin, cfmax, cfN = 20*Hz, 20*kHz, 3000 # was 3000\n",
        "cf = erbspace(cfmin, cfmax, cfN)\n",
        "gfb = Gammatone(sound, cf)\n",
        "ihc = FunctionFilterbank(gfb, lambda x: 3*clip(x, 0, Inf)**(1.0/3.0))\n",
        "# Leaky integrate-and-fire model with noise and refractoriness\n",
        "eqs = '''\n",
        "dv/dt = (I-v)/(1*ms)+0.2*xi*(2/(1*ms))**.5 : 1 (unless refractory)\n",
        "I : 1\n",
        "'''\n",
        "G = FilterbankGroup(ihc, 'I', eqs, reset='v=0', threshold='v>1', refractory=5*ms)\n",
        "# Run, and raster plot of the spikes\n",
        "M = SpikeMonitor(G)\n",
        "run(sound.duration)\n",
        "\n",
        "# Plot the results\n",
        "fig, ax = plt.subplots(figsize=(8.0, 4.0))\n",
        "ax.plot(M.t/ms, M.i, '.', alpha=0.5, color='tab:blue', ms=3)\n",
        "ax.set_xlabel('Time (ms)')\n",
        "ax.set_ylabel('Neuron number (inner hair cell)')\n",
        "ylim(0, 2000)\n",
        "xlabel('Time (ms)')\n",
        "ylabel('Neuron index');\n",
        "plt.show()"
      ],
      "execution_count": null,
      "outputs": []
    }
  ],
  "metadata": {
    "kernelspec": {
      "name": "python3",
      "language": "python",
      "display_name": "Python 3"
    }
  },
  "nbformat": 4,
  "nbformat_minor": 4
}
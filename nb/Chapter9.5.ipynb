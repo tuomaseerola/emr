{
  "cells": [
    {
      "cell_type": "raw",
      "metadata": {},
      "source": [
        "---\n",
        "toc: true\n",
        "---"
      ]
    },
    {
      "cell_type": "markdown",
      "metadata": {},
      "source": [
        "<a href=\"https://colab.research.google.com/github/tuomaseerola/emr/blob/master/Chapter9.5.ipynb\" target=\"_parent\"><img src=\"https://colab.research.google.com/assets/colab-badge.svg\" alt=\"Open In Colab\"/></a>\n",
        "\n",
        "# Ch. 9 – Synchronization\n",
        "\n",
        "## Load libraries"
      ]
    },
    {
      "cell_type": "code",
      "metadata": {
        "message": false
      },
      "source": [
        "#| echo: true\n",
        "#| eval: true\n",
        "#| warning: false\n",
        "#| label: libraries\n",
        "#if (!require(devtools)) install.packages(\"devtools\",quiet=TRUE)\n",
        "#devtools::install_github(\"tuomaseerola/onsetsync\")\n",
        "library(onsetsync)\n",
        "library(dplyr,quiet=TRUE)\n",
        "#install.packages(\"cowplot\",quiet=TRUE)\n",
        "library(cowplot)"
      ],
      "execution_count": null,
      "outputs": []
    },
    {
      "cell_type": "markdown",
      "metadata": {},
      "source": [
        "## Explore synchronisation in Cuban Salsa and Son\n",
        "\n",
        "Take an example track from IEMP corpus and visualise beats and calculate the synchronies."
      ]
    },
    {
      "cell_type": "code",
      "metadata": {
        "message": false
      },
      "source": [
        "#| echo: true\n",
        "#| eval: true\n",
        "#| warning: false\n",
        "#| label: plot\n",
        "set.seed(1234)\n",
        "CSS_Song2 <- onsetsync::CSS_IEMP[[2]]\n",
        "fig1 <- plot_by_beat(df = CSS_Song2, \n",
        "                     instr = c('Bass','Clave','Guitar','Tres'), \n",
        "                     beat = 'SD', \n",
        "                     virtual = 'Isochronous.SD.Time',\n",
        "                     pcols = 2)\n",
        "inst <- c('Clave','Bass','Guitar','Tres') # Define instruments \n",
        "dn <- sync_execute_pairs(CSS_Song2,inst,100,1,'SD')\n",
        "fig2 <- plot_by_pair(dn)  # plot\n",
        "G <- cowplot::plot_grid(fig1,fig2,nrow = 2)\n",
        "print(G)"
      ],
      "execution_count": null,
      "outputs": []
    },
    {
      "cell_type": "code",
      "metadata": {
        "message": false
      },
      "source": [
        "#| echo: true\n",
        "#| eval: true\n",
        "#| warning: false\n",
        "#| label: output1\n",
        "round(mean(dn$asynch$`Clave - Guitar`)*1000,1)"
      ],
      "execution_count": null,
      "outputs": []
    },
    {
      "cell_type": "code",
      "metadata": {
        "message": false
      },
      "source": [
        "#| echo: true\n",
        "#| eval: true\n",
        "#| warning: false\n",
        "#| label: output2\n",
        "round(mean(dn$asynch$`Clave - Bass`)*1000,1)"
      ],
      "execution_count": null,
      "outputs": []
    },
    {
      "cell_type": "code",
      "metadata": {
        "message": false
      },
      "source": [
        "#| echo: true\n",
        "#| eval: true\n",
        "#| warning: false\n",
        "#| label: output3\n",
        "round(mean(dn$asynch$`Bass - Guitar`)*1000,1)"
      ],
      "execution_count": null,
      "outputs": []
    },
    {
      "cell_type": "code",
      "metadata": {
        "message": false
      },
      "source": [
        "#| echo: true\n",
        "#| eval: true\n",
        "#| warning: false\n",
        "#| label: output4\n",
        "round(mean(dn$asynch$`Bass - Tres`)*1000,1)"
      ],
      "execution_count": null,
      "outputs": []
    },
    {
      "cell_type": "markdown",
      "metadata": {},
      "source": [
        "## References\n",
        "\n",
        "Poole, A. (2021). Groove in Cuban Son and Salsa Performance. _Journal of the Royal Musical Association, 146(1)_, 117-145. doi:10.1017/rma.2021.2\n"
      ]
    }
  ],
  "metadata": {
    "kernelspec": {
      "name": "ir",
      "language": "R",
      "display_name": "R"
    }
  },
  "nbformat": 4,
  "nbformat_minor": 4
}
{
  "cells": [
    {
      "cell_type": "markdown",
      "metadata": {},
      "source": [
        "# \n",
        "\n",
        "## Ch. 11 – Synchrony\n",
        "\n",
        "Corpus analysis example of onsets.\n",
        "\n",
        "### Load libraries"
      ],
      "id": "d4905c9b-fa58-4ab8-bfde-11bbbae46769"
    },
    {
      "cell_type": "code",
      "execution_count": null,
      "metadata": {},
      "outputs": [],
      "source": [
        "library(onsetsync)              # to handle onsets\n",
        "library(dplyr)                  # to handle summaries"
      ],
      "id": "0f928803-1815-4a20-b4b0-39dd3276f218"
    },
    {
      "cell_type": "markdown",
      "metadata": {},
      "source": [
        "### Get Cuban Salsa and Son materials\n",
        "\n",
        "These are build into the onsetsync package and come from\n",
        "[IEMP](https://osf.io/37fws/) collection. The code runs an analysis of\n",
        "asynchrony across different Cuban Salsa and Son tracks (five in total)\n",
        "and create a table of the Bass asynchronies with Guitar and Tres (in\n",
        "milliseconds).\n",
        "\n",
        "``` r\n",
        "corpus <- onsetsync::CSS_IEMP   # Cuban Salsa & Son\n",
        "D <- sync_sample_paired(corpus,'Bass','Guitar',0,1,'SD')\n",
        "RES <-summarise(group_by(D$asynch,name), M = mean(asynch*1000))\n",
        "D2 <- sync_sample_paired(corpus,'Bass','Tres',0,1,'SD')\n",
        "RES2 <- summarise(group_by(D2$asynch,name), M = mean(asynch*1000))\n",
        "names(RES)[2] <- 'Bass - Guitar (in ms)'  # rename for clarity\n",
        "RES$`Bass - Tres (in ms)` <- RES2$M       # rename for clarity\n",
        "print(knitr::kable(RES,digits=1))         # create table\n",
        "```\n",
        "\n",
        "| name               | Bass - Guitar (in ms) | Bass - Tres (in ms) |\n",
        "|:-------------------|----------------------:|--------------------:|\n",
        "| El Cantante        |                  -5.2 |                14.6 |\n",
        "| Habanera           |                 -11.3 |                 6.6 |\n",
        "| Palo Santo         |                 -16.1 |                -3.5 |\n",
        "| Tumbao Sangreao    |                 -12.0 |                 5.2 |\n",
        "| Yo Naci En Un Sola |                  -7.1 |                -4.4 |"
      ],
      "id": "27f09371-147c-42f9-93e7-01d430b4fbd9"
    }
  ],
  "nbformat": 4,
  "nbformat_minor": 5,
  "metadata": {
    "kernelspec": {
      "display_name": "R",
      "language": "R",
      "name": "ir"
    }
  }
}
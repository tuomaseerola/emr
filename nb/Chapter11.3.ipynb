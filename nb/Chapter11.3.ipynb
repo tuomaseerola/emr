{
  "cells": [
    {
      "cell_type": "markdown",
      "metadata": {},
      "source": [
        "## Ch. 11 – Synchrony\n",
        "\n",
        "Corpus analysis example of onsets.\n",
        "\n",
        "### Load libraries"
      ]
    },
    {
      "cell_type": "code",
      "metadata": {},
      "source": [
        "#| eval: true\n",
        "#| echo: false\n",
        "#| label: libraries\n",
        "#| warning: false\n",
        "library(onsetsync)              # to handle onsets\n",
        "library(dplyr)                  # to handle summaries"
      ],
      "execution_count": null,
      "outputs": []
    },
    {
      "cell_type": "code",
      "metadata": {},
      "source": [
        "#| eval: false\n",
        "#| echo: true\n",
        "#| label: libraries2\n",
        "library(onsetsync)              # to handle onsets\n",
        "library(dplyr)                  # to handle summaries"
      ],
      "execution_count": null,
      "outputs": []
    },
    {
      "cell_type": "markdown",
      "metadata": {},
      "source": [
        "### Get Cuban Salsa and Son materials\n",
        "\n",
        "These are build into the onsetsync package and come from [IEMP](https://osf.io/37fws/) collection. The code runs an analysis of asynchrony across different Cuban Salsa and Son tracks (five in total) and create a table of the Bass asynchronies with Guitar and Tres (in milliseconds)."
      ]
    },
    {
      "cell_type": "code",
      "metadata": {
        "message": false
      },
      "source": [
        "#| eval: true\n",
        "#| echo: true\n",
        "#| label: onsetsynccorpus\n",
        "#| output: asis\n",
        "#| warning: false\n",
        "corpus <- onsetsync::CSS_IEMP   # Cuban Salsa & Son\n",
        "D <- sync_sample_paired(corpus,'Bass','Guitar',0,1,'SD')\n",
        "RES <-summarise(group_by(D$asynch,name), M = mean(asynch*1000))\n",
        "D2 <- sync_sample_paired(corpus,'Bass','Tres',0,1,'SD')\n",
        "RES2 <- summarise(group_by(D2$asynch,name), M = mean(asynch*1000))\n",
        "names(RES)[2] <- 'Bass - Guitar (in ms)'  # rename for clarity\n",
        "RES$`Bass - Tres (in ms)` <- RES2$M       # rename for clarity\n",
        "print(knitr::kable(RES,digits=1))         # create table"
      ],
      "execution_count": null,
      "outputs": []
    }
  ],
  "metadata": {
    "kernelspec": {
      "name": "ir",
      "language": "R",
      "display_name": "R"
    }
  },
  "nbformat": 4,
  "nbformat_minor": 4
}
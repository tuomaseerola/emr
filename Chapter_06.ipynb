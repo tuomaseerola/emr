{
  "nbformat": 4,
  "nbformat_minor": 0,
  "metadata": {
    "colab": {
      "name": "Inferential_with_R.ipynb",
      "private_outputs": true,
      "provenance": [],
      "collapsed_sections": [],
      "include_colab_link": true
    },
    "kernelspec": {
      "name": "ir",
      "display_name": "R"
    },
    "language_info": {
      "name": "R"
    }
  },
  "cells": [
    {
      "cell_type": "markdown",
      "metadata": {
        "id": "view-in-github",
        "colab_type": "text"
      },
      "source": [
        "<a href=\"https://colab.research.google.com/github/tuomaseerola/emr/blob/main/Chapter_06.ipynb\" target=\"_parent\"><img src=\"https://colab.research.google.com/assets/colab-badge.svg\" alt=\"Open In Colab\"/></a>"
      ]
    },
    {
      "cell_type": "markdown",
      "source": [
        "## Inferential Statistics in R (Short Tutorial)\n",
        "This is a demonstration of the analyses that we do in Excel in \"Data Analysis\" topic in _Music and Science_. You can consider this as an additional resource if you want to expand your skills and go beyond Excel in the analysis.\n",
        "\n",
        "This is not a R tutorial as such, I would recommend one of these as a basic tutorial to R\n",
        "\n",
        "* [https://www.w3schools.com/r/](https://www.w3schools.com/r/)\n",
        "* [https://www.tutorialspoint.com/r](https://www.tutorialspoint.com/r/)\n",
        "* [R for Data Science](https://r4ds.had.co.nz/index.html) \n",
        "\n",
        "Tuomas Eerola\n",
        "Durham University, Department of Music,\n",
        "10/1/2022\n",
        "\n",
        "---\n"
      ],
      "metadata": {
        "id": "Ja3oOuzSOQTy"
      }
    },
    {
      "cell_type": "markdown",
      "source": [
        "Run the block below first (click play button on the left corner). This activates two useful libraries for R."
      ],
      "metadata": {
        "id": "jX6nFy8sjBVt"
      }
    },
    {
      "cell_type": "code",
      "execution_count": null,
      "metadata": {
        "id": "Bvvp3u_SNzdM"
      },
      "outputs": [],
      "source": [
        "library(tidyverse)\n",
        "library(ggplot2)"
      ]
    },
    {
      "cell_type": "markdown",
      "source": [
        "## Example 1 from Lecture Slides"
      ],
      "metadata": {
        "id": "o03TjO7HaHy6"
      }
    },
    {
      "cell_type": "code",
      "source": [
        "# url of example1 data\n",
        "ex1_url <- \"https://raw.githubusercontent.com/tuomaseerola/MusicScienceData/main/data/example1.csv\"\n",
        "ex1 <- read.csv(ex1_url, header = TRUE) # import data in R\n",
        "head(ex1)"
      ],
      "metadata": {
        "id": "nAZ54F1dUsRZ"
      },
      "execution_count": null,
      "outputs": []
    },
    {
      "cell_type": "markdown",
      "source": [
        "#### Calculate Descriptives\n",
        "Measures of central cendency and dispersion. These should be pretty easily comprehensible from the code below."
      ],
      "metadata": {
        "id": "X3cgOCDxdv2C"
      }
    },
    {
      "cell_type": "code",
      "source": [
        "# Measures of central tendency\n",
        "mean(ex1$Age) # Mean\n",
        "median(ex1$Age) # Median\n",
        "\n",
        "# Measures of dispersion\n",
        "sd(ex1$Age) # Standard deviation\n",
        "range(ex1$Age) # Standard deviation"
      ],
      "metadata": {
        "id": "Ibi7FHkCdqBU"
      },
      "execution_count": null,
      "outputs": []
    },
    {
      "cell_type": "markdown",
      "source": [
        "#### Descriptives grouped by Musical Expertise"
      ],
      "metadata": {
        "id": "5hWjiD-RecZ7"
      }
    },
    {
      "cell_type": "code",
      "source": [
        "ex1 %>% \n",
        "  group_by(Group) %>%\n",
        "  summarise(M = mean(VerbalMemoryScore), SD = sd(VerbalMemoryScore)) "
      ],
      "metadata": {
        "id": "wXoSNsaAeiAz"
      },
      "execution_count": null,
      "outputs": []
    },
    {
      "cell_type": "markdown",
      "source": [
        "#### Plot means and standard deviations"
      ],
      "metadata": {
        "id": "wmeGU5PGin9f"
      }
    },
    {
      "cell_type": "code",
      "source": [
        "\n",
        "ex1 %>% \n",
        "  group_by(Group) %>%\n",
        "  summarise(M = mean(VerbalMemoryScore),SD = sd(VerbalMemoryScore)) %>% \n",
        "  ggplot(aes(x = Group,y = M,fill=Group))+\n",
        "  geom_col(colour=\"black\",show.legend = FALSE)+\n",
        "  geom_errorbar(aes(ymin=M-SD,ymax=M+SD),width=0.5)+\n",
        "  theme(text = element_text(size = 20))\n"
      ],
      "metadata": {
        "id": "SQIqXIriV0ba"
      },
      "execution_count": null,
      "outputs": []
    },
    {
      "cell_type": "markdown",
      "source": [
        "### Analysis of Variance (ANOVA)\n",
        "Compare whether the verbal memory scores are different between the **three groups** in musical training."
      ],
      "metadata": {
        "id": "EMxRc7YRisuv"
      }
    },
    {
      "cell_type": "code",
      "source": [
        "aov_results <- aov(VerbalMemoryScore ~Group,data=ex1)\n",
        "summary(aov_results)"
      ],
      "metadata": {
        "id": "IlKpFIlJU3mb"
      },
      "execution_count": null,
      "outputs": []
    },
    {
      "cell_type": "markdown",
      "source": [
        "Here we focus on the line which says Group and shows F value of 0.724 and p value of 0.523. This suggests that the means are not significantly different from each, they are just random variation. The reason for this is that it is a very small sample."
      ],
      "metadata": {
        "id": "tidB8tYojVcJ"
      }
    },
    {
      "cell_type": "markdown",
      "source": [
        "## Example 2 from Lecture Slides"
      ],
      "metadata": {
        "id": "aYhNtjaFakqT"
      }
    },
    {
      "cell_type": "code",
      "source": [
        "# url of example 2 data\n",
        "ex2_url <- \"https://raw.githubusercontent.com/tuomaseerola/MusicScienceData/main/data/example2.csv\"\n",
        "# import data in R\n",
        "ex2 <- read.csv(ex2_url, header = TRUE)\n",
        "#ex2$AgeGroup <- factor(ex3$AgeGroup,levels = c(1,2,3),labels=c(\"Young adults\",\"Middle-aged adults\",\"Older adults\"))\n",
        "head(ex2)"
      ],
      "metadata": {
        "id": "xPDvOoKKfqqc"
      },
      "execution_count": null,
      "outputs": []
    },
    {
      "cell_type": "markdown",
      "source": [
        "#### What is the relationship between age and arousal?\n",
        "\n",
        "Calculate correlation coefficient between Age and Arousal.\n",
        "\n"
      ],
      "metadata": {
        "id": "vL-pgIhef1oV"
      }
    },
    {
      "cell_type": "code",
      "source": [
        "cor.test(ex2$Age,ex2$Arousal)"
      ],
      "metadata": {
        "id": "DyUKkOItgFsj"
      },
      "execution_count": null,
      "outputs": []
    },
    {
      "cell_type": "markdown",
      "source": [
        "The full breakdown of the results shows the correlation coefficient, degrees of freedom and the p value. The interpretation is the only thing that you need to add to this."
      ],
      "metadata": {
        "id": "IQjaqjCUj1X4"
      }
    },
    {
      "cell_type": "markdown",
      "source": [
        "## Example 3 from Lecture Slides\n"
      ],
      "metadata": {
        "id": "eFkegMzYZZUx"
      }
    },
    {
      "cell_type": "code",
      "source": [
        "ex3_url <- \"https://raw.githubusercontent.com/tuomaseerola/MusicScienceData/main/data/example3.csv\"\n",
        "ex3 <- read.csv(ex3_url, header = TRUE) # import data in R\n",
        "ex3$AgeGroup <- factor(ex3$AgeGroup,\n",
        "  levels = c(1,2,3),\n",
        "  labels=c(\"Young adults\",\"Middle-aged adults\",\"Older adults\")\n",
        "  )\n",
        "head(ex3)"
      ],
      "metadata": {
        "id": "CBYtAqudZb3X"
      },
      "execution_count": null,
      "outputs": []
    },
    {
      "cell_type": "code",
      "source": [
        "t<-table(ex3$AgeGroup,ex3$PreferredGenre)\n",
        "print(t)"
      ],
      "metadata": {
        "id": "vdT4lvFfbFFd"
      },
      "execution_count": null,
      "outputs": []
    },
    {
      "cell_type": "markdown",
      "source": [
        "### Are the selections of preferred genres different across the three age groups?\n",
        "\n",
        "This can be calculated with a chi-square test."
      ],
      "metadata": {
        "id": "BKvKPX_1geth"
      }
    },
    {
      "cell_type": "code",
      "source": [
        "chisq.test(t, simulate.p.value = TRUE)"
      ],
      "metadata": {
        "id": "zVs1NvuCd5pm"
      },
      "execution_count": null,
      "outputs": []
    },
    {
      "cell_type": "markdown",
      "source": [
        "# How to Bring Your Own Data to Online R?\n",
        "\n",
        "1. Save an Excel file as CSV (Comma separated variables). \n",
        "2. Use the folder icon on the left to select the file from your computer. Now this is in your workspace\n",
        "3. Read the file in R to R environment using `read.csv` command  "
      ],
      "metadata": {
        "id": "mObZY93BfGTM"
      }
    },
    {
      "cell_type": "code",
      "source": [
        "d<-read.csv('example1.csv')\n",
        "head(d)\n"
      ],
      "metadata": {
        "id": "SQp66WTfOZm0"
      },
      "execution_count": null,
      "outputs": []
    },
    {
      "cell_type": "markdown",
      "source": [
        "## T test\n",
        "Compare Conditions (participants exposed either to Albinoni or to Mozart). "
      ],
      "metadata": {
        "id": "sAyMEabBZ5CL"
      }
    },
    {
      "cell_type": "code",
      "source": [
        "t.test(PF_Score ~ Condition, data=d) # Runs t-test"
      ],
      "metadata": {
        "id": "liJG665uZ3z7"
      },
      "execution_count": null,
      "outputs": []
    }
  ]
}
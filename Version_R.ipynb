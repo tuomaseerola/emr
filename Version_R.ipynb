{
 "cells": [
  {
   "cell_type": "markdown",
   "id": "59fbaa4c",
   "metadata": {},
   "source": [
    "<a href=\"https://colab.research.google.com/github/tuomaseerola/emr/blob/master/Colab_version_R.ipynb\" target=\"_parent\"><img src=\"https://colab.research.google.com/assets/colab-badge.svg\" alt=\"Open In Colab\"/></a>"
   ]
  },
  {
   "cell_type": "markdown",
   "id": "2ccbac5a",
   "metadata": {},
   "source": [
    "# Colab_version_R\n",
    "Test the Colab version of R\n",
    "---"
   ]
  },
  {
   "cell_type": "code",
   "execution_count": 1,
   "id": "fe13c2f5",
   "metadata": {
    "vscode": {
     "languageId": "r"
    }
   },
   "outputs": [
    {
     "data": {
      "text/html": "'R version 4.2.0 (2022-04-22)'",
      "text/markdown": "'R version 4.2.0 (2022-04-22)'",
      "text/latex": "'R version 4.2.0 (2022-04-22)'",
      "text/plain": "[1] \"R version 4.2.0 (2022-04-22)\""
     },
     "metadata": {},
     "output_type": "display_data"
    }
   ],
   "source": [
    "R.version.string"
   ]
  },
  {
   "cell_type": "markdown",
   "id": "32ccd68f",
   "metadata": {},
   "source": [
    "## Libraries\n",
    "Show libraries"
   ]
  },
  {
   "cell_type": "code",
   "execution_count": 3,
   "id": "410e7953",
   "metadata": {
    "vscode": {
     "languageId": "r"
    }
   },
   "outputs": [
    {
     "data": {
      "text/plain": "[1] ‘1.3.2’"
     },
     "metadata": {},
     "output_type": "display_data"
    },
    {
     "data": {
      "text/plain": "[1] ‘3.4.0’"
     },
     "metadata": {},
     "output_type": "display_data"
    }
   ],
   "source": [
    "#print(installed.packages())\n",
    "packageVersion(\"tidyverse\")\n",
    "packageVersion(\"ggplot2\")\n"
   ]
  },
  {
   "cell_type": "markdown",
   "source": [
    "## Show other information"
   ],
   "metadata": {
    "collapsed": false
   }
  },
  {
   "cell_type": "code",
   "execution_count": 4,
   "outputs": [
    {
     "data": {
      "text/plain": "R version 4.2.0 (2022-04-22)\nPlatform: x86_64-apple-darwin17.0 (64-bit)\nRunning under: macOS Catalina 10.15.7\n\nMatrix products: default\nBLAS:   /Library/Frameworks/R.framework/Versions/4.2/Resources/lib/libRblas.0.dylib\nLAPACK: /Library/Frameworks/R.framework/Versions/4.2/Resources/lib/libRlapack.dylib\n\nlocale:\n[1] en_US.UTF-8/en_US.UTF-8/en_US.UTF-8/C/en_US.UTF-8/en_US.UTF-8\n\nattached base packages:\n[1] stats     graphics  grDevices utils     datasets  methods   base     \n\nloaded via a namespace (and not attached):\n [1] fansi_1.0.3     crayon_1.5.2    digest_0.6.30   utf8_1.2.2     \n [5] IRdisplay_1.1   repr_1.1.4      lifecycle_1.0.3 jsonlite_1.8.3 \n [9] evaluate_0.18   pillar_1.8.1    rlang_1.0.6     cli_3.4.1      \n[13] uuid_1.1-0      vctrs_0.5.1     IRkernel_1.3.1  tools_4.2.0    \n[17] glue_1.6.2      fastmap_1.1.0   compiler_4.2.0  base64enc_0.1-3\n[21] pbdZMQ_0.3-8    htmltools_0.5.3"
     },
     "metadata": {},
     "output_type": "display_data"
    }
   ],
   "source": [
    "sessionInfo()"
   ],
   "metadata": {
    "collapsed": false
   }
  },
  {
   "cell_type": "code",
   "execution_count": null,
   "outputs": [],
   "source": [],
   "metadata": {
    "collapsed": false
   }
  }
 ],
 "metadata": {
  "kernelspec": {
   "display_name": "R",
   "language": "R",
   "name": "ir"
  },
  "language_info": {
   "codemirror_mode": "r",
   "file_extension": ".r",
   "mimetype": "text/x-r-source",
   "name": "R",
   "pygments_lexer": "r",
   "version": "3.6.0"
  }
 },
 "nbformat": 4,
 "nbformat_minor": 5
}

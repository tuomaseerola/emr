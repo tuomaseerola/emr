{
 "cells": [
  {
   "cell_type": "markdown",
   "id": "59fbaa4c",
   "metadata": {},
   "source": [
    "<a href=\"https://colab.research.google.com/github/tuomaseerola/emr/blob/master/Version_R.ipynb\" target=\"_parent\"><img src=\"https://colab.research.google.com/assets/colab-badge.svg\" alt=\"Open In Colab\"/></a>"
   ]
  },
  {
   "cell_type": "markdown",
   "id": "2ccbac5a",
   "metadata": {},
   "source": [
    "# Colab_version_R\n",
    "Test the Colab version of R."
   ]
  },
  {
   "cell_type": "code",
   "execution_count": null,
   "id": "fe13c2f5",
   "metadata": {
    "vscode": {
     "languageId": "r"
    },
    "pycharm": {
     "is_executing": true
    }
   },
   "outputs": [],
   "source": [
    "R.version.string"
   ]
  },
  {
   "cell_type": "markdown",
   "id": "32ccd68f",
   "metadata": {},
   "source": [
    "## Libraries\n",
    "Show libraries"
   ]
  },
  {
   "cell_type": "code",
   "execution_count": null,
   "id": "410e7953",
   "metadata": {
    "vscode": {
     "languageId": "r"
    },
    "pycharm": {
     "is_executing": true
    }
   },
   "outputs": [],
   "source": [
    "#print(installed.packages())\n",
    "packageVersion(\"tidyverse\")\n",
    "packageVersion(\"ggplot2\")\n"
   ]
  },
  {
   "cell_type": "markdown",
   "source": [
    "## Show other information"
   ],
   "metadata": {
    "collapsed": false
   }
  },
  {
   "cell_type": "code",
   "execution_count": null,
   "outputs": [],
   "source": [
    "sessionInfo()"
   ],
   "metadata": {
    "collapsed": false,
    "pycharm": {
     "is_executing": true
    }
   }
  },
  {
   "cell_type": "code",
   "execution_count": null,
   "outputs": [],
   "source": [],
   "metadata": {
    "collapsed": false
   }
  }
 ],
 "metadata": {
  "kernelspec": {
   "display_name": "R",
   "language": "R",
   "name": "ir"
  },
  "language_info": {
   "codemirror_mode": "r",
   "file_extension": ".r",
   "mimetype": "text/x-r-source",
   "name": "R",
   "pygments_lexer": "r",
   "version": "3.6.0"
  }
 },
 "nbformat": 4,
 "nbformat_minor": 5
}

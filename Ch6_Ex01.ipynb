{
  "nbformat": 4,
  "nbformat_minor": 0,
  "metadata": {
    "colab": {
      "name": "Ch8_ScoreAnalysis.ipynb",
      "private_outputs": true,
      "provenance": [],
      "collapsed_sections": [],
      "include_colab_link": true
    },
    "kernelspec": {
      "name": "python3",
      "display_name": "Python 3"
    },
    "language_info": {
      "name": "python"
    }
  },
  "cells": [
    {
      "cell_type": "markdown",
      "metadata": {
        "id": "view-in-github",
        "colab_type": "text"
      },
      "source": [
        "<a href=\"https://colab.research.google.com/github/tuomaseerola/emr/blob/main/Ch6_Ex01.ipynb\" target=\"_parent\"><img src=\"https://colab.research.google.com/assets/colab-badge.svg\" alt=\"Open In Colab\"/></a>"
      ]
    },
    {
      "cell_type": "markdown",
      "metadata": {
        "id": "WTO_mMkGJCci"
      },
      "source": [
        "\n",
        "# Music and Science - A Guide to Empirical Research in Music\n",
        "\n",
        "### [Tuomas Eerola](https://www.durham.ac.uk/staff/tuomas-eerola/), [Music and Science Lab]() at [Durham University]()\n",
        "\n",
        "A demo notebook with code examples in Python for Chapter 8 (Score Analysis).\n",
        "\n",
        "_Version 7/7/2022_\n"
      ]
    },
    {
      "cell_type": "markdown",
      "source": [
        "### **1.1 Install Music21 and other elements needed to run the environment**\n",
        "Press play and wait for all commands to be executed - this initial command might take some time as it needs to build the musi21 environment."
      ],
      "metadata": {
        "id": "ro3ITnbsq1xQ"
      }
    },
    {
      "cell_type": "code",
      "source": [
        "!pip install --upgrade music21\n",
        "!add-apt-repository ppa:mscore-ubuntu/mscore-stable -y\n",
        "!apt-get update\n",
        "!apt-get install musescore\n",
        "!apt-get install xvfb\n",
        "!sh -e /etc/init.d/x11-common start\n",
        "import os\n",
        "os.putenv('DISPLAY', ':99.0')\n",
        "!start-stop-daemon --start --pidfile /var/run/xvfb.pid --make-pidfile --background --exec /usr/bin/Xvfb -- :99 -screen 0 1024x768x24 -ac +extension GLX +render -noreset\n",
        "from music21 import *\n",
        "us = environment.UserSettings()\n",
        "us['musescoreDirectPNGPath'] = '/usr/bin/mscore'\n",
        "us['directoryScratch'] = '/tmp'"
      ],
      "metadata": {
        "id": "c332sbnEq0qR"
      },
      "execution_count": null,
      "outputs": []
    },
    {
      "cell_type": "markdown",
      "source": [
        "## Ch6_Ex01.py"
      ],
      "metadata": {
        "id": "7MFTtlxQqh0R"
      }
    },
    {
      "cell_type": "code",
      "metadata": {
        "id": "r3LSkxYNS5nY"
      },
      "source": [
        "# Ch6_Ex01.py\n",
        "# Part of EMR 2023, Tuomas Eerola\n",
        "# Available at: \n",
        "\n",
        "from music21 import *                     # activate library\n",
        "\n",
        "### 1 Select one example from Bach chorales\n",
        "bwv30_6 = corpus.parse('bach/bwv30.6.xml')# Take an example\n",
        "bwv30_6.measures(1, 3).show()             # Display 3 bars\n",
        "### 2 Harmonic analysis\n",
        "bChords = bwv30_6.chordify()              # Slice the chords\n",
        "for c in bChords.recurse().getElementsByClass('Chord'):\n",
        "    c.closedPosition(forceOctave=4, inPlace=True)\n",
        "# Run analysis and add Roman numerals as lyrics\n",
        "for c in bChords.recurse().getElementsByClass('Chord'):\n",
        "    rn = roman.romanNumeralFromChord(c, key.Key('A'))\n",
        "    c.addLyric(str(rn.figure))\n",
        "bChords.measures(0,3).show()             # Display the result\n",
        "### 3 Metrical analysis\n",
        "bass = bwv30_6.getElementById('Bass')    # Get the bass part\n",
        "excerpt = bass.measures(1,3)             # Bar 1 through 3\n",
        "analysis.metrical.labelBeatDepth(excerpt)# Metrical analysis\n",
        "excerpt.show()                           # Display the results"
      ],
      "execution_count": null,
      "outputs": []
    },
    {
      "cell_type": "markdown",
      "source": [
        "## Key-analysis"
      ],
      "metadata": {
        "id": "YqxsiNv7sGAK"
      }
    },
    {
      "cell_type": "code",
      "source": [
        "!pip show music21\n",
        "import sys\n",
        "print(sys.version)"
      ],
      "metadata": {
        "id": "MUDVIWdr0Axu"
      },
      "execution_count": null,
      "outputs": []
    },
    {
      "cell_type": "code",
      "source": [
        "import pandas as pd\n",
        "bwv30_6 = corpus.parse('bach/bwv30.6.xml')# 30.6\n",
        "print(bwv30_6.analyze('key.krumhanslkessler'))\n",
        "bwv30_6_3meas = bwv30_6.measures(1,4) # First 3 measures\n",
        "\n",
        "KK = analysis.discrete.KrumhanslKessler() # Key profile\n",
        "wa = analysis.windowed.WindowedAnalysis(bwv30_6_3meas, KK)\n",
        "a,b = wa.analyze(2, windowType='overlap')\n",
        "\n",
        "keyclar=[]; mode=[]; key=[]\n",
        "for x in range(len(a)):\n",
        "    key.append(a[x][0])\n",
        "    mode.append(a[x][1])\n",
        "    keyclar.append(a[x][2])\n",
        "data=pd.DataFrame({'key':key,'mode':mode,'r':keyclar})\n",
        "print(data)"
      ],
      "metadata": {
        "id": "b6iKy0JJ_4Ne"
      },
      "execution_count": null,
      "outputs": []
    },
    {
      "cell_type": "markdown",
      "source": [
        "## Tension"
      ],
      "metadata": {
        "id": "EZktbnWhHdP2"
      }
    },
    {
      "cell_type": "code",
      "source": [
        "! pip install partitura\n",
        "import partitura\n",
        "import numpy as np\n"
      ],
      "metadata": {
        "id": "5oDWOSsYHfC_"
      },
      "execution_count": null,
      "outputs": []
    },
    {
      "cell_type": "code",
      "source": [
        "!wget https://raw.githubusercontent.com/tuomaseerola/music21/master/bwv306.musicxml"
      ],
      "metadata": {
        "id": "tprmJjaEHywW"
      },
      "execution_count": null,
      "outputs": []
    },
    {
      "cell_type": "code",
      "source": [
        "part = partitura.load_musicxml('bwv306.musicxml')\n",
        "tonal_tension = partitura.musicanalysis.estimate_tonaltension(part, ss='onset')\n",
        "x = getattr(tonal_tension['onset_beat'][0:50], \"tolist\", lambda: value)()\n",
        "y=tonal_tension['cloud_momentum'][0:50]\n",
        "\n",
        "d = {'beat': x,'tension': y}\n",
        "df = pd.DataFrame(data=d)\n",
        "print(df)\n"
      ],
      "metadata": {
        "id": "glivVQqRMwu2"
      },
      "execution_count": null,
      "outputs": []
    }
  ]
}

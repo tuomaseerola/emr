{
 "cells": [
  {
   "cell_type": "markdown",
   "id": "59fbaa4c",
   "metadata": {},
   "source": [
    "<a href=\"https://colab.research.google.com/github/tuomaseerola/emr/blob/master/Chapter7.ipynb\" target=\"_parent\"><img src=\"https://colab.research.google.com/assets/colab-badge.svg\" alt=\"Open In Colab\"/></a>"
   ]
  },
  {
   "cell_type": "markdown",
   "id": "2ccbac5a",
   "metadata": {},
   "source": [
    "# Chapter 7 Statistical Analysis\n",
    "\n",
    "A Jupyter notebook with **code examples in R** for _Chapter 7_ of _Routledge_ book titled **[How to Conduct Empirical Music Research](https://github.com/tuomaseerola/emr)** by [Tuomas Eerola](https://www.durham.ac.uk/staff/tuomas-eerola/), [Music and Science Lab]() at [Durham University](https://www.durham.ac.uk) and [Music and Science Lab](https://musicscience.net) scheduled to be published in 2023.\n",
    "\n",
    "To run the code in your browser, open the file in Colab (click the icon \"Open in Colab\"). Alternatively, you can download the notebook and run it locally.\n",
    "\n",
    "This notebook demonstrates running inferential statistical tests in R.\n",
    "\n",
    "File `Chapter7.ipynb` | Version `29/9/2022` | [Back to Index](https://github.com/tuomaseerola/emr)\n",
    "\n",
    "---"
   ]
  },
  {
   "cell_type": "markdown",
   "id": "a88f2dc7",
   "metadata": {},
   "source": [
    "## Preliminaries\n",
    "Load libraries and install `MusicScienceData` package where the example data is stored."
   ]
  },
  {
   "cell_type": "code",
   "execution_count": 1,
   "id": "fe13c2f5",
   "metadata": {
    "vscode": {
     "languageId": "r"
    }
   },
   "outputs": [
    {
     "name": "stderr",
     "output_type": "stream",
     "text": [
      "── \u001b[1mAttaching packages\u001b[22m ───────────────────────────────────────────────────────────────────────────────────────────────────────── tidyverse 1.3.2 ──\n",
      "\u001b[32m✔\u001b[39m \u001b[34mtibble \u001b[39m 3.1.8      \u001b[32m✔\u001b[39m \u001b[34mdplyr  \u001b[39m 1.0.10\n",
      "\u001b[32m✔\u001b[39m \u001b[34mtidyr  \u001b[39m 1.2.1      \u001b[32m✔\u001b[39m \u001b[34mstringr\u001b[39m 1.4.1 \n",
      "\u001b[32m✔\u001b[39m \u001b[34mreadr  \u001b[39m 2.1.3      \u001b[32m✔\u001b[39m \u001b[34mforcats\u001b[39m 0.5.2 \n",
      "\u001b[32m✔\u001b[39m \u001b[34mpurrr  \u001b[39m 1.0.1      \n",
      "── \u001b[1mConflicts\u001b[22m ──────────────────────────────────────────────────────────────────────────────────────────────────────────── tidyverse_conflicts() ──\n",
      "\u001b[31m✖\u001b[39m \u001b[34mdplyr\u001b[39m::\u001b[32mfilter()\u001b[39m masks \u001b[34mstats\u001b[39m::filter()\n",
      "\u001b[31m✖\u001b[39m \u001b[34mdplyr\u001b[39m::\u001b[32mlag()\u001b[39m    masks \u001b[34mstats\u001b[39m::lag()\n",
      "Loading required package: devtools\n",
      "\n",
      "Loading required package: usethis\n",
      "\n"
     ]
    }
   ],
   "source": [
    "library(ggplot2,quietly = TRUE)\n",
    "library(tidyverse,quietly = TRUE)\n",
    "if (!require(devtools)) install.packages(\"devtools\",quiet=TRUE)\n",
    "devtools::install_github(\"tuomaseerola/MusicScienceData@main\",quiet=TRUE)\n",
    "library(MusicScienceData,quiet=TRUE)"
   ]
  },
  {
   "cell_type": "markdown",
   "id": "32ccd68f",
   "metadata": {},
   "source": [
    "## Code 7.1\n",
    "See text for the explanation."
   ]
  },
  {
   "cell_type": "code",
   "execution_count": 2,
   "id": "410e7953",
   "metadata": {
    "vscode": {
     "languageId": "r"
    }
   },
   "outputs": [
    {
     "name": "stdout",
     "output_type": "stream",
     "text": [
      "        t \n",
      "-5.054596 \n",
      "[1] \"<0.001\"\n"
     ]
    },
    {
     "data": {
      "text/html": [
       "<table class=\"dataframe\">\n",
       "<caption>A tibble: 2 × 3</caption>\n",
       "<thead>\n",
       "\t<tr><th scope=col>gender</th><th scope=col>M</th><th scope=col>SD</th></tr>\n",
       "\t<tr><th scope=col>&lt;fct&gt;</th><th scope=col>&lt;dbl&gt;</th><th scope=col>&lt;dbl&gt;</th></tr>\n",
       "</thead>\n",
       "<tbody>\n",
       "\t<tr><td>Female</td><td>4.587983</td><td>1.369222</td></tr>\n",
       "\t<tr><td>Male  </td><td>4.960494</td><td>1.244163</td></tr>\n",
       "</tbody>\n",
       "</table>\n"
      ],
      "text/latex": [
       "A tibble: 2 × 3\n",
       "\\begin{tabular}{lll}\n",
       " gender & M & SD\\\\\n",
       " <fct> & <dbl> & <dbl>\\\\\n",
       "\\hline\n",
       "\t Female & 4.587983 & 1.369222\\\\\n",
       "\t Male   & 4.960494 & 1.244163\\\\\n",
       "\\end{tabular}\n"
      ],
      "text/markdown": [
       "\n",
       "A tibble: 2 × 3\n",
       "\n",
       "| gender &lt;fct&gt; | M &lt;dbl&gt; | SD &lt;dbl&gt; |\n",
       "|---|---|---|\n",
       "| Female | 4.587983 | 1.369222 |\n",
       "| Male   | 4.960494 | 1.244163 |\n",
       "\n"
      ],
      "text/plain": [
       "  gender M        SD      \n",
       "1 Female 4.587983 1.369222\n",
       "2 Male   4.960494 1.244163"
      ]
     },
     "metadata": {},
     "output_type": "display_data"
    }
   ],
   "source": [
    "df <- MusicScienceData::sadness         # define data\n",
    "t <- t.test(ASM20 ~ gender, data=df)    # t test\n",
    "print(t$statistic)                      # show the t value\n",
    "\n",
    "print(scales::pvalue(t$p.value))\n",
    "dplyr::summarise(dplyr::group_by(df, gender), # means and SDs\n",
    "                 M=mean(ASM20,na.rm=TRUE),\n",
    "                 SD=sd(ASM20,na.rm=TRUE))\n"
   ]
  },
  {
   "cell_type": "markdown",
   "id": "0e49e784",
   "metadata": {},
   "source": [
    "## Code 7.2"
   ]
  },
  {
   "cell_type": "code",
   "execution_count": 3,
   "id": "73d92091",
   "metadata": {
    "vscode": {
     "languageId": "r"
    }
   },
   "outputs": [
    {
     "name": "stdout",
     "output_type": "stream",
     "text": [
      "              Df Sum Sq Mean Sq F value  Pr(>F)   \n",
      "age            5   29.9   5.986   3.321 0.00548 **\n",
      "Residuals   1564 2819.4   1.803                   \n",
      "---\n",
      "Signif. codes:  0 ‘***’ 0.001 ‘**’ 0.01 ‘*’ 0.05 ‘.’ 0.1 ‘ ’ 1\n",
      "7 observations deleted due to missingness\n"
     ]
    }
   ],
   "source": [
    "df <- MusicScienceData::sadness         # define data\n",
    "model.aov <- aov(ASM20 ~ age, data=df)  # run anova\n",
    "F <- summary(model.aov)                 # summarise\n",
    "print(F)\n"
   ]
  },
  {
   "cell_type": "markdown",
   "id": "21f37895",
   "metadata": {},
   "source": [
    "## Code 7.3"
   ]
  },
  {
   "cell_type": "code",
   "execution_count": 4,
   "id": "ef06b16e",
   "metadata": {},
   "outputs": [
    {
     "name": "stdout",
     "output_type": "stream",
     "text": [
      "\n",
      "\n",
      "Table: Comparison of age groups\n",
      "                   for Item 20 in ASM survey.\n",
      "\n",
      "                       diff      lwr     upr   p adj\n",
      "------------------  -------  -------  ------  ------\n",
      "25 to 34-18 to 24     0.133   -0.133   0.399   0.713\n",
      "35 to 44-18 to 24     0.232   -0.062   0.525   0.214\n",
      "45 to 54-18 to 24     0.244   -0.088   0.576   0.289\n",
      "55 to 64-18 to 24     0.493    0.107   0.879   0.004\n",
      "65 to 74-18 to 24     0.418   -0.221   1.057   0.423\n",
      "35 to 44-25 to 34     0.099   -0.174   0.371   0.906\n",
      "45 to 54-25 to 34     0.111   -0.202   0.425   0.914\n",
      "55 to 64-25 to 34     0.360   -0.011   0.731   0.063\n",
      "65 to 74-25 to 34     0.285   -0.344   0.915   0.789\n",
      "45 to 54-35 to 44     0.013   -0.324   0.349   1.000\n",
      "55 to 64-35 to 44     0.261   -0.129   0.652   0.396\n",
      "65 to 74-35 to 44     0.186   -0.455   0.828   0.962\n",
      "55 to 64-45 to 54     0.249   -0.172   0.669   0.540\n",
      "65 to 74-45 to 54     0.174   -0.486   0.834   0.975\n",
      "65 to 74-55 to 64    -0.075   -0.764   0.614   1.000\n"
     ]
    }
   ],
   "source": [
    "TABLE<-TukeyHSD(model.aov,conf.level = 0.95)\n",
    "print(knitr::kable(TABLE$age,digits = 3,\n",
    "                   caption = 'Comparison of age groups\n",
    "                   for Item 20 in ASM survey.',\n",
    "                   format = 'simple'))\n"
   ]
  },
  {
   "cell_type": "markdown",
   "id": "c87427e8",
   "metadata": {},
   "source": [
    "## Code 7.4"
   ]
  },
  {
   "cell_type": "code",
   "execution_count": 5,
   "id": "c6e2e271",
   "metadata": {},
   "outputs": [
    {
     "name": "stdout",
     "output_type": "stream",
     "text": [
      "              Df Sum Sq Mean Sq F value  Pr(>F)    \n",
      "age            5   29.9    5.99   3.377 0.00488 ** \n",
      "gender         1   45.7   45.69  25.773 4.3e-07 ***\n",
      "age:gender     5   11.5    2.31   1.303 0.25997    \n",
      "Residuals   1558 2762.1    1.77                    \n",
      "---\n",
      "Signif. codes:  0 ‘***’ 0.001 ‘**’ 0.01 ‘*’ 0.05 ‘.’ 0.1 ‘ ’ 1\n",
      "7 observations deleted due to missingness\n"
     ]
    }
   ],
   "source": [
    "df <- MusicScienceData::sadness                   # define data\n",
    "model2.aov <- aov(ASM20 ~ age * gender, data=df)  # run anova\n",
    "F2 <- summary(model2.aov)\n",
    "print(F2)\n"
   ]
  },
  {
   "cell_type": "markdown",
   "id": "9e5db02a",
   "metadata": {},
   "source": [
    "## Code 7.5\n",
    "This analysis requires extra libraries and raw data read from github. The installation might be slow in Colab because of package dependencies."
   ]
  },
  {
   "cell_type": "code",
   "execution_count": 6,
   "id": "4bbbbe65",
   "metadata": {},
   "outputs": [
    {
     "name": "stderr",
     "output_type": "stream",
     "text": [
      "\n",
      "Attaching package: ‘Matrix’\n",
      "\n",
      "\n",
      "The following objects are masked from ‘package:tidyr’:\n",
      "\n",
      "    expand, pack, unpack\n",
      "\n",
      "\n",
      "\n",
      "Attaching package: ‘lmerTest’\n",
      "\n",
      "\n",
      "The following object is masked from ‘package:lme4’:\n",
      "\n",
      "    lmer\n",
      "\n",
      "\n",
      "The following object is masked from ‘package:stats’:\n",
      "\n",
      "    step\n",
      "\n",
      "\n"
     ]
    }
   ],
   "source": [
    "install.packages(\"lme4\",quiet=TRUE)     # Required for LMM analysis\n",
    "install.packages(\"lmerTest\",quiet=TRUE) # Optional\n",
    "library(lme4,quiet=TRUE)\n",
    "library(lmerTest,quiet=TRUE)"
   ]
  },
  {
   "cell_type": "code",
   "execution_count": 7,
   "id": "d97158a0",
   "metadata": {},
   "outputs": [
    {
     "name": "stdout",
     "output_type": "stream",
     "text": [
      "\n",
      "\n",
      "Table: LMM results of Valence ratings.\n",
      "\n",
      "                            Estimate   Std. Error   df       t value   Pr(>|t|) \n",
      "--------------------------  ---------  -----------  -------  --------  ---------\n",
      "(Intercept)                 3.43       0.25         58.17    13.51     <0.001   \n",
      "CategoryFear                0.07       0.34         47.43    0.19      0.850    \n",
      "CategoryHappy               4.16       0.34         47.43    12.24     <0.001   \n",
      "CategorySad                 1.63       0.34         47.43    4.79      <0.001   \n",
      "CategoryTender              3.4        0.34         47.43    10.01     <0.001   \n",
      "GenderMale                  -0.09      0.21         110.04   -0.45     0.650    \n",
      "CategoryFear:GenderMale     -0.07      0.19         2348     -0.34     0.730    \n",
      "CategoryHappy:GenderMale    -0.04      0.19         2348     -0.22     0.820    \n",
      "CategorySad:GenderMale      -0.46      0.19         2348     -2.41     0.020    \n",
      "CategoryTender:GenderMale   0          0.19         2348     0.01      0.990    \n"
     ]
    }
   ],
   "source": [
    "d <- read.csv('https://raw.githubusercontent.com/tuomaseerola/emr/main/data/raw_ratings.csv')\n",
    "d2 <- dplyr::filter(d,Emotion=='Dimensional')  #\n",
    "d3 <- dplyr::filter(d2, Category=='Anger' |\n",
    "  Category=='Fear' |\n",
    "  Category=='Happy' |\n",
    "  Category=='Sad' |\n",
    "  Category=='Tender')\n",
    "m1 <- lmer(Valence ~ Category * Gender + (1|id) + (1|Track), data = d3)\n",
    "s <- summary(m1,corr=FALSE)\n",
    "S<-s$coefficients; S<-round(S,2); S[,5]<-scales::pvalue(S[,5])\n",
    "print(knitr::kable(S,format = 'simple',\n",
    "                   caption = 'LMM results of Valence ratings.'))\n"
   ]
  },
  {
   "cell_type": "markdown",
   "id": "9cea5f8d",
   "metadata": {},
   "source": [
    "## Code 7.6"
   ]
  },
  {
   "cell_type": "code",
   "execution_count": 8,
   "id": "0a24a345",
   "metadata": {},
   "outputs": [
    {
     "name": "stdout",
     "output_type": "stream",
     "text": [
      "\u001b[90m# A tibble: 2 × 4\u001b[39m\n",
      "  Category Gender     M    SD\n",
      "  \u001b[3m\u001b[90m<chr>\u001b[39m\u001b[23m    \u001b[3m\u001b[90m<chr>\u001b[39m\u001b[23m  \u001b[3m\u001b[90m<dbl>\u001b[39m\u001b[23m \u001b[3m\u001b[90m<dbl>\u001b[39m\u001b[23m\n",
      "\u001b[90m1\u001b[39m Sad      Female  5.05  1.69\n",
      "\u001b[90m2\u001b[39m Sad      Male    4.5   1.54\n"
     ]
    }
   ],
   "source": [
    "S <- d %>%\n",
    "  filter(Category=='Sad') %>%\n",
    "  group_by(Category,Gender) %>%\n",
    "  summarise(M=mean(Valence,na.rm=T),SD=sd(Valence,na.rm=T),\n",
    "            .groups = 'drop')\n",
    "print(S)\n"
   ]
  },
  {
   "cell_type": "markdown",
   "id": "a45404ce",
   "metadata": {},
   "source": [
    "## Code 7.7"
   ]
  },
  {
   "cell_type": "code",
   "execution_count": 9,
   "id": "b3d27922",
   "metadata": {},
   "outputs": [
    {
     "name": "stdout",
     "output_type": "stream",
     "text": [
      "          \n",
      "           Female Male\n",
      "  18 to 24    269   87\n",
      "  25 to 34    361  137\n",
      "  35 to 44    231  101\n",
      "  45 to 54    158   55\n",
      "  55 to 64    118   19\n",
      "  65 to 74     34    7\n",
      "\n",
      "\tPearson's Chi-squared test\n",
      "\n",
      "data:  gender_age_xtab\n",
      "X-squared = 16.649, df = 5, p-value = 0.005215\n",
      "\n"
     ]
    }
   ],
   "source": [
    "library(MusicScienceData)               # loads library w data\n",
    "gender_age_xtab <- table(MusicScienceData::sadness$age,\n",
    "                         MusicScienceData::sadness$gender)\n",
    "print(gender_age_xtab)\n",
    "\n",
    "result <- chisq.test(gender_age_xtab)   # Chi^2 test\n",
    "print(result)"
   ]
  },
  {
   "cell_type": "markdown",
   "id": "cd5b8784",
   "metadata": {},
   "source": [
    "## Code 7.8"
   ]
  },
  {
   "cell_type": "code",
   "execution_count": 10,
   "id": "b8b4d8ad",
   "metadata": {},
   "outputs": [
    {
     "name": "stdout",
     "output_type": "stream",
     "text": [
      "       cor \n",
      "-0.8269947 \n",
      "[1] \"<0.001\"\n",
      " df \n",
      "108 \n"
     ]
    }
   ],
   "source": [
    "library(MusicScienceData)               # load library w data\n",
    "data <- MusicScienceData::soundtrack    # define data\n",
    "r<-cor.test(data$Valence, data$Tension) # calculate correlation\n",
    "print(r$estimate)                       # print coefficient\n",
    "##    cor\n",
    "## -0.827\n",
    "print(scales::pvalue(r$p.value))        # print pretty p value\n",
    "## [1] \"<0.001\"\n",
    "print(r$parameter)                      # print df\n"
   ]
  },
  {
   "cell_type": "markdown",
   "id": "ca87d1d4",
   "metadata": {},
   "source": [
    "## Code 7.9"
   ]
  },
  {
   "cell_type": "code",
   "execution_count": 11,
   "id": "c1141424",
   "metadata": {},
   "outputs": [
    {
     "name": "stdout",
     "output_type": "stream",
     "text": [
      "         RMS     sp_centr spec_rolloff     spec_zcr \n",
      "        0.58         0.36         0.40         0.32 \n"
     ]
    }
   ],
   "source": [
    "library(MusicScienceData)               # loads library w data\n",
    "d1 <- MusicScienceData::soundtrack      # get ratings\n",
    "d2 <- MusicScienceData::soundtrack_features[,c(2:3,5:6)] # select only some features\n",
    "d1[,17:21] <- as.data.frame(scale(d2))  # normalise\n",
    "\n",
    "tmp <- cor(d1[,c(3,17:20)])             # get correlations\n",
    "print(round(tmp[2:5,1],2))              # display first line\n"
   ]
  },
  {
   "cell_type": "markdown",
   "id": "001f3e6e",
   "metadata": {},
   "source": [
    "## Code 7.10"
   ]
  },
  {
   "cell_type": "code",
   "execution_count": 12,
   "id": "9e2bceea",
   "metadata": {},
   "outputs": [
    {
     "name": "stdout",
     "output_type": "stream",
     "text": [
      "\n",
      "Call:\n",
      "lm(formula = Energy ~ RMS + sp_centr + spec_rolloff + spec_zcr, \n",
      "    data = d1)\n",
      "\n",
      "Residuals:\n",
      "    Min      1Q  Median      3Q     Max \n",
      "-2.4719 -1.1042 -0.2064  0.9427  3.4504 \n",
      "\n",
      "Coefficients:\n",
      "             Estimate Std. Error t value Pr(>|t|)    \n",
      "(Intercept)    5.4865     0.1309  41.905  < 2e-16 ***\n",
      "RMS            0.9067     0.1397   6.491 2.88e-09 ***\n",
      "sp_centr      -1.9069     1.2245  -1.557    0.122    \n",
      "spec_rolloff   1.9663     0.9502   2.069    0.041 *  \n",
      "spec_zcr       0.5995     0.4170   1.438    0.154    \n",
      "---\n",
      "Signif. codes:  0 ‘***’ 0.001 ‘**’ 0.01 ‘*’ 0.05 ‘.’ 0.1 ‘ ’ 1\n",
      "\n",
      "Residual standard error: 1.373 on 105 degrees of freedom\n",
      "Multiple R-squared:  0.4504,\tAdjusted R-squared:  0.4295 \n",
      "F-statistic: 21.52 on 4 and 105 DF,  p-value: 5.528e-13\n",
      "\n"
     ]
    }
   ],
   "source": [
    "model.reg <- lm(Energy ~ RMS + sp_centr + spec_rolloff +\n",
    "  spec_zcr, data = d1)\n",
    "s <- summary(model.reg) # R2adj = 0.424 (Energy)\n",
    "print(s)\n"
   ]
  },
  {
   "cell_type": "markdown",
   "id": "db1daf12",
   "metadata": {},
   "source": [
    "## Code 7.11"
   ]
  },
  {
   "cell_type": "code",
   "execution_count": 13,
   "id": "e51a5389",
   "metadata": {},
   "outputs": [
    {
     "name": "stdout",
     "output_type": "stream",
     "text": [
      "[1] 0.3378173\n"
     ]
    },
    {
     "data": {
      "text/plain": [
       "\n",
       "Call:\n",
       "lm(formula = Energy ~ RMS, data = d1)\n",
       "\n",
       "Residuals:\n",
       "    Min      1Q  Median      3Q     Max \n",
       "-2.6644 -1.1921 -0.3852  1.1875  3.3296 \n",
       "\n",
       "Coefficients:\n",
       "            Estimate Std. Error t value Pr(>|t|)    \n",
       "(Intercept)   5.4865     0.1417  38.717  < 2e-16 ***\n",
       "RMS           1.0567     0.1424   7.423 2.79e-11 ***\n",
       "---\n",
       "Signif. codes:  0 ‘***’ 0.001 ‘**’ 0.01 ‘*’ 0.05 ‘.’ 0.1 ‘ ’ 1\n",
       "\n",
       "Residual standard error: 1.486 on 108 degrees of freedom\n",
       "Multiple R-squared:  0.3378,\tAdjusted R-squared:  0.3317 \n",
       "F-statistic:  55.1 on 1 and 108 DF,  p-value: 2.788e-11\n"
      ]
     },
     "metadata": {},
     "output_type": "display_data"
    }
   ],
   "source": [
    "r <- cor(d1$Energy, d1$RMS)\n",
    "print( r^2 )                      # print the squared correlation\n",
    "summary(lm(Energy ~ RMS,data=d1)) # Summarise regression\n"
   ]
  },
  {
   "cell_type": "code",
   "execution_count": null,
   "id": "82c53e9b",
   "metadata": {},
   "outputs": [],
   "source": []
  }
 ],
 "metadata": {
  "kernelspec": {
   "display_name": "R",
   "language": "R",
   "name": "ir"
  },
  "language_info": {
   "codemirror_mode": "r",
   "file_extension": ".r",
   "mimetype": "text/x-r-source",
   "name": "R",
   "pygments_lexer": "r",
   "version": "4.2.0"
  }
 },
 "nbformat": 4,
 "nbformat_minor": 5
}

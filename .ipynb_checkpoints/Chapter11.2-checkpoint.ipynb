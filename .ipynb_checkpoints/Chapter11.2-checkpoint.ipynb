{
 "cells": [
  {
   "cell_type": "markdown",
   "metadata": {
    "colab_type": "text",
    "id": "view-in-github"
   },
   "source": [
    "<a href=\"https://colab.research.google.com/github/tuomaseerola/emr/blob/main/Chapter11.2.ipynb\" target=\"_parent\"><img src=\"https://colab.research.google.com/assets/colab-badge.svg\" alt=\"Open In Colab\"/></a>"
   ]
  },
  {
   "cell_type": "markdown",
   "metadata": {
    "id": "WTO_mMkGJCci"
   },
   "source": [
    "# Chapter 11 Code - Corpus analysis of synchrony\n",
    "\n",
    "A Jupyter notebook with code examples in Python for _Chapter 11 (Music Corpus Studies)_ of _Routlegde_ book titled **[How to Conduct Empirical Music Research](https://github.com/tuomaseerola/emr)** by [Tuomas Eerola](https://www.durham.ac.uk/staff/tuomas-eerola/), [Music and Science Lab]() at [Durham University](https://www.durham.ac.uk) and [Music and Science Lab](https://musicscience.net) scheduled to be published in 2023.\n",
    "\n",
    "To run the code in your browser, open the file in Colab (click the icon \"Open in Colab\"). Alternatively, you can download the notebook and run it locally.\n",
    "\n",
    "This notebook demonstrates how several tracks can be analysed as a corpus. This is a companion analysis to [Chapter9.5.ipynb](Chapter9.5.ipynb) which documents the sources in full.\n",
    "\n",
    "> File `Chapter11.2.ipynb` | \n",
    "> Version `23/9/2022` |\n",
    "> [Back to Index](https://github.com/tuomaseerola/emr)\n",
    "\n",
    "---\n"
   ]
  },
  {
   "cell_type": "markdown",
   "metadata": {},
   "source": [
    "## Load libraries"
   ]
  },
  {
   "cell_type": "code",
   "execution_count": 3,
   "metadata": {},
   "outputs": [
    {
     "name": "stderr",
     "output_type": "stream",
     "text": [
      "Loading required package: devtools\n",
      "\n",
      "Loading required package: usethis\n",
      "\n",
      "Skipping install of 'onsetsync' from a github remote, the SHA1 (cbaba57b) has not changed since last install.\n",
      "  Use `force = TRUE` to force installation\n",
      "\n"
     ]
    }
   ],
   "source": [
    "if (!require(devtools)) install.packages(\"devtools\",quiet=TRUE)\n",
    "devtools::install_github(\"tuomaseerola/onsetsync\")\n",
    "library(onsetsync)              # to handle onsets\n",
    "library(dplyr)                  # to handle summaries"
   ]
  },
  {
   "cell_type": "markdown",
   "metadata": {},
   "source": [
    "## Get a small corpus of Cuban Son and Salsa\n",
    "and analyse the synchronies between bass and guitar across all tracks."
   ]
  },
  {
   "cell_type": "code",
   "execution_count": 4,
   "metadata": {},
   "outputs": [
    {
     "name": "stdout",
     "output_type": "stream",
     "text": [
      "\u001b[90m# A tibble: 5 × 3\u001b[39m\n",
      "  name                Bass_Guitar Bass_Tres\n",
      "  \u001b[3m\u001b[90m<chr>\u001b[39m\u001b[23m                     \u001b[3m\u001b[90m<dbl>\u001b[39m\u001b[23m     \u001b[3m\u001b[90m<dbl>\u001b[39m\u001b[23m\n",
      "\u001b[90m1\u001b[39m El Cantante               -\u001b[31m5\u001b[39m\u001b[31m.\u001b[39m\u001b[31m24\u001b[39m     14.6 \n",
      "\u001b[90m2\u001b[39m Habanera                 -\u001b[31m11\u001b[39m\u001b[31m.\u001b[39m\u001b[31m3\u001b[39m       6.60\n",
      "\u001b[90m3\u001b[39m Palo Santo               -\u001b[31m16\u001b[39m\u001b[31m.\u001b[39m\u001b[31m1\u001b[39m      -\u001b[31m3\u001b[39m\u001b[31m.\u001b[39m\u001b[31m54\u001b[39m\n",
      "\u001b[90m4\u001b[39m Tumbao Sangreao          -\u001b[31m12\u001b[39m\u001b[31m.\u001b[39m\u001b[31m0\u001b[39m       5.24\n",
      "\u001b[90m5\u001b[39m Yo Naci En  Un Sola       -\u001b[31m7\u001b[39m\u001b[31m.\u001b[39m\u001b[31m10\u001b[39m     -\u001b[31m4\u001b[39m\u001b[31m.\u001b[39m\u001b[31m36\u001b[39m\n"
     ]
    }
   ],
   "source": [
    "# Code 11.1\n",
    "corpus <- onsetsync::CSS_IEMP   # Cuban Salsa & Son\n",
    "D <- sync_sample_paired(corpus,'Bass','Guitar',0,1,'SD')\n",
    "RES <-summarise(group_by(D$asynch,name),M=mean(asynch*1000))\n",
    "D2 <- sync_sample_paired(corpus,'Bass','Tres',0,1,'SD')\n",
    "RES2 <- summarise(group_by(D2$asynch,name),M=mean(asynch*1000))\n",
    "names(RES)[2] <- 'Bass_Guitar'  # rename for clarity\n",
    "RES$Bass_Tres <- RES2$M         # rename also\n",
    "print(RES)"
   ]
  }
 ],
 "metadata": {
  "colab": {
   "collapsed_sections": [],
   "include_colab_link": true,
   "name": "Empirical_Music_Research.ipynb",
   "private_outputs": true,
   "provenance": []
  },
  "kernelspec": {
   "display_name": "R",
   "language": "R",
   "name": "ir"
  },
  "language_info": {
   "codemirror_mode": "r",
   "file_extension": ".r",
   "mimetype": "text/x-r-source",
   "name": "R",
   "pygments_lexer": "r",
   "version": "4.2.0"
  },
  "vscode": {
   "interpreter": {
    "hash": "1b0a897f6220f296ab5a80a33ecc8b4695202609f91736a31f1b599aeb1415d2"
   }
  }
 },
 "nbformat": 4,
 "nbformat_minor": 1
}

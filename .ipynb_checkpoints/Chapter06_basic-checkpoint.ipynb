{
 "cells": [
  {
   "cell_type": "markdown",
   "metadata": {
    "colab_type": "text",
    "id": "view-in-github"
   },
   "source": [
    "<a href=\"https://colab.research.google.com/github/tuomaseerola/emr/blob/master/Chapter06_basic.ipynb\" target=\"_parent\"><img src=\"https://colab.research.google.com/assets/colab-badge.svg\" alt=\"Open In Colab\"/></a>"
   ]
  },
  {
   "cell_type": "markdown",
   "metadata": {
    "id": "Ja3oOuzSOQTy"
   },
   "source": [
    "# Chapter 6 Basic Statistical Analysis Code\n",
    "\n",
    "A Jupyter notebook with code examples in R for _Chapter 6 (Data Analysis)_ of _Routlegde_ book titled **[How to Conduct Empirical Music Research](https://github.com/tuomaseerola/emr)** by [Tuomas Eerola](https://www.durham.ac.uk/staff/tuomas-eerola/), [Music and Science Lab]() at [Durham University](https://www.durham.ac.uk) and [Music and Science Lab](https://musicscience.net) scheduled to be published in 2023.\n",
    "\n",
    "To run the code in your browser, open the file in Colab (click the icon \"Open in Colab\"). Alternatively, you can download the notebook and run it locally.\n",
    "\n",
    "File `Chapter06_basic.ipynb` | Version `10/9/2022` | [Back to Index](https://github.com/tuomaseerola/emr)\n",
    "\n",
    "---"
   ]
  },
  {
   "cell_type": "markdown",
   "metadata": {
    "id": "jX6nFy8sjBVt"
   },
   "source": [
    "Run the block below first (click play button on the left corner). This activates the two very useful libraries for R (`tidyverse` and `ggplot2`) and install a library allowing to create plots with multiple sub-plots easily (`cowplot`). The last line install a specific library titled `MusicScienceData` for the book which contains example datasets."
   ]
  },
  {
   "cell_type": "code",
   "execution_count": 1,
   "metadata": {
    "id": "Bvvp3u_SNzdM"
   },
   "outputs": [
    {
     "name": "stderr",
     "output_type": "stream",
     "text": [
      "Registered S3 methods overwritten by 'ggplot2':\n",
      "  method         from \n",
      "  [.quosures     rlang\n",
      "  c.quosures     rlang\n",
      "  print.quosures rlang\n",
      "Registered S3 method overwritten by 'rvest':\n",
      "  method            from\n",
      "  read_xml.response xml2\n",
      "── Attaching packages ─────────────────────────────────────── tidyverse 1.2.1 ──\n",
      "✔ ggplot2 3.1.1       ✔ purrr   0.3.2  \n",
      "✔ tibble  2.1.1       ✔ dplyr   0.8.0.1\n",
      "✔ tidyr   0.8.3       ✔ stringr 1.4.0  \n",
      "✔ readr   1.3.1       ✔ forcats 0.4.0  \n",
      "── Conflicts ────────────────────────────────────────── tidyverse_conflicts() ──\n",
      "✖ dplyr::filter() masks stats::filter()\n",
      "✖ dplyr::lag()    masks stats::lag()\n",
      "Updating HTML index of packages in '.Library'\n",
      "Making 'packages.html' ... done\n"
     ]
    },
    {
     "ename": "ERROR",
     "evalue": "Error in loadNamespace(name): there is no package called ‘devtools’\n",
     "output_type": "error",
     "traceback": [
      "Error in loadNamespace(name): there is no package called ‘devtools’\nTraceback:\n",
      "1. devtools::install_github",
      "2. getExportedValue(pkg, name)",
      "3. asNamespace(ns)",
      "4. getNamespace(ns)",
      "5. loadNamespace(name)",
      "6. withRestarts(stop(cond), retry_loadNamespace = function() NULL)",
      "7. withOneRestart(expr, restarts[[1L]])",
      "8. doWithOneRestart(return(expr), restart)"
     ]
    }
   ],
   "source": [
    "library(tidyverse)\n",
    "library(ggplot2)\n",
    "install.packages(\"cowplot\")\n",
    "library(cowplot)\n",
    "devtools::install_github(\"tuomaseerola/MusicScienceData\", quiet=TRUE)\n",
    "library(MusicScienceData)\n",
    "options(repr.plot.width = 6, repr.plot.height = 4) # Default plot size for Colab\n",
    "R.version.string"
   ]
  },
  {
   "cell_type": "markdown",
   "metadata": {
    "id": "o03TjO7HaHy6"
   },
   "source": [
    "### Ch6_Ex01.R\n",
    "Create a scatterplot from an existing data concerning ratings of valence and energy in film music soundtracks (Eerola and Vuoskoski, 2011)."
   ]
  },
  {
   "cell_type": "code",
   "execution_count": null,
   "metadata": {
    "id": "nAZ54F1dUsRZ"
   },
   "outputs": [],
   "source": [
    "ggplot(MusicScienceData::soundtrack,    # defines the data\n",
    "     aes(x=Valence,\n",
    "     y=Energy,colour=TARGET_EMOTION))+  # variables\n",
    "  geom_point()+                         # plots points\n",
    "  theme_MusicScience()                  # applies style"
   ]
  },
  {
   "cell_type": "markdown",
   "metadata": {
    "id": "X3cgOCDxdv2C"
   },
   "source": [
    "### Ch6_Ex02.R\n",
    "Create a histogram with an example question concerning attitudes to music and sadness (ASM question 25 from Eerola and Peltola, 2016).\n",
    "\n",
    "Here we also assign the plot to an output variable (`g1`) to create a useful habit for more complex plots."
   ]
  },
  {
   "cell_type": "code",
   "execution_count": null,
   "metadata": {
    "id": "Ibi7FHkCdqBU"
   },
   "outputs": [],
   "source": [
    "ex2 <- sadness %>% \n",
    "  drop_na(ASM25) %>%   # drop missing values \n",
    "  ggplot(aes(x = ASM25))+\n",
    "  geom_histogram(bins=7,fill=\"grey50\", colour='black')+\n",
    "  scale_x_continuous(breaks = seq(1,7,by=1))+ \n",
    "  ggtitle(sadness_ASM_labels[25])+\n",
    "  ylab('Count')+\n",
    "  xlab('1 = Strongly disagree, 7 = Strongly agree')+\n",
    "  theme_MusicScience()\n",
    "print(ex2)"
   ]
  },
  {
   "cell_type": "markdown",
   "metadata": {
    "id": "5hWjiD-RecZ7"
   },
   "source": [
    "### Ch6_Ex03.R\n",
    "Create four histograms with priming data involving positive and negative words and sound examples. The measure is reaction time responses (`RT`) and the data comes from a study by Armitage and Eerola (2020)."
   ]
  },
  {
   "cell_type": "code",
   "execution_count": null,
   "metadata": {
    "id": "wXoSNsaAeiAz"
   },
   "outputs": [],
   "source": [
    "d <- MusicScienceData::priming\n",
    "\n",
    "g1 <- ggplot(d,aes(x=RT))+\n",
    "  geom_histogram(binwidth=100,colour='grey50',fill='white')+\n",
    "  ggtitle('Bin width 100')+\n",
    "  ylab('Count')+\n",
    "  xlab('Reaction time (ms)')+\n",
    "  scale_x_continuous(breaks=seq(0,2000,by=400))+\n",
    "  theme_MusicScience()\n",
    "\n",
    "g2 <- ggplot(d,aes(x=RT))+\n",
    "  geom_histogram(binwidth=10,colour='grey50',fill='white')+\n",
    "  ggtitle('Bin width 10')+\n",
    "  ylab('Count')+\n",
    "  xlab('Reaction time (ms)')+\n",
    "  scale_x_continuous(breaks=seq(0,2000,by=400))+\n",
    "  theme_MusicScience()\n",
    "\n",
    "g3 <- ggplot(dplyr::filter(d,RT>200 & RT<1500),aes(x=RT))+\n",
    "  geom_histogram(binwidth=10,colour='grey50',fill='white')+\n",
    "  ggtitle('Bin width 10 with trimming')+\n",
    "  ylab('Count')+\n",
    "  xlab('Reaction time (ms)')+\n",
    "  scale_x_continuous(breaks=seq(200,1500,by=200),limits = c(0,2000))+\n",
    "  geom_vline(xintercept = c(200,1500),linetype='dashed')+\n",
    "  theme_MusicScience()\n",
    "\n",
    "g4 <- ggplot(dplyr::filter(d,RT>200 & RT<1500),aes(x=RT))+\n",
    "  geom_histogram(binwidth=10,colour='grey50',fill='white')+\n",
    "  geom_density(aes(y=10 * ..count..),alpha=0.5,colour='black',fill=NA)+\n",
    "  ggtitle('Bin width 10 density with trimming')+\n",
    "  ylab('Count')+\n",
    "  xlab('Reaction time (ms)')+\n",
    "  scale_x_continuous(breaks=seq(200,1500,by=200))+\n",
    "  theme_MusicScience()\n",
    "\n",
    "ex3 <- plot_grid(g1, g2, g3, g4, nrow = 2,labels=\"AUTO\")\n",
    "print(ex3)"
   ]
  },
  {
   "cell_type": "markdown",
   "metadata": {
    "id": "wmeGU5PGin9f"
   },
   "source": [
    "### Ch6_Ex04.R\n",
    "Create a boxplot with textual explanations with music and sadness data."
   ]
  },
  {
   "cell_type": "code",
   "execution_count": null,
   "metadata": {
    "id": "SQIqXIriV0ba"
   },
   "outputs": [],
   "source": [
    "ex4 <- MusicScienceData::sadness %>% \n",
    "  drop_na(ASM25) %>%   # drop missing values \n",
    "  ggplot(aes(y = ASM25))+\n",
    "  geom_boxplot(fill='gray50')+\n",
    "  scale_y_continuous(breaks = seq(1,7,by=1),expand=c(0.02,0.02))+\n",
    "  scale_x_discrete()+\n",
    "  coord_flip()+\n",
    "  annotate(\"segment\",x=.55,xend=0.55,y=5,yend=7,arrow = arrow(ends = \"both\",length = unit(.2,\"cm\")),colour='gray30')+\n",
    "  annotate(\"text\",x=.8,y=6,label='Interquartile range (IQR)',hjust=0.5,colour=\"gray30\")+\n",
    "  annotate(\"text\",x=.8,y=2,label='Minimum (Q1 - 1.5*IQR)',hjust=0,colour=\"gray30\")+\n",
    "  annotate(\"text\",x=-.65,y=6,label='Median',hjust=0.5,colour=\"gray30\")+\n",
    "  annotate(\"text\",x=-.65,y=5,label='Q1',hjust=0.5,colour=\"gray30\")+\n",
    "  annotate(\"text\",x=-.95,y=5,label='(25th percentile)',hjust=0.5,size=3,colour=\"gray30\")+\n",
    "  annotate(\"text\",x=-.65,y=7,label='Q3',hjust=0.5,colour=\"gray30\")+\n",
    "  annotate(\"text\",x=-.95,y=7,label='(75th percentile)',hjust=1.0,size=3,colour=\"gray30\")+\n",
    "  annotate(\"segment\",x=.70,xend=0.10,y=2,yend=2,arrow = arrow(length = unit(.2,\"cm\")),colour='gray30')+\n",
    "  annotate(\"text\",x=.8,y=1,label='Outliers',hjust=0,colour=\"gray30\")+\n",
    "  annotate(\"segment\",x=.70,xend=0.10,y=1,yend=1,arrow = arrow(length = unit(.2,\"cm\")),colour='gray30')+\n",
    "  ggtitle(MusicScienceData::sadness_ASM_labels[25])+\n",
    "  ylab('1 = Strongly disagree, 7 = Strongly agree')+\n",
    "  xlab('')+                             # eliminates the label from X axis\n",
    "  theme_MusicScience()                  # applies style\n",
    "print(ex4)"
   ]
  },
  {
   "cell_type": "markdown",
   "metadata": {
    "id": "EMxRc7YRisuv"
   },
   "source": [
    "### Ch6_Ex05.R\n",
    "Create a boxplot with a grouping variable (gender)."
   ]
  },
  {
   "cell_type": "code",
   "execution_count": null,
   "metadata": {
    "id": "IlKpFIlJU3mb"
   },
   "outputs": [],
   "source": [
    "ex5 <- sadness %>% \n",
    "  drop_na(ASM25) %>%   # drop missing values \n",
    "  ggplot(aes(y = ASM25,fill=gender))+\n",
    "  geom_boxplot()+\n",
    "  scale_y_continuous(breaks = seq(1,7,by=1))+\n",
    "  scale_x_discrete()+\n",
    "  scale_fill_grey(start = .4,end = .8,name='Gender')+\n",
    "  ylab('1 = Strongly disagree,\\n 7 = Strongly agree')+\n",
    "  theme_MusicScience()\n",
    "print(ex5)"
   ]
  },
  {
   "cell_type": "markdown",
   "metadata": {
    "id": "aYhNtjaFakqT"
   },
   "source": [
    "### Ch6_Ex06.R\n",
    "Create a plot with means and confidence intervals.\n",
    "\n",
    "These examples utilise the confidence interval functions from `Hmisc` package, so let's install that package first. Installing `Hmisc` can take some time (~ 1 minute). "
   ]
  },
  {
   "cell_type": "code",
   "execution_count": null,
   "metadata": {},
   "outputs": [],
   "source": [
    "install.packages(\"Hmisc\") # Install library for confidence interval functions\n",
    "invisible(library(Hmisc)) # Load library and suppress messages/warnings"
   ]
  },
  {
   "cell_type": "code",
   "execution_count": null,
   "metadata": {
    "id": "xPDvOoKKfqqc"
   },
   "outputs": [],
   "source": [
    "ex6 <- sadness %>% \n",
    "  drop_na(ASM20) %>%   # drop missing values \n",
    "  group_by(gender) %>%\n",
    "  summarise(mean= mean(ASM20),ci = mean_cl_normal(ASM20)) %>% \n",
    "  ggplot(aes(x = gender,y = mean,fill=gender))+\n",
    "  geom_col(colour='black',show.legend = FALSE)+\n",
    "  geom_errorbar(aes(ymin=ci$ymin,ymax=ci$ymax),width=0.5)+\n",
    "  scale_y_continuous(breaks = seq(1,7,by=1), expand = c(0,0))+\n",
    "  scale_fill_grey(start=.25,end=.75)+\n",
    "  coord_cartesian(ylim = c(1, 7)) +\n",
    "  ylab('Mean ± 95% CI')+\n",
    "  xlab('Gender')+\n",
    "  theme_MusicScience()\n",
    "print(ex6)"
   ]
  },
  {
   "cell_type": "markdown",
   "metadata": {
    "id": "vL-pgIhef1oV"
   },
   "source": [
    "\n",
    "### Ch6_Ex07.R\n",
    "\n",
    "Create four different kinds of visual summaries of the data (density plot, boxplot, histogram overlaid with raw observations, and violin plot with mean and median annotated).\n"
   ]
  },
  {
   "cell_type": "code",
   "execution_count": null,
   "metadata": {
    "id": "DyUKkOItgFsj"
   },
   "outputs": [],
   "source": [
    "library(dplyr)\n",
    "\n",
    "g1 <- MusicScienceData::sadness %>% \n",
    "  drop_na(ASM1) %>%   # drop missing values \n",
    "  ggplot(aes(x= ASM1,color=gender))+\n",
    "  geom_density(adjust=1.25)+\n",
    "  scale_color_grey(name='Gender')+\n",
    "  scale_x_continuous(breaks = seq(1,7,by=1))+\n",
    "  ggtitle('ASM 1')+\n",
    "  ylab('Density')+\n",
    "  theme_bw()+\n",
    "  theme(legend.justification=c(1,0), legend.position=c(0.95,0.75))+\n",
    "  theme(plot.title = element_text(size=11))+\n",
    "  theme_MusicScience()\n",
    "\n",
    "tmp <- as_tibble(MusicScienceData::sadness)\n",
    "tmp2<-tmp[,c(3,7:10)]\n",
    "dfl <- pivot_longer(tmp2,cols = c(2:5))\n",
    "\n",
    "g2 <- dfl %>% \n",
    "  drop_na(value) %>%   # drop missing values \n",
    "  ggplot(aes(x=name,y = value,fill=gender))+\n",
    "  geom_boxplot(outlier.shape =\"\")+\n",
    "  scale_y_continuous(breaks = seq(1,7,by=1))+\n",
    "  scale_x_discrete()+\n",
    "  scale_fill_grey(start = .75, end=.25, name=\"Gender\")+\n",
    "  ggtitle('ASM items 1 to 4')+\n",
    "  ylab('1 = Strongly disagree, 7 = Strongly agree')+\n",
    "  xlab('Item')+\n",
    "  theme_bw()+\n",
    "  theme(legend.justification=c(1,0), legend.position=c(0.95,0.70))+\n",
    "  theme_MusicScience()\n",
    "\n",
    "g3 <- MusicScienceData::sadness %>% \n",
    "  drop_na(ASM12) %>%   # drop missing values \n",
    "  ggplot(aes(x=1,y = ASM12))+\n",
    "  geom_boxplot(fill='gray70')+\n",
    "  geom_jitter(alpha=0.13,colour='black', width = 0.33)+\n",
    "  ggtitle('ASM 12')+\n",
    "  scale_y_continuous(breaks = seq(1,7,by=1))+\n",
    "  scale_x_discrete()+  \n",
    "  ylab('1 = Strongly disagree, 7 = Strongly agree')+\n",
    "  xlab('ASM12')+\n",
    "  theme_MusicScience()\n",
    "\n",
    "g4 <- MusicScienceData::sadness %>% \n",
    "  drop_na(ASM13) %>%   # drop missing values \n",
    "  ggplot(aes(x=1,y = ASM13))+\n",
    "  geom_violin(fill='grey70',adjust=1.2,alpha=0.50)+\n",
    "  scale_y_continuous(breaks = seq(1,7,by=1))+\n",
    "  scale_x_discrete()+  \n",
    "  stat_summary(fun = median, fun.min = median, fun.max = median,\n",
    "               geom = \"crossbar\", width = 0.9)+\n",
    "  stat_summary(fun = mean, fun.min = mean, fun.max = mean,\n",
    "               geom = \"crossbar\", width = 0.9,colour='gray50')+\n",
    "  ggtitle('ASM 13')+\n",
    "  annotate(\"text\",x=1.6,y=mean(MusicScienceData::sadness$ASM13,na.rm = TRUE),label='Mean',hjust=0,family = \"CMU Serif\")+\n",
    "  annotate(\"text\",x=1.6,y=median(MusicScienceData::sadness$ASM13,na.rm = TRUE),label='Median',hjust=0,family = \"CMU Serif\")+\n",
    "  ylab('1 = Strongly disagree, 7 = Strongly agree')+\n",
    "  xlab('ASM13')+\n",
    "  theme_MusicScience()\n",
    "\n",
    "ex7 <- plot_grid(g1,g2,g3,g4,labels = \"AUTO\",ncol = 2, nrow = 2)\n",
    "print(ex7)\n"
   ]
  },
  {
   "cell_type": "markdown",
   "metadata": {
    "id": "eFkegMzYZZUx"
   },
   "source": [
    "### Ch6_Ex08.R\n",
    "Means and confidence intervals of survey answers to the question ASM20 across men and women."
   ]
  },
  {
   "cell_type": "code",
   "execution_count": null,
   "metadata": {
    "id": "CBYtAqudZb3X"
   },
   "outputs": [],
   "source": [
    "ex8 <- MusicScienceData::sadness %>% \n",
    "  drop_na(ASM20) %>%   # drop missing values \n",
    "  group_by(gender) %>%\n",
    "  summarise(mean= mean(ASM20),ci = mean_cl_normal(ASM20)) %>%\n",
    "  ggplot(aes(x = gender,y = mean,fill=gender))+\n",
    "  geom_col(colour='black',show.legend = FALSE)+\n",
    "  geom_errorbar(aes(ymin=ci$ymin,ymax=ci$ymax),width=0.5)+\n",
    "  scale_y_continuous(breaks = seq(1,7,by=1), expand = c(0,0))+\n",
    "  scale_fill_grey(start=.25,end=.75)+\n",
    "  coord_cartesian(ylim = c(1, 7)) +\n",
    "  ggtitle(MusicScienceData::sadness_ASM_labels[20])+\n",
    "  ylab('Mean')+\n",
    "  xlab('Gender')+\n",
    "  theme_MusicScience()\n",
    "print(ex8)"
   ]
  },
  {
   "cell_type": "markdown",
   "metadata": {
    "id": "pzJNz6Vtu8pi"
   },
   "source": [
    "### Ch6_Ex09.R\n",
    "Means and confidence intervals for the question ASM6 across musical expertise."
   ]
  },
  {
   "cell_type": "code",
   "execution_count": null,
   "metadata": {
    "id": "i9iwyo2fwmoH"
   },
   "outputs": [],
   "source": [
    "tmp <- MusicScienceData::sadness\n",
    "\n",
    "# relabel the expertise levels to have a nicer plot\n",
    "tmp$expert<-factor(tmp$expert)\n",
    "tmp$expert<-factor(tmp$expert,levels=c('Amat.','MusicL','NM','Pro','Semi-pro'),labels=c('Nonmusician','Music-lover','Amateur musician','Semi-pro musician','Professional musician'))\n",
    "\n",
    "options(repr.plot.width = 8, repr.plot.height = 4)\n",
    "ex9 <- tmp %>% \n",
    "  drop_na(ASM6) %>%   # drop missing values \n",
    "  ggplot(aes(x = expert, y = ASM6)) +\n",
    "  stat_summary(fun = \"mean\", geom = \"bar\", alpha = .7) +\n",
    "  stat_summary(fun = \"mean\", geom = \"point\", \n",
    "               size = 1) +\n",
    "  stat_summary(fun.data = \"mean_cl_normal\",\n",
    "               geom = \"errorbar\",\n",
    "               width = .5) +\n",
    "  ylab('Mean Rating ± 95% CI')+\n",
    "  ggtitle(MusicScienceData::sadness_ASM_labels[6])+\n",
    "  scale_x_discrete(labels=function(x){sub(\"\\\\s\", \"\\n\", x)},name=\"Musical Expertise\")+\n",
    "  coord_cartesian(ylim = c(1, 7)) +\n",
    "  scale_y_continuous(breaks = 1:7, expand = c(0,0))+\n",
    "  theme_MusicScience()\n",
    "print(ex9)"
   ]
  },
  {
   "cell_type": "markdown",
   "metadata": {},
   "source": [
    "## Ch06_Ex10.R\n",
    "Create a table of counts (N), Means, and confidence intervals for the question ASM20 across a factor (Gender)."
   ]
  },
  {
   "cell_type": "code",
   "execution_count": null,
   "metadata": {
    "id": "7vWd6QNPwrnH"
   },
   "outputs": [],
   "source": [
    "table1 <- tmp %>%\n",
    "  drop_na(ASM20) %>%   # drop missing values \n",
    "  group_by(gender) %>%\n",
    "  summarise(n=n(),mean_cl_normal(ASM20))\n",
    "colnames(table1)<-c('Gender','N','M','95% CI LL','95% CI UL')\n",
    "knitr::kable(table1,digits = 2)  "
   ]
  },
  {
   "cell_type": "markdown",
   "metadata": {},
   "source": [
    "The same as a barplot with confidence intervals."
   ]
  },
  {
   "cell_type": "code",
   "execution_count": null,
   "metadata": {
    "id": "v5R6n0wUw68P"
   },
   "outputs": [],
   "source": [
    "g1 <- MusicScienceData::sadness %>% \n",
    "  drop_na(ASM20) %>%   # drop missing values \n",
    "  group_by(gender) %>%\n",
    "  summarise(mean= mean(ASM20),ci = mean_cl_normal(ASM20)) %>%\n",
    "  ggplot(aes(x = gender,y = mean,fill=gender))+\n",
    "  geom_col(colour='black',show.legend = FALSE)+\n",
    "  geom_errorbar(aes(ymin=ci$ymin,ymax=ci$ymax),width=0.5)+\n",
    "  scale_y_continuous(breaks = seq(1,7,by=1), expand = c(0,0))+\n",
    "  scale_fill_grey(start=.25,end=.75)+\n",
    "  coord_cartesian(ylim = c(1, 7)) +\n",
    "  ggtitle(MusicScienceData::sadness_ASM_labels[20])+\n",
    "  ylab('Mean')+\n",
    "  xlab('Gender')+\n",
    "  theme_MusicScience()\n",
    "g1\n"
   ]
  },
  {
   "cell_type": "markdown",
   "metadata": {
    "id": "BsqLQnOFvBph"
   },
   "source": [
    "## Ch6_Ex11.R\n",
    "Scatter plot example with an existing data."
   ]
  },
  {
   "cell_type": "code",
   "execution_count": null,
   "metadata": {
    "id": "iYH0wWJyvFN_"
   },
   "outputs": [],
   "source": [
    "ex10 <- ggplot(soundtrack) +\n",
    "  aes(x = Valence, y = Tension, colour = TARGET_EMOTION,\n",
    "      label=Number,\n",
    "      shape= TARGET_FRAMEWORK) +\n",
    "  geom_point(size=4,alpha=0.80,show.legend=FALSE) +\n",
    "  coord_fixed(ratio = 1)+\n",
    "  geom_smooth(aes(shape = NULL,colour=NULL),method=\"lm\", \n",
    "              formula='y ~x',se=FALSE, fullrange=TRUE, \n",
    "              level=0.95, colour='grey50',\n",
    "              linetype='dashed',show.legend = FALSE)+\n",
    "  geom_text(show.legend=FALSE,color='white',size=1.7)+\n",
    "  scale_colour_grey(name='Emotion',start = .6,end = 0)+  \n",
    "  scale_shape(name='Framework')+  \n",
    "  scale_x_continuous(breaks=seq(1,9,by=2),limits=c(1,9))+\n",
    "  scale_y_continuous(breaks=seq(1,9,by=2),limits=c(1,9))+\n",
    "  theme_MusicScience()\n",
    "print(ex10)"
   ]
  },
  {
   "cell_type": "markdown",
   "metadata": {},
   "source": [
    "## References\n",
    "\n",
    "* Armitage, J. & Eerola, T. (2020). Reaction Time Data in Music Cognition: A Comparison of Pilot Data Sets from Lab, Crowdsourced and Convenience Web Samples. _Frontiers in Psychology_. https://doi.org/10.3389/fpsyg.2019.02883\n",
    "\n",
    "* Eerola, T. & Peltola, H.-R. (2016). Memorable Experiences with Sad Music: Reasons, Reactions and Mechanisms of Three Types of Experiences. _PlosOne, 11(6)_, e0157444. http://dx.doi.org/10.1371/journal.pone.0157444\n",
    "\n",
    "* Eerola, T. & Vuoskoski, J. K. (2011). A comparison of the discrete and dimensional models of emotion in music. _Psychology of Music, 39(1)_, 18-49. https://doi.org/10.1177/0305735610362821\n",
    "\n",
    "---\n",
    "[Back to Index](https://github.com/tuomaseerola/emr)\n"
   ]
  }
 ],
 "metadata": {
  "colab": {
   "collapsed_sections": [],
   "include_colab_link": true,
   "name": "Chapter_06.ipynb",
   "private_outputs": true,
   "provenance": [],
   "toc_visible": true
  },
  "kernelspec": {
   "display_name": "R",
   "language": "R",
   "name": "ir"
  },
  "language_info": {
   "codemirror_mode": "r",
   "file_extension": ".r",
   "mimetype": "text/x-r-source",
   "name": "R",
   "pygments_lexer": "r",
   "version": "3.6.0"
  },
  "vscode": {
   "interpreter": {
    "hash": "1b0a897f6220f296ab5a80a33ecc8b4695202609f91736a31f1b599aeb1415d2"
   }
  }
 },
 "nbformat": 4,
 "nbformat_minor": 1
}

{
 "cells": [
  {
   "cell_type": "markdown",
   "id": "596717f5",
   "metadata": {},
   "source": ["XXX"]
  },
  {
   "cell_type": "markdown",
   "id": "e27e8387",
   "metadata": {},
   "source": [
    "<a href=\"https://colab.research.google.com/github/tuomaseerola/emr/blob/master/Chapter6.ipynb\" target=\"_parent\"><img src=\"https://colab.research.google.com/assets/colab-badge.svg\" alt=\"Open In Colab\"/></a>"
   ]
  },
 {
   "cell_type": "markdown",
   "id": "2ccbac5a",
   "metadata": {
    "id": "2ccbac5a"
   },
   "source": [
    "# Chapter 6 Code (Using R)\n",
    "\n",
    "A Jupyter notebook with **code examples in R** for _Chapter 6_ of _Routlegde_ book titled **[How to Conduct Empirical Music Research](https://github.com/tuomaseerola/emr)** by [Tuomas Eerola](https://www.durham.ac.uk/staff/tuomas-eerola/), [Music and Science Lab]() at [Durham University](https://www.durham.ac.uk) and [Music and Science Lab](https://musicscience.net) scheduled to be published in 2023.\n",
    "\n",
    "To run the code in your browser, open the file in Colab (click the icon \"Open in Colab\"). Alternatively, you can download the notebook and run it locally.\n",
    "\n",
    "This notebook demonstrates how to use R.\n",
    "\n",
    "File `Chapter6.1.ipynb` | Version `29/9/2022` | [Back to Index](https://github.com/tuomaseerola/emr)\n",
    "\n",
    "---"
   ]
  },
  {
   "cell_type": "markdown",
   "id": "a88f2dc7",
   "metadata": {
    "id": "a88f2dc7"
   },
   "source": [
    "# Using R and RStudio\n",
    "\n",
    "There are plenty of tools for data analysis and statistics available. I will only consider those that are open source and free to use as this is the only way to guarantee that people are able to access the tools. Sadly some fine tools such as _SPSS_, _JMP_, _Minitab_, _SAS_, or _Stata_ don't fulfil these principles. _R_ and _RStudio_, _JASP_, _Jamovi_ and _Python_ (made better with libraries such as _scipy_) and some others are free and open source software that have become common research tools in empirical sciences. In addition to being free and easily available, they have excellent capacities to share the analysis workflow and some have tools to ensure replicability over years and different versions. I will focus on _R_ in the statistical analysis and explain why I think this is a good option for analysis empirical data."
   ]
  },
  {
   "cell_type": "markdown",
    "metadata": {
    "id": "a88f2dc1"
   },
   "source": [
    "<img src=\"https://d33wubrfki0l68.cloudfront.net/1ac3f0e3753f18c7e2a8893957d1841fba1e3d08/48a33/wp-content/uploads/2018/10/rstudio-logo-flat.png\" width=\"400\">"
   ]
  },
  {
   "cell_type": "markdown",
    "metadata": {
    "id": "a38f2dc1"
   },
   "source": [
    "## Why use R?\n",
    "\n",
    "R is a versatile environment for analysing any data. It is interactive and suits well for casual exploration of data that comes in many different forms (numbers, text strings) and different shapes (long and wide data). What is even more important in R is that it is fundamentally based on scripts that serve as a blueprint of the analysis you have done and allows you, or anyone else, to replicate your analyses simply by running the same script. R is also:\n",
    "\n",
    "1. Free and open source.\n",
    "2. It works well on all operating systems: Windows, Mac Os, UNIX/Linux.\n",
    "3. the Community of R users is broad and active and for this reason the resources for learning and asking questions are impressive and well-developed (see Appendix).\n",
    "4. It already has several music-specific tools (e.g., `incon`,`gm`,`hrep` libraries) and datasets (`MusicScienceData`).\n",
    "5. It is excellent for any statistical analysis.\n",
    "\n",
    "Here is a quick tutorial for using R, but I would also recommend [Getting Started with R](https://support.posit.co/hc/en-us/articles/201141096-Getting-Started-with-R) and [The Basics](https://posit.cloud/learn/primers/1) guides by the company who brings us RStudio ([Posit](https://posit.co/)).\n"
   ]
  }
 ],
 "metadata": {
  "kernelspec": {
   "display_name": "R",
   "language": "R",
   "name": "ir"
  },
  "language_info": {
   "codemirror_mode": "r",
   "file_extension": ".r",
   "mimetype": "text/x-r-source",
   "name": "R",
   "pygments_lexer": "r",
   "version": "3.6.0"
  }
 },
 "nbformat": 4,
 "nbformat_minor": 5
}
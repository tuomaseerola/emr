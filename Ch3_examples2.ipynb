{
 "cells": [
  {
   "cell_type": "markdown",
   "id": "8f1d7c6c",
   "metadata": {},
   "source": [
    "<a href=\"https://colab.research.google.com/github/tuomaseerola/emr/blob/master/Ch3_examples.ipynb\" target=\"_parent\"><img src=\"https://colab.research.google.com/assets/colab-badge.svg\" alt=\"Open In Colab\"/></a>"
   ]
  },
  {
   "cell_type": "markdown",
   "id": "7aee88b5",
   "metadata": {},
   "source": [
    "# Chapter 3 Code Examples\n",
    "\n",
    "A Jupyter notebook with **code examples in R** for _Chapter 3_ of _Routlegde_ book titled **[How to Conduct Empirical Music Research](https://github.com/tuomaseerola/emr)** by [Tuomas Eerola](https://www.durham.ac.uk/staff/tuomas-eerola/), [Music and Science Lab]() at [Durham University](https://www.durham.ac.uk) and [Music and Science Lab](https://musicscience.net) scheduled to be published in 2023.\n",
    "\n",
    "To run the code in your browser, open the file in Colab (click the icon \"Open in Colab\"). Alternatively, you can download the notebook and run it locally.\n",
    "\n",
    "This notebook demonstrates how to bring your own csv data into the colab and use them in the analysis and how to save figures or tables within the colab.  \n",
    "\n",
    "File `Ch3_examples.ipynb` | Version `11/9/2022` | [Back to Index](https://github.com/tuomaseerola/emr)\n",
    "\n",
    "---"
   ]
  },
  {
   "cell_type": "markdown",
   "id": "7f28cd42",
   "metadata": {},
   "source": [
    "## Load libraries"
   ]
  },
  {
   "cell_type": "code",
   "execution_count": null,
   "id": "eb12b50c",
   "metadata": {},
   "outputs": [],
   "source": [
    "# install.packages(\"devtools\")\n",
    "devtools::install_github(\"tuomaseerola/MusicScienceData\")\n",
    "library(ggplot2,quietly = TRUE)\n",
    "library(tidyverse,quietly = TRUE)"
   ]
  },
  {
   "cell_type": "markdown",
   "id": "f7f4d508",
   "metadata": {},
   "source": [
    "### Ch1_Ex01.R\n",
    "This is the first figure. "
   ]
  },
  {
   "cell_type": "code",
   "execution_count": null,
   "id": "a730c987",
   "metadata": {},
   "outputs": [],
   "source": []
  },
  {
   "cell_type": "markdown",
   "id": "3760317f",
   "metadata": {},
   "source": [
    "## References\n"
   ]
  }
 ],
 "metadata": {
  "kernelspec": {
   "display_name": "R",
   "language": "R",
   "name": "ir"
  },
  "language_info": {
   "codemirror_mode": "r",
   "file_extension": ".r",
   "mimetype": "text/x-r-source",
   "name": "R",
   "pygments_lexer": "r",
   "version": "3.6.0"
  }
 },
 "nbformat": 4,
 "nbformat_minor": 5
}

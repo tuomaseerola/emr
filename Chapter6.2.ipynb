{
 "cells": [
  {
   "cell_type": "markdown",
   "id": "e27e8387",
   "metadata": {},
   "source": [
    "<a href=\"https://colab.research.google.com/github/tuomaseerola/emr/blob/master/Chapter6.ipynb\" target=\"_parent\"><img src=\"https://colab.research.google.com/assets/colab-badge.svg\" alt=\"Open In Colab\"/></a>"
   ]
  },
  {
   "cell_type": "markdown",
   "id": "596717f5",
   "metadata": {},
   "source": [
    "# Chapter 6 - Data Organisation\n",
    "\n",
    "A Jupyter notebook with code examples in R for _Chapter 6_ of _Routledge_ book titled **[Music and Science – Guide to Empirical Music Research ](https://github.com/tuomaseerola/emr)** by [Tuomas Eerola](https://www.durham.ac.uk/staff/tuomas-eerola/), [Music and Science Lab]() at [Durham University](https://www.durham.ac.uk) and [Music and Science Lab](https://musicscience.net) scheduled to be published in 2023.\n",
    "\n",
    "To run the code in your browser, open the file in Colab (click the icon \"Open in Colab\"). Alternatively, you can download the notebook and run it locally.\n",
    "\n",
    "This notebook demonstrates Data Diagnostics and Summaries.\n",
    "\n",
    "File `Chapter6.2.ipynb` | Version `11/9/2022` | [Back to Index](https://tuomaseerola.github.io/emr/)\n",
    "\n",
    "---"
   ]
  },
  {
   "cell_type": "markdown",
   "id": "6ef86a10",
   "metadata": {},
   "source": [
    "This repository contains R template for analysing data from experiments and surveys and justification to follow certain conventions and structures. This document is available as a rendered html at https://tuomaseerola.github.io/R_template/.\n",
    "\n",
    "You can check out the slides about reproducible research or see R_template in action which uses a (too) complex behavioural dataset to clarify the steps of the process."
   ]
  },
  {
   "cell_type": "markdown",
   "id": "a167c9cb",
   "metadata": {},
   "source": [
    "## Organisation\n",
    "\n",
    "For each project, you should establish one repository that you can clone/share using appropriate service (such as Github, Gitlab, or other services, even Dropbox works for collaborations). Name the repository with a compact but informative name (`chord_priming` or `emotion_recognition5`) that separates it from the potential other projects.\n",
    "\n",
    "Within this repository, it is a good idea to establish separate folders for separate elements:\n",
    "\n",
    "* `/data` Data in read-only format (preferably CSV or TSV format)\n",
    "* `/munge` All operations to pre-process, recode, or trim data\n",
    "* `/scr` All actual R scripts used in the analysis\n",
    "* `/figures` Outputs from the scripts (optional if use reporting languages)\n",
    "* `/docs` Outputs from the reports (optional if use reporting languages)\n",
    "\n",
    "In this repository, `contents.R` is the file that compiles the full analysis and allows you to reproduce evertyhing in R. Alternatively this file can Rmarkdown file, which is neat analysis and reporting format or even Quarto document, which is more advanced version of this. Nevertheless, the summary document contains all the stages, structures and processes of the project. This is structured to be executed in a coherent order and manner (i.e., loading, transforming, screening the data, and then visualising, applying statistical analyses, creating figures, and tables). \n",
    "\n",
    "`report.Rmd` will create the report that incorporates comments and the actual analyses and produces either html or pdf file (`report.html`, `report.pdf`) in the `docs` folder.\n",
    "\n",
    "### Data\n",
    "\n",
    "Typically the data is in CSV (comma-separated values) or TSV (tab-separated values) as this is the output from most experiment software solutions and also easily exported from Qualtrics, psychophysiological measures and so on. Sometimes the data might be in Excel format, which can also be read easily into R, and I would advice against large amount of edits in Excel as you would lose the ability to tell what has been changed and why. **The rule is that we never edit or manipulate or fix or alter the raw data**, no matter what the format is. \n",
    "\n",
    "It is good to store the raw original data with time stamps to the data folder and if you get a newer datasets or more observations, you add a new data file to the data folder with a new timestamp and keep the old one for reference. There are situations when the data has excess observations (pilot participants), typos and other issues, but it is easier and more transparent to handle these in the processing (munging) stage.\n",
    "\n",
    "### Munging\n",
    "\n",
    "Munging refers to preprocessing the raw data to be useful for the actual analysis. Often this means relabelling the names of the variables (columns) and possibly recoding the observations (as numeric responses or as factors). It is also very typical to pivot the data from wide format (numerous variables in columns) to long format so the key variables contain all manipulations.\n",
    "\n",
    "### Scripts\n",
    "\n",
    "Often you develop the analysis in stages, starting with some form of quality control and moving onto descriptives and then inferential statistics. For enhanced clarity and debugging, it is a good idea to develop these as separate scripts (and also possibly as functions) and store them in the scripts folder. The production of tables and figures can also be explicitly done with separate scripts."
   ]
  },
  {
   "cell_type": "markdown",
   "id": "2506649c",
   "metadata": {},
   "source": [
    "In the end, you should have one file (that I call `contents.R`) that is able to produce the full analysis from reading the data, preprocessing the data, calculating quality control indicators, summarising the data, producing the analyses and creating tables and figures."
   ]
  },
  {
   "cell_type": "markdown",
   "id": "06aad90b",
   "metadata": {},
   "source": [
    "## Example repository and template analysis\n",
    "\n",
    "Proceed to either a fuller explanation of the process at [https://tuomaseerola.github.io/R_template/](https://tuomaseerola.github.io/R_template/) or check the quarto slides about [R_template in action](https://tuomaseerola.github.io/R_template/R_template_in_action.html) to explore the steps of the analysis process. \n",
    "\n",
    "#### Initialise the analysis\n",
    "Start R and open up the `contents.R` file using your preferred editor. Check that the directory after the first command setwd is pointing the location of your analysis directory and run the first lines of the code:"
   ]
  },
  {
   "cell_type": "code",
   "execution_count": 4,
   "id": "ab827778",
   "metadata": {},
   "outputs": [],
   "source": [
    "# contents.R\n",
    "\n",
    "## INITIALISE: LOAD LIBRARIES\n",
    "library(tidyverse,quietly = TRUE)                    # Loads the necessary R libraries"
   ]
  },
  {
   "cell_type": "markdown",
   "id": "f2a6e337",
   "metadata": {},
   "source": [
    "If you get errors at this stage with new installation of R, they might refer to the special libraries that were loaded or installed in libraries.R. This script should install the required libraries for you such as ggplot2, but there might be issues with your particular setup.\n",
    "\n",
    "#### Load, preprocess and diagnose the data\n",
    "Next, it is time to load the data with a scripts, the first one read_data_survey.R is simply reading an TSV file exported from Qualtrics stored in data folder. I’ve taken the second, descriptive header row out of the data to simply the process, but different datasets will have slightly different structures."
   ]
  },
  {
   "cell_type": "code",
   "execution_count": 6,
   "id": "ace23cf6",
   "metadata": {},
   "outputs": [
    {
     "name": "stdout",
     "output_type": "stream",
     "text": [
      "N x Variables:119 131"
     ]
    }
   ],
   "source": [
    "## READ data\n",
    "source('scr/read_data_survey.R')      # Produces data frame v "
   ]
  },
  {
   "cell_type": "markdown",
   "id": "5db5873b",
   "metadata": {},
   "source": [
    "This should retrieve a data frame into a variable called v in R, which contains a complex data frame. In the next step this raw data will be munged, that is, pre-processed in several ways. Pre-processing can have multiple steps, here these have broken into two:\n",
    "\n",
    "First operation carries out a long list of renaming the variables (columns in the data, rename_variables.R). This can be avoided if the data has these names already, and it is quite useful to try to embed meaningful variables names to the data collection (experiment or survey or manual coding).\n",
    "\n",
    "Recoding instruments (recode_instruments.R) has several steps and it might be useful to study the steps separately. Finally the responses are reshaped into a form called long-form that is better suited for the analyses. This dataframe will be called df."
   ]
  },
  {
   "cell_type": "code",
   "execution_count": 7,
   "id": "4a064ca9",
   "metadata": {},
   "outputs": [
    {
     "name": "stdout",
     "output_type": "stream",
     "text": [
      "[1] \"Raw data: N= 119 and 108 variables\"\n",
      "[1] \"Trimmed data: N= 91\"\n"
     ]
    }
   ],
   "source": [
    "## MUNGE data (preprocess, recode, etc.)\n",
    "source('munge/rename_variables.R')        # Renames the columns of the v\n",
    "source('munge/recode_instruments.R')      # Produces df (long-form) from v"
   ]
  },
  {
   "cell_type": "markdown",
   "id": "db97f680",
   "metadata": {},
   "source": [
    "After the munging, it is prudent to check various aspects of the data.\n",
    "\n",
    "1. Descriptives such as the N, age, gender are echoed in order to remind us of the dataset properties (`demographics_info.R`).\n",
    "\n",
    "2. We can also explore the consistency of the ratings across the people to check whether people agreed on the ratings and generally understood the task (`interrater_reliability.R`).\n",
    "\n",
    "3. We also want to look at the distributions of the collected data in order to learn whether one needs to use certain operations (transformations or resort to non-parametric statistics) in the subsequent analyses (visualise.R). This step will also include displaying correlations between the emotion scales which is a useful operation to learn about the overlap of the concepts used in the tasks."
   ]
  },
  {
   "cell_type": "code",
   "execution_count": 8,
   "id": "ec08a0f2",
   "metadata": {},
   "outputs": [
    {
     "name": "stdout",
     "output_type": "stream",
     "text": [
      "[1] \"N = 91\"\n",
      "[1] \"Mean age 34.99\"\n",
      "[1] \"SD age 15.86\"\n",
      "[1] \"Youngest 18 years\"\n",
      "[1] \"Oldest 71 years\"\n",
      "\n",
      "  Male Female  Other \n",
      "    23     67      1 \n",
      "\n",
      "             NonMusician Music-Loving NonMusician                  Amateur \n",
      "                      13                       44                       15 \n",
      "Serious Amateur Musician                 Semi-Pro                      Pro \n",
      "                      11                        6                        2 \n",
      "\n",
      "Nonmusician    Musician \n",
      "         57          34 \n"
     ]
    }
   ],
   "source": [
    "## DIAGNOSE and VISUALISE data\n",
    "source('scr/demographics_info.R')     # Reports N, Age and other details"
   ]
  },
  {
   "cell_type": "code",
   "execution_count": null,
   "id": "e46bd27a",
   "metadata": {},
   "outputs": [],
   "source": []
  }
 ],
 "metadata": {
  "kernelspec": {
   "display_name": "R",
   "language": "R",
   "name": "ir"
  },
  "language_info": {
   "codemirror_mode": "r",
   "file_extension": ".r",
   "mimetype": "text/x-r-source",
   "name": "R",
   "pygments_lexer": "r",
   "version": "4.2.0"
  }
 },
 "nbformat": 4,
 "nbformat_minor": 5
}

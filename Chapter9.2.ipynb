{
 "cells": [
  {
   "cell_type": "markdown",
   "metadata": {
    "colab_type": "text",
    "id": "view-in-github"
   },
   "source": [
    "<a href=\"https://colab.research.google.com/github/tuomaseerola/emr/blob/main/Chapter9.2.ipynb\" target=\"_parent\"><img src=\"https://colab.research.google.com/assets/colab-badge.svg\" alt=\"Open In Colab\"/></a>"
   ]
  },
  {
   "cell_type": "markdown",
   "metadata": {
    "id": "WTO_mMkGJCci"
   },
   "source": [
    "# Chapter 9 Code\n",
    "\n",
    "A Jupyter notebook with code examples in Python for _Chapter 9 (Score Analysis)_ of _Routlegde_ book titled **[How to Conduct Empirical Music Research](https://github.com/tuomaseerola/emr)** by [Tuomas Eerola](https://www.durham.ac.uk/staff/tuomas-eerola/), [Music and Science Lab]() at [Durham University](https://www.durham.ac.uk) and [Music and Science Lab](https://musicscience.net) scheduled to be published in 2023.\n",
    "\n",
    "To run the code in your browser, open the file in **Colab** (click the icon \"Open in Colab\"). Alternatively, you can download the notebook and run it locally.\n",
    "\n",
    "> File `Chapter9.2.ipynb` | \n",
    "> Version `14/9/2022` |\n",
    "> [Back to Index](https://github.com/tuomaseerola/emr)\n",
    "\n",
    "---"
   ]
  },
  {
   "cell_type": "markdown",
   "metadata": {
    "id": "ro3ITnbsq1xQ"
   },
   "source": [
    "### Install Music21 and other elements needed to run the environment\n",
    "Press play and wait for all commands to be executed - this initial command might take some time as it needs to build the musi21 environment."
   ]
  },
  {
   "cell_type": "code",
   "execution_count": null,
   "metadata": {
    "id": "c332sbnEq0qR"
   },
   "outputs": [],
   "source": [
    "!pip install --upgrade music21\n",
    "!add-apt-repository ppa:mscore-ubuntu/mscore-stable -y\n",
    "!apt-get update\n",
    "!apt-get install musescore\n",
    "!apt-get install xvfb\n",
    "!sh -e /etc/init.d/x11-common start\n",
    "import os\n",
    "os.putenv('DISPLAY', ':99.0')\n",
    "!start-stop-daemon --start --pidfile /var/run/xvfb.pid --make-pidfile --background --exec /usr/bin/Xvfb -- :99 -screen 0 1024x768x24 -ac +extension GLX +render -noreset\n",
    "from music21 import *\n",
    "us = environment.UserSettings()\n",
    "us['musescoreDirectPNGPath'] = '/usr/bin/mscore'\n",
    "us['directoryScratch'] = '/tmp'"
   ]
  },
  {
   "cell_type": "markdown",
   "metadata": {
    "id": "7MFTtlxQqh0R"
   },
   "source": [
    "## Ch6_Ex01.py\n",
    "Harmonic and metrical analysis of an example excerpt (`bach/bwv30.6`) using `music21`."
   ]
  },
  {
   "cell_type": "code",
   "execution_count": 1,
   "metadata": {
    "id": "r3LSkxYNS5nY"
   },
   "outputs": [
    {
     "ename": "ModuleNotFoundError",
     "evalue": "No module named 'music21'",
     "output_type": "error",
     "traceback": [
      "\u001b[0;31m---------------------------------------------------------------------------\u001b[0m",
      "\u001b[0;31mModuleNotFoundError\u001b[0m                       Traceback (most recent call last)",
      "Input \u001b[0;32mIn [1]\u001b[0m, in \u001b[0;36m<cell line: 1>\u001b[0;34m()\u001b[0m\n\u001b[0;32m----> 1\u001b[0m \u001b[38;5;28;01mfrom\u001b[39;00m \u001b[38;5;21;01mmusic21\u001b[39;00m \u001b[38;5;28;01mimport\u001b[39;00m \u001b[38;5;241m*\u001b[39m                     \u001b[38;5;66;03m# activate library\u001b[39;00m\n\u001b[1;32m      2\u001b[0m \u001b[38;5;28;01mimport\u001b[39;00m \u001b[38;5;21;01mpandas\u001b[39;00m \u001b[38;5;28;01mas\u001b[39;00m \u001b[38;5;21;01mpd\u001b[39;00m\n\u001b[1;32m      3\u001b[0m \u001b[38;5;28;01mimport\u001b[39;00m \u001b[38;5;21;01mseaborn\u001b[39;00m \u001b[38;5;28;01mas\u001b[39;00m \u001b[38;5;21;01msns\u001b[39;00m\n",
      "\u001b[0;31mModuleNotFoundError\u001b[0m: No module named 'music21'"
     ]
    }
   ],
   "source": [
    "from music21 import *                     # activate library\n",
    "import pandas as pd\n",
    "import seaborn as sns\n",
    "import matplotlib.pyplot as plt"
   ]
  },
  {
   "cell_type": "code",
   "execution_count": null,
   "metadata": {},
   "outputs": [],
   "source": [
    "# Define pieces\n",
    "# These two piece are related, same piece, different harmonisation\n",
    "bwv110_7 = corpus.parse('bach/bwv110.7.xml') # bwv110.7\n",
    "bwv40_3 = corpus.parse('bach/bwv40.3.xml')"
   ]
  },
  {
   "cell_type": "code",
   "execution_count": null,
   "metadata": {},
   "outputs": [],
   "source": [
    "k = bwv110_7.analyze('key')\n",
    "print(k)\n",
    "i = interval.Interval(k.tonic, pitch.Pitch('C'))\n",
    "print(i)\n",
    "bwv110_7 = bwv110_7.transpose(i)\n",
    "\n",
    "k = bwv40_3.analyze('key')\n",
    "print(k)\n",
    "i = interval.Interval(k.tonic, pitch.Pitch('C'))\n",
    "print(i)\n",
    "bwv40_3 = bwv40_3.transpose(i)\n",
    "\n",
    "print('====== Transposed')\n",
    "t = bwv110_7.analyze('key')\n",
    "print(t)\n",
    "t = bwv40_3.analyze('key')\n",
    "print(t)\n"
   ]
  },
  {
   "cell_type": "code",
   "execution_count": null,
   "metadata": {},
   "outputs": [],
   "source": [
    "# pitch-class\n",
    "pcCount = analysis.pitchAnalysis.pitchAttributeCount(bwv110_7, 'pitchClass')\n",
    "pc = range(0, 12)\n",
    "pitchclass = ('C', 'C#', 'D', 'D#', 'E', 'F', 'F#', 'G', 'G#', 'A', 'A#', 'B')\n",
    "l_pcCount = [[i, pcCount[i]]for i in pc]\n",
    "d = pd.DataFrame(data=l_pcCount, columns=['pc_nro', 'count'])\n",
    "d['Percentage'] = d['count'] / sum(d['count'])\n",
    "d[\"Pitch-Class\"] = pitchclass\n",
    "d[\"Piece\"] = 'BWV 110/7'\n",
    "\n",
    "pcCount2 = analysis.pitchAnalysis.pitchAttributeCount(bwv40_3, 'pitchClass')\n",
    "l_pcCount2 = [[i, pcCount2[i]]for i in pc]\n",
    "d2 = pd.DataFrame(data=l_pcCount2, columns=['pc_nro', 'count'])\n",
    "d2['Percentage'] = d2['count'] / sum(d2['count'])\n",
    "d2[\"Pitch-Class\"] = pitchclass\n",
    "d2[\"Piece\"] = 'BWV 40/3'\n",
    "\n",
    "PC = pd.concat([d, d2])"
   ]
  },
  {
   "cell_type": "code",
   "execution_count": null,
   "metadata": {},
   "outputs": [],
   "source": [
    "# intervals\n",
    "df=[]\n",
    "df2=[]\n",
    "counts = dict()  # add empty dictionary\n",
    "for x in range(-12, 13):\n",
    "   counts[x] = 0\n",
    "print(list(range(-12, 13)))\n",
    "for part in bwv110_7.recurse().parts:\n",
    "   p = part.recurse(classFilter=('Note', 'Rest'))  # this is ok but loses rests\n",
    "   intervalStream1 = p.melodicIntervals(skipOctaves=True,skipRests=True)\n",
    "   items = []\n",
    "   for i in intervalStream1.recurse():\n",
    "      items.append(i.semitones)\n",
    "   for j in items:\n",
    "      counts[j] = counts.get(j, 0) + 1\n",
    "\n",
    "df = pd.DataFrame({'Interval': list(counts.keys()),\n",
    "                   'Counts': list(counts.values())})\n",
    "df['Percentage'] = df['Counts'] / sum(df['Counts'])\n",
    "df[\"Piece\"] = 'BWV 110/7'\n",
    "\n",
    "for part in bwv40_3.recurse().parts:\n",
    "   p = part.recurse(classFilter=('Note', 'Rest'))  # this is ok but loses rests\n",
    "   intervalStream1 = p.melodicIntervals()\n",
    "   items = []\n",
    "   for i in intervalStream1.recurse():\n",
    "      items.append(i.semitones)\n",
    "   for j in items:\n",
    "      counts[j] = counts.get(j, 0) + 1\n",
    "\n",
    "df2 = pd.DataFrame({'Interval': list(counts.keys()),\n",
    "                   'Counts': list(counts.values())})\n",
    "df2['Percentage'] = df2['Counts'] / sum(df2['Counts'])\n",
    "df2[\"Piece\"] = 'BWV 40/3'\n",
    "\n",
    "IV = pd.concat([df, df2])"
   ]
  },
  {
   "cell_type": "code",
   "execution_count": null,
   "metadata": {},
   "outputs": [],
   "source": [
    "# durations\n",
    "\n",
    "part = bwv110_7.recurse().parts\n",
    "p = part.recurse()\n",
    "durCount = analysis.elements.attributeCount(p, 'quarterLength')\n",
    "du = pd.DataFrame({'Duration': list(durCount.keys()),\n",
    "                    'Counts': list(durCount.values())})\n",
    "du['Percentage'] = du['Counts'] / sum(du['Counts'])\n",
    "\n",
    "filter = (du['Duration'] < 10)\n",
    "du = du[filter]\n",
    "filter = (du['Duration'] >= 0.25)\n",
    "du = du[filter]\n",
    "du[\"Piece\"] = 'BWV 110/7'\n",
    "\n",
    "part = bwv40_3.recurse().parts\n",
    "p = part.recurse()\n",
    "durCount = analysis.elements.attributeCount(p, 'quarterLength')\n",
    "du2 = pd.DataFrame({'Duration': list(durCount.keys()),\n",
    "                    'Counts': list(durCount.values())})\n",
    "du2['Percentage'] = du2['Counts'] / sum(du2['Counts'])\n",
    "\n",
    "filter = (du2['Duration'] < 10)\n",
    "du2 = du2[filter]\n",
    "filter = (du2['Duration'] >= 0.25)\n",
    "du2 = du2[filter]\n",
    "du2[\"Piece\"] = 'BWV 40/3'\n",
    "\n",
    "DU = pd.concat([du, du2])"
   ]
  },
  {
   "cell_type": "code",
   "execution_count": null,
   "metadata": {},
   "outputs": [],
   "source": [
    "# Plot all three\n",
    "\n",
    "sns.set_theme()\n",
    "sns.set_style(\"whitegrid\")\n",
    "colors = [\"#b8b6b6\", \"#636362\"]\n",
    "customPalette = sns.set_palette(sns.color_palette(colors))\n",
    "sns.set_palette(customPalette)\n",
    "\n",
    "plt.rcParams[\"figure.figsize\"] = [5.6, 8.0]\n",
    "plt.rcParams[\"figure.autolayout\"] = True\n",
    "\n",
    "f, axes = plt.subplots(3, 1)\n",
    "g = sns.barplot(x='Pitch-Class', y='Percentage', data=PC,\n",
    "            orient='v', ax=axes[0], hue='Piece')\n",
    "g.legend_.remove()\n",
    "axes[0].text(11, 0.18, \"$\\chi^2=7.2, p=0.70$\", horizontalalignment='right', size='x-small', color='black')\n",
    "\n",
    "bar_plot = sns.barplot(x='Interval', y='Percentage',\n",
    "                       data=IV, orient='v', ax=axes[1], hue='Piece')\n",
    "for index, label in enumerate(bar_plot.get_xticklabels()):\n",
    "   if index % 2 == 1:\n",
    "      label.set_visible(True)\n",
    "   else:\n",
    "      label.set_visible(False)\n",
    "\n",
    "axes[1].text(25, 0.12, \"$\\chi^2=17.2, p=0.37$\", horizontalalignment='right', size='x-small', color='black')\n",
    "\n",
    "h = sns.barplot(x='Duration', y='Percentage', data=DU,\n",
    "            orient='v', ax=axes[2], hue='Piece')\n",
    "\n",
    "axes[2].text(5.25, 0.45, \"$\\chi^2=3.9, p=0.55$\", horizontalalignment='right', size = 'x-small', color='black')\n",
    "\n",
    "h.legend_.remove()\n",
    "plt.show()"
   ]
  },
  {
   "cell_type": "code",
   "execution_count": null,
   "metadata": {},
   "outputs": [],
   "source": [
    "## Calculate statistics\n",
    "from scipy import stats\n",
    "import numpy as np\n",
    "#from scipy.stats import chi2_contingency\n",
    "\n",
    "print('====== PC: Chi square test =====')\n",
    "\n",
    "PC2 = PC.pivot(index='pc_nro', columns='Piece', values='count')\n",
    "PC2['Sum'] = PC2.sum(axis=1)\n",
    "PC3 = PC2[PC2.Sum != 0]\n",
    "print(PC3)\n",
    "obs2 = np.array([PC3['BWV 110/7'], PC3['BWV 40/3']])\n",
    "#obs2 = [PC3['BWV 110/7'], PC3['BWV 40/3']]\n",
    "\n",
    "print(obs2)\n",
    "print('====Chi square===')\n",
    "c, p, dof, exp = stats.chi2_contingency(obs2)\n",
    "print(c)\n",
    "print(p)\n",
    "print(dof)\n",
    "\n",
    "print('====== IV: Chi square test =====')\n",
    "IV2 = IV.pivot(index='Interval', columns='Piece', values='Counts')\n",
    "IV2['Sum'] = IV2.sum(axis=1)\n",
    "IV3 = IV2[IV2.Sum != 0]\n",
    "obs2 = np.array([IV3['BWV 110/7'], IV3['BWV 40/3']])\n",
    "print(obs2)\n",
    "print('====Chi square===')\n",
    "c, p, dof, exp = stats.chi2_contingency(obs2)\n",
    "print(c)\n",
    "print(p)\n",
    "print(dof)\n",
    "\n",
    "print('====== DUR: Chi square test =====')\n",
    "print(DU)\n",
    "DU2 = DU.pivot(index='Duration', columns='Piece', values='Counts')\n",
    "DU2 = DU2.replace(np.nan,0)\n",
    "DU2['Sum'] = DU2.sum(axis=1)\n",
    "print(DU2)\n",
    "DU3 = DU2[DU2.Sum != 0]\n",
    "\n",
    "obs2 = np.array([DU3['BWV 110/7'], DU3['BWV 40/3']])\n",
    "print(obs2)\n",
    "print('====Chi square===')\n",
    "c, p, dof, exp = stats.chi2_contingency(obs2)\n",
    "print(c)\n",
    "print(p)\n",
    "print(dof)\n"
   ]
  }
 ],
 "metadata": {
  "colab": {
   "collapsed_sections": [],
   "include_colab_link": true,
   "name": "Ch8_ScoreAnalysis.ipynb",
   "private_outputs": true,
   "provenance": []
  },
  "kernelspec": {
   "display_name": "Python 3 (ipykernel)",
   "language": "python",
   "name": "python3"
  },
  "language_info": {
   "codemirror_mode": {
    "name": "ipython",
    "version": 3
   },
   "file_extension": ".py",
   "mimetype": "text/x-python",
   "name": "python",
   "nbconvert_exporter": "python",
   "pygments_lexer": "ipython3",
   "version": "3.8.10"
  },
  "vscode": {
   "interpreter": {
    "hash": "1b0a897f6220f296ab5a80a33ecc8b4695202609f91736a31f1b599aeb1415d2"
   }
  }
 },
 "nbformat": 4,
 "nbformat_minor": 1
}

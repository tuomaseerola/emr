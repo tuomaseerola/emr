{
 "cells": [
  {
   "cell_type": "markdown",
   "id": "e27e8387",
   "metadata": {},
   "source": [
    "<a href=\"https://colab.research.google.com/github/tuomaseerola/emr/blob/master/Ch1_examples.ipynb\" target=\"_parent\"><img src=\"https://colab.research.google.com/assets/colab-badge.svg\" alt=\"Open In Colab\"/></a>"
   ]
  },
  {
   "cell_type": "markdown",
   "id": "596717f5",
   "metadata": {},
   "source": [
    "# Online materials\n",
    "\n",
    "A Jupyter notebook of _Routlegde_ book titled **[How to Conduct Empirical Music Research](https://github.com/tuomaseerola/emr)** by [Tuomas Eerola](https://www.durham.ac.uk/staff/tuomas-eerola/), [Music and Science Lab]() at [Durham University](https://www.durham.ac.uk) and [Music and Science Lab](https://musicscience.net) scheduled to be published in 2023.\n",
    "\n",
    "This notebook gives links to online sources related to R and Python and statistics with complete online examples..\n",
    "\n",
    "File `Online_materials.ipynb` | Version `17/12/2022` | [Back to Index](https://github.com/tuomaseerola/emr)\n",
    "\n",
    "---"
   ]
  },
  {
   "cell_type": "markdown",
   "id": "6ef86a10",
   "metadata": {},
   "source": [
    "## Online Tutorials (R and Python)\n",
    "\n",
    "[An Introduction to R](http://cran.r-project.org/doc/manuals/r-release/R-intro.html)\n",
    ": The official guidance from _The Comprehensive R Archive Network (CRAN)_. May not be always the most compelling introduction but exhaustive at least.\n",
    "\n",
    "[Quick-R](http://www.statmethods.net)\n",
    ": Really good source of R examples for almost all operations (manipulation, representation, functions, syntax, stats, figures, etc.).\n",
    "\n",
    "[R tutorials](http://www.cyclismo.org/tutorial/R/)\n",
    ": Another fairly clear collection of tutorials.\n",
    "\n",
    "[RStudio online learning pages](http://www.rstudio.com/resources/training/online-learning/#R)\n",
    ": [R Studio](http://www.rstudio.com) is fancy and great visual GUI on top of the R for all platforms and they have released very useful documentations, tutorials, demos, etc.\n",
    "\n",
    "[Advanced R](http://adv-r.had.co.nz)\n",
    ": Author of the best packages, Hadley Wickham, has created this resource (book and online version).\n",
    "\n",
    "## Statistics Handbooks with complete R scripts (online)\n",
    "\n",
    "[Practical Regression and Anova using R](http://cran.r-project.org/doc/contrib/Faraway-PRA.pdf)\n",
    ":  A handbook of the basic statistical operations written by Julian Faraway.\n",
    "\n",
    "[Data Analysis and Graphics Using R - An Example-Based Approach](http://maths-people.anu.edu.au/~johnm/r-book/daagur3.html)\n",
    ": Handbook in 3rd printing, written by John Maindonald and John Braun. This source contains exercises, slides, the scripts for all graphs of the book, etc.\n",
    "\n",
    "## Other Online Resources\n",
    "\n",
    "[R blogger](http://www.r-bloggers.com)\n",
    ": Multipurpose source for news and latest issues in R.\n",
    "\n",
    "[Collection of Resources at CRAN](http://cran.r-project.org/other-docs.html)\n",
    ": Large collection of different resources (e.g. R for Matlab-minded, Fitting Distributions with R, Reference Cards, Data-mining with R, and so on).\n",
    "\n",
    "[R Documentation](http://www.rdocumentation.org)\n",
    ": Searchable online documentation\n",
    "\n",
    "[StackOverflow](http://stackoverflow.com/questions/tagged/r)\n",
    ": Forum of questions and answers about computer programming, including R. Contains over 120,000 questions related to R.\n",
    "\n"
   ]
  },
  {
   "cell_type": "code",
   "execution_count": 2,
   "outputs": [],
   "source": [],
   "metadata": {
    "collapsed": false
   }
  }
 ],
 "metadata": {
  "kernelspec": {
   "display_name": "R",
   "language": "R",
   "name": "ir"
  },
  "language_info": {
   "codemirror_mode": "r",
   "file_extension": ".r",
   "mimetype": "text/x-r-source",
   "name": "R",
   "pygments_lexer": "r",
   "version": "3.6.0"
  }
 },
 "nbformat": 4,
 "nbformat_minor": 5
}

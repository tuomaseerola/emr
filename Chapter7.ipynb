{
 "cells": [
  {
   "cell_type": "markdown",
   "id": "59fbaa4c",
   "metadata": {},
   "source": [
    "<a href=\"https://colab.research.google.com/github/tuomaseerola/emr/blob/master/Chapter7.ipynb\" target=\"_parent\"><img src=\"https://colab.research.google.com/assets/colab-badge.svg\" alt=\"Open In Colab\"/></a>"
   ]
  },
  {
   "cell_type": "markdown",
   "id": "2ccbac5a",
   "metadata": {},
   "source": [
    "# Chapter 7 Statistical Analysis\n",
    "\n",
    "A Jupyter notebook with **code examples in R** for _Chapter 7_ of _Routledge_ book titled **[How to Conduct Empirical Music Research](https://github.com/tuomaseerola/emr)** by [Tuomas Eerola](https://www.durham.ac.uk/staff/tuomas-eerola/), [Music and Science Lab]() at [Durham University](https://www.durham.ac.uk) and [Music and Science Lab](https://musicscience.net) scheduled to be published in 2023.\n",
    "\n",
    "To run the code in your browser, open the file in Colab (click the icon \"Open in Colab\"). Alternatively, you can download the notebook and run it locally.\n",
    "\n",
    "This notebook demonstrates running inferential statistical tests in R.\n",
    "\n",
    "File `Chapter7.ipynb` | Version `29/9/2022` | [Back to Index](https://github.com/tuomaseerola/emr)\n",
    "\n",
    "---"
   ]
  },
  {
   "cell_type": "markdown",
   "id": "a88f2dc7",
   "metadata": {},
   "source": [
    "## Preliminaries\n",
    "Load libraries and install `MusicScienceData` package where the example data is stored."
   ]
  },
  {
   "cell_type": "code",
   "execution_count": 1,
   "id": "fe13c2f5",
   "metadata": {
    "vscode": {
     "languageId": "r"
    }
   },
   "outputs": [
    {
     "name": "stderr",
     "output_type": "stream",
     "text": [
      "── \u001B[1mAttaching packages\u001B[22m ─────────────────────────────────────── tidyverse 1.3.2 ──\n",
      "\u001B[32m✔\u001B[39m \u001B[34mtibble \u001B[39m 3.1.8      \u001B[32m✔\u001B[39m \u001B[34mdplyr  \u001B[39m 1.0.10\n",
      "\u001B[32m✔\u001B[39m \u001B[34mtidyr  \u001B[39m 1.2.1      \u001B[32m✔\u001B[39m \u001B[34mstringr\u001B[39m 1.4.1 \n",
      "\u001B[32m✔\u001B[39m \u001B[34mreadr  \u001B[39m 2.1.3      \u001B[32m✔\u001B[39m \u001B[34mforcats\u001B[39m 0.5.2 \n",
      "\u001B[32m✔\u001B[39m \u001B[34mpurrr  \u001B[39m 0.3.5      \n",
      "── \u001B[1mConflicts\u001B[22m ────────────────────────────────────────── tidyverse_conflicts() ──\n",
      "\u001B[31m✖\u001B[39m \u001B[34mdplyr\u001B[39m::\u001B[32mfilter()\u001B[39m masks \u001B[34mstats\u001B[39m::filter()\n",
      "\u001B[31m✖\u001B[39m \u001B[34mdplyr\u001B[39m::\u001B[32mlag()\u001B[39m    masks \u001B[34mstats\u001B[39m::lag()\n",
      "Loading required package: devtools\n",
      "\n",
      "Loading required package: usethis\n",
      "\n"
     ]
    }
   ],
   "source": [
    "library(ggplot2,quietly = TRUE)\n",
    "library(tidyverse,quietly = TRUE)\n",
    "if (!require(devtools)) install.packages(\"devtools\",quiet=TRUE)\n",
    "devtools::install_github(\"tuomaseerola/MusicScienceData@main\",quiet=TRUE)\n",
    "library(MusicScienceData,quiet=TRUE)"
   ]
  },
  {
   "cell_type": "markdown",
   "id": "32ccd68f",
   "metadata": {},
   "source": [
    "## Code 7.1\n",
    "See text for the explanation."
   ]
  },
  {
   "cell_type": "code",
   "execution_count": 4,
   "id": "410e7953",
   "metadata": {
    "vscode": {
     "languageId": "r"
    }
   },
   "outputs": [
    {
     "name": "stdout",
     "output_type": "stream",
     "text": [
      "        t \n",
      "-5.054596 \n",
      "[1] \"<0.001\"\n"
     ]
    },
    {
     "data": {
      "text/html": "<table class=\"dataframe\">\n<caption>A tibble: 2 × 3</caption>\n<thead>\n\t<tr><th scope=col>gender</th><th scope=col>M</th><th scope=col>SD</th></tr>\n\t<tr><th scope=col>&lt;fct&gt;</th><th scope=col>&lt;dbl&gt;</th><th scope=col>&lt;dbl&gt;</th></tr>\n</thead>\n<tbody>\n\t<tr><td>Female</td><td>4.587983</td><td>1.369222</td></tr>\n\t<tr><td>Male  </td><td>4.960494</td><td>1.244163</td></tr>\n</tbody>\n</table>\n",
      "text/markdown": "\nA tibble: 2 × 3\n\n| gender &lt;fct&gt; | M &lt;dbl&gt; | SD &lt;dbl&gt; |\n|---|---|---|\n| Female | 4.587983 | 1.369222 |\n| Male   | 4.960494 | 1.244163 |\n\n",
      "text/latex": "A tibble: 2 × 3\n\\begin{tabular}{lll}\n gender & M & SD\\\\\n <fct> & <dbl> & <dbl>\\\\\n\\hline\n\t Female & 4.587983 & 1.369222\\\\\n\t Male   & 4.960494 & 1.244163\\\\\n\\end{tabular}\n",
      "text/plain": "  gender M        SD      \n1 Female 4.587983 1.369222\n2 Male   4.960494 1.244163"
     },
     "metadata": {},
     "output_type": "display_data"
    }
   ],
   "source": [
    "df <- MusicScienceData::sadness         # define data\n",
    "t <- t.test(ASM20 ~ gender, data=df)    # t test\n",
    "print(t$statistic)                      # show the t value\n",
    "\n",
    "print(scales::pvalue(t$p.value))\n",
    "dplyr::summarise(dplyr::group_by(df, gender), # means and SDs\n",
    "                 M=mean(ASM20,na.rm=TRUE),\n",
    "                 SD=sd(ASM20,na.rm=TRUE))\n"
   ]
  },
  {
   "cell_type": "markdown",
   "id": "0e49e784",
   "metadata": {},
   "source": [
    "## Code 7.2"
   ]
  },
  {
   "cell_type": "code",
   "execution_count": 5,
   "id": "73d92091",
   "metadata": {
    "vscode": {
     "languageId": "r"
    }
   },
   "outputs": [
    {
     "name": "stdout",
     "output_type": "stream",
     "text": [
      "              Df Sum Sq Mean Sq F value  Pr(>F)   \n",
      "age            5   29.9   5.986   3.321 0.00548 **\n",
      "Residuals   1564 2819.4   1.803                   \n",
      "---\n",
      "Signif. codes:  0 ‘***’ 0.001 ‘**’ 0.01 ‘*’ 0.05 ‘.’ 0.1 ‘ ’ 1\n",
      "7 observations deleted due to missingness\n"
     ]
    }
   ],
   "source": [
    "df <- MusicScienceData::sadness         # define data\n",
    "model.aov <- aov(ASM20 ~ age, data=df)  # run anova\n",
    "F <- summary(model.aov)                 # summarise\n",
    "print(F)\n"
   ]
  },
  {
   "cell_type": "markdown",
   "source": [
    "## Code 7.3"
   ],
   "metadata": {
    "collapsed": false
   }
  },
  {
   "cell_type": "code",
   "execution_count": 6,
   "outputs": [
    {
     "name": "stdout",
     "output_type": "stream",
     "text": [
      "\n",
      "\n",
      "Table: Comparison of age groups \n",
      "                   for Item 20 in ASM survey.\n",
      "\n",
      "                       diff      lwr     upr   p adj\n",
      "------------------  -------  -------  ------  ------\n",
      "25 to 34-18 to 24     0.133   -0.133   0.399   0.713\n",
      "35 to 44-18 to 24     0.232   -0.062   0.525   0.214\n",
      "45 to 54-18 to 24     0.244   -0.088   0.576   0.289\n",
      "55 to 64-18 to 24     0.493    0.107   0.879   0.004\n",
      "65 to 74-18 to 24     0.418   -0.221   1.057   0.423\n",
      "35 to 44-25 to 34     0.099   -0.174   0.371   0.906\n",
      "45 to 54-25 to 34     0.111   -0.202   0.425   0.914\n",
      "55 to 64-25 to 34     0.360   -0.011   0.731   0.063\n",
      "65 to 74-25 to 34     0.285   -0.344   0.915   0.789\n",
      "45 to 54-35 to 44     0.013   -0.324   0.349   1.000\n",
      "55 to 64-35 to 44     0.261   -0.129   0.652   0.396\n",
      "65 to 74-35 to 44     0.186   -0.455   0.828   0.962\n",
      "55 to 64-45 to 54     0.249   -0.172   0.669   0.540\n",
      "65 to 74-45 to 54     0.174   -0.486   0.834   0.975\n",
      "65 to 74-55 to 64    -0.075   -0.764   0.614   1.000\n"
     ]
    }
   ],
   "source": [
    "TABLE<-TukeyHSD(model.aov,conf.level = 0.95)\n",
    "print(knitr::kable(TABLE$age,digits = 3,\n",
    "                   caption = 'Comparison of age groups\n",
    "                   for Item 20 in ASM survey.',\n",
    "                   format = 'simple'))\n"
   ],
   "metadata": {
    "collapsed": false
   }
  },
  {
   "cell_type": "markdown",
   "source": [
    "## Code 7.4"
   ],
   "metadata": {
    "collapsed": false
   }
  },
  {
   "cell_type": "code",
   "execution_count": 7,
   "outputs": [
    {
     "name": "stdout",
     "output_type": "stream",
     "text": [
      "              Df Sum Sq Mean Sq F value  Pr(>F)    \n",
      "age            5   29.9    5.99   3.377 0.00488 ** \n",
      "gender         1   45.7   45.69  25.773 4.3e-07 ***\n",
      "age:gender     5   11.5    2.31   1.303 0.25997    \n",
      "Residuals   1558 2762.1    1.77                    \n",
      "---\n",
      "Signif. codes:  0 ‘***’ 0.001 ‘**’ 0.01 ‘*’ 0.05 ‘.’ 0.1 ‘ ’ 1\n",
      "7 observations deleted due to missingness\n"
     ]
    }
   ],
   "source": [
    "df <- MusicScienceData::sadness                   # define data\n",
    "model2.aov <- aov(ASM20 ~ age * gender, data=df)  # run anova\n",
    "F2 <- summary(model2.aov)\n",
    "print(F2)\n"
   ],
   "metadata": {
    "collapsed": false
   }
  },
  {
   "cell_type": "markdown",
   "source": [
    "## Code 7.5"
   ],
   "metadata": {
    "collapsed": false
   }
  },
  {
   "cell_type": "code",
   "execution_count": 8,
   "outputs": [
    {
     "name": "stderr",
     "output_type": "stream",
     "text": [
      "Warning message in file(file, \"rt\"):\n",
      "“cannot open file 'raw_ratings.csv': No such file or directory”\n"
     ]
    },
    {
     "ename": "ERROR",
     "evalue": "Error in file(file, \"rt\"): cannot open the connection\n",
     "output_type": "error",
     "traceback": [
      "Error in file(file, \"rt\"): cannot open the connection\nTraceback:\n",
      "1. read.csv(\"raw_ratings.csv\")",
      "2. read.table(file = file, header = header, sep = sep, quote = quote, \n .     dec = dec, fill = fill, comment.char = comment.char, ...)",
      "3. file(file, \"rt\")"
     ]
    }
   ],
   "source": [
    "d <- read.csv('https://github.com/tuomaseerola/emr/blob/main/data/raw_ratings.csv') #\n",
    "d2 <- dplyr::filter(d,Emotion=='Dimensional')  #\n",
    "d3 <- dplyr::filter(d2, Category=='Anger' |\n",
    "  Category=='Fear' |\n",
    "  Category=='Happy' |\n",
    "  Category=='Sad' |\n",
    "  Category=='Tender')\n",
    "library(lme4)\n",
    "library(lmerTest)\n",
    "m1 <- lmer(Valence ~ Category * Gender + (1|id) + (1|Track), data = d3)\n",
    "s <- summary(m1,corr=FALSE)\n",
    "S<-s$coefficients; S<-round(S,2); S[,5]<-scales::pvalue(S[,5])\n",
    "print(knitr::kable(S,format = 'simple',\n",
    "                   caption = 'LMM results of Valence ratings.'))\n"
   ],
   "metadata": {
    "collapsed": false
   }
  },
  {
   "cell_type": "markdown",
   "source": [
    "## Code 7.6"
   ],
   "metadata": {
    "collapsed": false
   }
  },
  {
   "cell_type": "code",
   "execution_count": null,
   "outputs": [],
   "source": [
    "S <- d %>%\n",
    "  filter(Category=='Sad') %>%\n",
    "  group_by(Category,Gender) %>%\n",
    "  summarise(M=mean(Valence,na.rm=T),SD=sd(Valence,na.rm=T),\n",
    "            .groups = 'drop')\n",
    "print(S)\n"
   ],
   "metadata": {
    "collapsed": false
   }
  }
 ],
 "metadata": {
  "kernelspec": {
   "display_name": "R",
   "language": "R",
   "name": "ir"
  },
  "language_info": {
   "codemirror_mode": "r",
   "file_extension": ".r",
   "mimetype": "text/x-r-source",
   "name": "R",
   "pygments_lexer": "r",
   "version": "3.6.0"
  }
 },
 "nbformat": 4,
 "nbformat_minor": 5
}

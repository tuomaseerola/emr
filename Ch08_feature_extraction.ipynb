{
  "cells": [
    {
      "cell_type": "markdown",
      "metadata": {
        "colab_type": "text",
        "id": "view-in-github"
      },
      "source": [
        "<a href=\"https://colab.research.google.com/github/tuomaseerola/emr/blob/main/Ch08_feature_extraction.ipynb\" target=\"_parent\"><img src=\"https://colab.research.google.com/assets/colab-badge.svg\" alt=\"Open In Colab\"/></a>"
      ]
    },
    {
      "cell_type": "markdown",
      "metadata": {
        "id": "3FE_SHpghGUm"
      },
      "source": [
        "# Example feature extraction\n",
        "Grab audio files and extract interesting features from them.\n",
        "\n",
        "EMR book draft."
      ]
    },
    {
      "cell_type": "code",
      "execution_count": null,
      "metadata": {
        "id": "qezibENxf2NT"
      },
      "outputs": [],
      "source": [
        "import numpy as np\n",
        "import librosa\n",
        "import librosa.display\n",
        "from tqdm import tqdm\n",
        "import pandas as pd\n",
        "import os\n",
        "import csv\n",
        "import sys\n",
        "import warnings\n",
        "warnings.filterwarnings('ignore')\n"
      ]
    },
    {
      "cell_type": "markdown",
      "metadata": {
        "id": "qgImlIikf5mW"
      },
      "source": [
        "## Get files straight from OSF\n",
        "Get all 110 audio in the OSF project https://osf.io/yn7vg which are stored in the file `Set2.zip`."
      ]
    },
    {
      "cell_type": "code",
      "execution_count": null,
      "metadata": {
        "id": "4j0HJxxaf7pO"
      },
      "outputs": [],
      "source": [
        "# Fetch Set 2 mp3 files (110)\n",
        "!pip install osfclient\n",
        "!osf -p p6vkg fetch Set2.zip"
      ]
    },
    {
      "cell_type": "code",
      "execution_count": null,
      "metadata": {
        "id": "CdyDqJowf9B1"
      },
      "outputs": [],
      "source": [
        "# unzip the archive\n",
        "!unzip -oq Set2.zip"
      ]
    },
    {
      "cell_type": "markdown",
      "metadata": {
        "id": "ohS7iSk6f_Eu"
      },
      "source": [
        "## Prepare output file"
      ]
    },
    {
      "cell_type": "code",
      "execution_count": null,
      "metadata": {
        "id": "ZVymb1yIgBF1"
      },
      "outputs": [],
      "source": [
        "# Prepare the extraction by writing the output file header.\n",
        "\n",
        "SR=22050\n",
        "\n",
        "# Write header\n",
        "header = [\"File\", \"RMS\", \"sp_centr\", \"spec_bw\", \"spec_rolloff\", \"spec_zcr\", \"MFCC1\", \"MFCC2\", \"MFCC3\", \"MFCC4\", \"MFCC5\", \"MFCC6\", \"MFCC7\", \"MFCC8\", \"MFCC9\", \"MFCC10\", \"MFCC11\", \"MFCC12\", \"MFCC13\", \"MFCC14\", \"MFCC15\", \"MFCC16\", \"MFCC17\", \"MFCC18\", \"MFCC19\", \"MFCC20\"]\n",
        "f = open(\"dataset_feature.csv\", \"w\")\n",
        "writer = csv.DictWriter(f, fieldnames=header)\n",
        "writer.writeheader()\n",
        "f.close()"
      ]
    },
    {
      "cell_type": "markdown",
      "metadata": {
        "id": "lBGy2c3ChWxY"
      },
      "source": [
        "## Extract features"
      ]
    },
    {
      "cell_type": "code",
      "execution_count": null,
      "metadata": {
        "id": "i3_3Cq1ygE7m"
      },
      "outputs": [],
      "source": [
        "sourcefolder=\"set2\"\n",
        "import natsort\n",
        "dirlist = os.listdir(sourcefolder)\n",
        "dirlists = natsort.natsorted(dirlist,reverse=False)\n",
        "for fn in tqdm(dirlists): # \"dataset/\"\n",
        "    if (fn[-3:] != \"mp3\"):\n",
        "        continue\n",
        "    y, sr = librosa.load(os.path.join(sourcefolder,fn), sr=SR, mono=True)\n",
        "    arr = list(y)\n",
        "    arr.insert(0, fn)\n",
        "    chroma_stft = librosa.feature.chroma_stft(y=y, sr=sr)\n",
        "    rmse = librosa.feature.rms(y=y)\n",
        "    spec_cent = librosa.feature.spectral_centroid(y=y, sr=sr)\n",
        "    spec_bw = librosa.feature.spectral_bandwidth(y=y, sr=sr)\n",
        "    rolloff = librosa.feature.spectral_rolloff(y=y, sr=sr)\n",
        "    zcr = librosa.feature.zero_crossing_rate(y)\n",
        "    mfcc = librosa.feature.mfcc(y=y, sr=sr)\n",
        "    to_append = f'{fn} {np.mean(rmse)} {np.mean(spec_cent)} {np.mean(spec_bw)} {np.mean(rolloff)} {np.mean(zcr)}' # {np.mean(chroma_stft)}\n",
        "    for e in mfcc:\n",
        "        to_append += f' {np.mean(e)}'\n",
        "\n",
        "    file = open('dataset_feature.csv', 'a', newline='')\n",
        "    with file:\n",
        "        writer2 = csv.writer(file)\n",
        "        writer2.writerow(to_append.split())\n",
        "\n"
      ]
    },
    {
      "cell_type": "code",
      "execution_count": null,
      "metadata": {
        "id": "KtLhaVAbhfVV"
      },
      "outputs": [],
      "source": [
        "# read file and plot descriptives\n",
        "d=pd.read_csv('dataset_feature.csv')\n",
        "d.head()"
      ]
    },
    {
      "cell_type": "code",
      "execution_count": null,
      "metadata": {
        "id": "ruO_f7C3i1uf"
      },
      "outputs": [],
      "source": [
        "d.boxplot(column='RMS')"
      ]
    }
  ],
  "metadata": {
    "colab": {
      "authorship_tag": "ABX9TyP6RzxGuS7KAgNXPmDwdC/d",
      "include_colab_link": true,
      "private_outputs": true,
      "provenance": []
    },
    "kernelspec": {
      "display_name": "Python 3",
      "name": "python3"
    },
    "language_info": {
      "name": "python"
    }
  },
  "nbformat": 4,
  "nbformat_minor": 0
}
